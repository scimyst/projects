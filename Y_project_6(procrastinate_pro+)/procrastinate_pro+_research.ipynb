{
 "cells": [
  {
   "cell_type": "markdown",
   "id": "ede21c04",
   "metadata": {},
   "source": [
    "# Исследование Procrastinate Pro+"
   ]
  },
  {
   "cell_type": "markdown",
   "id": "0272ca5e",
   "metadata": {},
   "source": [
    "Несмотря на огромные вложения в рекламу, последние несколько месяцев компания терпит убытки. Задача — разобраться в причинах и помочь компании выйти в плюс.\\\n",
    "Необходимо изучить:\n",
    "- откуда приходят пользователи и какими устройствами они пользуются;\n",
    "- сколько стоит привлечение пользователей из различных рекламных каналов;\n",
    "- сколько денег приносит каждый клиент;\n",
    "- когда расходы на привлечение клиента окупаются;\n",
    "- какие факторы мешают привлечению клиентов.\\\n",
    "\\\n",
    "По итогам исследования необходимо составить рекомендации для отдела маркетинга по поводу неэффективности рекламной кампании."
   ]
  },
  {
   "cell_type": "markdown",
   "id": "d7c38e61",
   "metadata": {},
   "source": [
    "## Выводы по оценке окупаемости рекламы\n",
    "`Наиболее проблемными` можно обозначить следующие категории: `самыми дорогими` в привлечении пользователями являются пользователи **iPhone** и **Mac**.\\\n",
    "Очень `дорого` обходится привлечение пользователей из **United States**: `динамика окупаемости` их привлечения практически весь срок находится `ниже линии окупаемости`.\\\n",
    "\\\n",
    "Что касается `источников привлечения`, то `самым дорогим` оказывается **TipTop**, притом график `динамики стоимости привлечения` пользователей через этот источник `коррелирует с графиком затрат на привлечение` пользователей из **United States**. \n",
    "Несмотря на `хорошие показатели графика конверсии` пользователей из **United States**, `график удержания платящих пользователей` демонстрирует `самые низкие показатели`.\\\n",
    "Можно предположить, что `стоимость рекламы` в стране с `первой экономикой в мире` очень высока и поэтому требует больших затрат, однако `качество привлечённых пользователей сильно страдает`.\\\n",
    "\\\n",
    "Также стоит обратить внимание на два источника привлечения пользователей: **FaceBoom** и **AdNonSense**. Несмотря на `отличные показатели конверсии`, `показатели удержания` у данных источников `значительно ниже` других источников.\n",
    "\n",
    "## Рекомендации для отдела маркетинга\n",
    "- Больше `диверсифицировать рекламный бюджет` (**больше 80%** бюджета потрачено на два источника) стоит обратить внимание на **lambdaMediaAds**, **RocketSuperAds** и **WahooNetBanner**.  \n",
    " - Внимательно `проанализировать взаимодействие` с источниками  **FaceBoom** и **AdNonSense**: возможно они каким-то образом `искусственно создают трафик` привлечённых пользователей, так как при `отличных показателях конверсии`, `показатели удержания` изначально `почти в два раза ниже`, чем у других источников, а под конец анализируемого периода `удержание` от этих источников `становится практически нулевым`. \n",
    " - `Оценить целесообразность` использования источника **TipTop**, цена привлечения пользователя в котором `почти в три раза выше`, чем в ближайшем по стоимости источнике.\n",
    " - `Проверить приложение` на технические ошибки для пользователей **Apple**, так как `стоимость их привлечения очень высокая`, а `удержание нет`.\n",
    " - `Обратить дополнительное внимание` на пользователей **PC**: при `низких показателях конверсии` они показывают `высокие результаты по удержанию и окупаемости`.\n",
    " - `Проанализировать рынок`  **United States**: при `очень высокой стоимости привлечения` пользователей из этой страны и `высоких показателях конверсии`, `показатели удержания` находятся `существенно ниже` всех остальных стран. Возможно пользователи из **United States** сталкиваются с техническими трудностями или не учтены культурные особенности данного региона.\n",
    " - Возможно стоит `расширить присутствие` в **Европе**: пользователи из этого региона показывают `хорошие результаты окупаемости и удержания`."
   ]
  },
  {
   "cell_type": "markdown",
   "id": "50378cbb",
   "metadata": {},
   "source": [
    "## Открываем файл с данными и изучаем общую информацию, обрабатываем данные"
   ]
  },
  {
   "cell_type": "code",
   "execution_count": 1,
   "id": "14fbcb8b",
   "metadata": {},
   "outputs": [],
   "source": [
    "# импортируем библиотеки\n",
    "import pandas as pd\n",
    "import seaborn as sns\n",
    "import numpy as np\n",
    "from scipy import stats as st\n",
    "from datetime import datetime, timedelta\n",
    "from matplotlib import pyplot as plt\n",
    "sns.set()"
   ]
  },
  {
   "cell_type": "code",
   "execution_count": 2,
   "id": "145a50e2",
   "metadata": {
    "scrolled": true
   },
   "outputs": [
    {
     "data": {
      "text/html": [
       "<div>\n",
       "<style scoped>\n",
       "    .dataframe tbody tr th:only-of-type {\n",
       "        vertical-align: middle;\n",
       "    }\n",
       "\n",
       "    .dataframe tbody tr th {\n",
       "        vertical-align: top;\n",
       "    }\n",
       "\n",
       "    .dataframe thead th {\n",
       "        text-align: right;\n",
       "    }\n",
       "</style>\n",
       "<table border=\"1\" class=\"dataframe\">\n",
       "  <thead>\n",
       "    <tr style=\"text-align: right;\">\n",
       "      <th></th>\n",
       "      <th>User Id</th>\n",
       "      <th>Region</th>\n",
       "      <th>Device</th>\n",
       "      <th>Channel</th>\n",
       "      <th>Session Start</th>\n",
       "      <th>Session End</th>\n",
       "    </tr>\n",
       "  </thead>\n",
       "  <tbody>\n",
       "    <tr>\n",
       "      <th>0</th>\n",
       "      <td>981449118918</td>\n",
       "      <td>United States</td>\n",
       "      <td>iPhone</td>\n",
       "      <td>organic</td>\n",
       "      <td>2019-05-01 02:36:01</td>\n",
       "      <td>2019-05-01 02:45:01</td>\n",
       "    </tr>\n",
       "    <tr>\n",
       "      <th>1</th>\n",
       "      <td>278965908054</td>\n",
       "      <td>United States</td>\n",
       "      <td>iPhone</td>\n",
       "      <td>organic</td>\n",
       "      <td>2019-05-01 04:46:31</td>\n",
       "      <td>2019-05-01 04:47:35</td>\n",
       "    </tr>\n",
       "    <tr>\n",
       "      <th>2</th>\n",
       "      <td>590706206550</td>\n",
       "      <td>United States</td>\n",
       "      <td>Mac</td>\n",
       "      <td>organic</td>\n",
       "      <td>2019-05-01 14:09:25</td>\n",
       "      <td>2019-05-01 15:32:08</td>\n",
       "    </tr>\n",
       "    <tr>\n",
       "      <th>3</th>\n",
       "      <td>326433527971</td>\n",
       "      <td>United States</td>\n",
       "      <td>Android</td>\n",
       "      <td>TipTop</td>\n",
       "      <td>2019-05-01 00:29:59</td>\n",
       "      <td>2019-05-01 00:54:25</td>\n",
       "    </tr>\n",
       "    <tr>\n",
       "      <th>4</th>\n",
       "      <td>349773784594</td>\n",
       "      <td>United States</td>\n",
       "      <td>Mac</td>\n",
       "      <td>organic</td>\n",
       "      <td>2019-05-01 03:33:35</td>\n",
       "      <td>2019-05-01 03:57:40</td>\n",
       "    </tr>\n",
       "  </tbody>\n",
       "</table>\n",
       "</div>"
      ],
      "text/plain": [
       "        User Id         Region   Device  Channel        Session Start  \\\n",
       "0  981449118918  United States   iPhone  organic  2019-05-01 02:36:01   \n",
       "1  278965908054  United States   iPhone  organic  2019-05-01 04:46:31   \n",
       "2  590706206550  United States      Mac  organic  2019-05-01 14:09:25   \n",
       "3  326433527971  United States  Android   TipTop  2019-05-01 00:29:59   \n",
       "4  349773784594  United States      Mac  organic  2019-05-01 03:33:35   \n",
       "\n",
       "           Session End  \n",
       "0  2019-05-01 02:45:01  \n",
       "1  2019-05-01 04:47:35  \n",
       "2  2019-05-01 15:32:08  \n",
       "3  2019-05-01 00:54:25  \n",
       "4  2019-05-01 03:57:40  "
      ]
     },
     "metadata": {},
     "output_type": "display_data"
    },
    {
     "data": {
      "text/html": [
       "<div>\n",
       "<style scoped>\n",
       "    .dataframe tbody tr th:only-of-type {\n",
       "        vertical-align: middle;\n",
       "    }\n",
       "\n",
       "    .dataframe tbody tr th {\n",
       "        vertical-align: top;\n",
       "    }\n",
       "\n",
       "    .dataframe thead th {\n",
       "        text-align: right;\n",
       "    }\n",
       "</style>\n",
       "<table border=\"1\" class=\"dataframe\">\n",
       "  <thead>\n",
       "    <tr style=\"text-align: right;\">\n",
       "      <th></th>\n",
       "      <th>User Id</th>\n",
       "      <th>Event Dt</th>\n",
       "      <th>Revenue</th>\n",
       "    </tr>\n",
       "  </thead>\n",
       "  <tbody>\n",
       "    <tr>\n",
       "      <th>0</th>\n",
       "      <td>188246423999</td>\n",
       "      <td>2019-05-01 23:09:52</td>\n",
       "      <td>4.99</td>\n",
       "    </tr>\n",
       "    <tr>\n",
       "      <th>1</th>\n",
       "      <td>174361394180</td>\n",
       "      <td>2019-05-01 12:24:04</td>\n",
       "      <td>4.99</td>\n",
       "    </tr>\n",
       "    <tr>\n",
       "      <th>2</th>\n",
       "      <td>529610067795</td>\n",
       "      <td>2019-05-01 11:34:04</td>\n",
       "      <td>4.99</td>\n",
       "    </tr>\n",
       "    <tr>\n",
       "      <th>3</th>\n",
       "      <td>319939546352</td>\n",
       "      <td>2019-05-01 15:34:40</td>\n",
       "      <td>4.99</td>\n",
       "    </tr>\n",
       "    <tr>\n",
       "      <th>4</th>\n",
       "      <td>366000285810</td>\n",
       "      <td>2019-05-01 13:59:51</td>\n",
       "      <td>4.99</td>\n",
       "    </tr>\n",
       "  </tbody>\n",
       "</table>\n",
       "</div>"
      ],
      "text/plain": [
       "        User Id             Event Dt  Revenue\n",
       "0  188246423999  2019-05-01 23:09:52     4.99\n",
       "1  174361394180  2019-05-01 12:24:04     4.99\n",
       "2  529610067795  2019-05-01 11:34:04     4.99\n",
       "3  319939546352  2019-05-01 15:34:40     4.99\n",
       "4  366000285810  2019-05-01 13:59:51     4.99"
      ]
     },
     "metadata": {},
     "output_type": "display_data"
    },
    {
     "data": {
      "text/html": [
       "<div>\n",
       "<style scoped>\n",
       "    .dataframe tbody tr th:only-of-type {\n",
       "        vertical-align: middle;\n",
       "    }\n",
       "\n",
       "    .dataframe tbody tr th {\n",
       "        vertical-align: top;\n",
       "    }\n",
       "\n",
       "    .dataframe thead th {\n",
       "        text-align: right;\n",
       "    }\n",
       "</style>\n",
       "<table border=\"1\" class=\"dataframe\">\n",
       "  <thead>\n",
       "    <tr style=\"text-align: right;\">\n",
       "      <th></th>\n",
       "      <th>dt</th>\n",
       "      <th>Channel</th>\n",
       "      <th>costs</th>\n",
       "    </tr>\n",
       "  </thead>\n",
       "  <tbody>\n",
       "    <tr>\n",
       "      <th>0</th>\n",
       "      <td>2019-05-01</td>\n",
       "      <td>FaceBoom</td>\n",
       "      <td>113.3</td>\n",
       "    </tr>\n",
       "    <tr>\n",
       "      <th>1</th>\n",
       "      <td>2019-05-02</td>\n",
       "      <td>FaceBoom</td>\n",
       "      <td>78.1</td>\n",
       "    </tr>\n",
       "    <tr>\n",
       "      <th>2</th>\n",
       "      <td>2019-05-03</td>\n",
       "      <td>FaceBoom</td>\n",
       "      <td>85.8</td>\n",
       "    </tr>\n",
       "    <tr>\n",
       "      <th>3</th>\n",
       "      <td>2019-05-04</td>\n",
       "      <td>FaceBoom</td>\n",
       "      <td>136.4</td>\n",
       "    </tr>\n",
       "    <tr>\n",
       "      <th>4</th>\n",
       "      <td>2019-05-05</td>\n",
       "      <td>FaceBoom</td>\n",
       "      <td>122.1</td>\n",
       "    </tr>\n",
       "  </tbody>\n",
       "</table>\n",
       "</div>"
      ],
      "text/plain": [
       "           dt   Channel  costs\n",
       "0  2019-05-01  FaceBoom  113.3\n",
       "1  2019-05-02  FaceBoom   78.1\n",
       "2  2019-05-03  FaceBoom   85.8\n",
       "3  2019-05-04  FaceBoom  136.4\n",
       "4  2019-05-05  FaceBoom  122.1"
      ]
     },
     "metadata": {},
     "output_type": "display_data"
    }
   ],
   "source": [
    "# читаем файлы csv\n",
    "visits, orders, costs = (\n",
    "    pd.read_csv('visits_info_short.csv'),  # журнал сессий\n",
    "    pd.read_csv('orders_info_short.csv'),  # заказы\n",
    "    pd.read_csv('costs_info_short.csv'),  # расходы на рекламу\n",
    ")\n",
    "\n",
    "display(visits.head(), orders.head(), costs.head())"
   ]
  },
  {
   "cell_type": "code",
   "execution_count": 3,
   "id": "8e28dca7",
   "metadata": {
    "scrolled": false
   },
   "outputs": [
    {
     "data": {
      "text/html": [
       "<div>\n",
       "<style scoped>\n",
       "    .dataframe tbody tr th:only-of-type {\n",
       "        vertical-align: middle;\n",
       "    }\n",
       "\n",
       "    .dataframe tbody tr th {\n",
       "        vertical-align: top;\n",
       "    }\n",
       "\n",
       "    .dataframe thead th {\n",
       "        text-align: right;\n",
       "    }\n",
       "</style>\n",
       "<table border=\"1\" class=\"dataframe\">\n",
       "  <thead>\n",
       "    <tr style=\"text-align: right;\">\n",
       "      <th></th>\n",
       "      <th>user_id</th>\n",
       "      <th>region</th>\n",
       "      <th>device</th>\n",
       "      <th>channel</th>\n",
       "      <th>session_start</th>\n",
       "      <th>session_end</th>\n",
       "    </tr>\n",
       "  </thead>\n",
       "  <tbody>\n",
       "    <tr>\n",
       "      <th>0</th>\n",
       "      <td>981449118918</td>\n",
       "      <td>United States</td>\n",
       "      <td>iPhone</td>\n",
       "      <td>organic</td>\n",
       "      <td>2019-05-01 02:36:01</td>\n",
       "      <td>2019-05-01 02:45:01</td>\n",
       "    </tr>\n",
       "    <tr>\n",
       "      <th>1</th>\n",
       "      <td>278965908054</td>\n",
       "      <td>United States</td>\n",
       "      <td>iPhone</td>\n",
       "      <td>organic</td>\n",
       "      <td>2019-05-01 04:46:31</td>\n",
       "      <td>2019-05-01 04:47:35</td>\n",
       "    </tr>\n",
       "    <tr>\n",
       "      <th>2</th>\n",
       "      <td>590706206550</td>\n",
       "      <td>United States</td>\n",
       "      <td>Mac</td>\n",
       "      <td>organic</td>\n",
       "      <td>2019-05-01 14:09:25</td>\n",
       "      <td>2019-05-01 15:32:08</td>\n",
       "    </tr>\n",
       "    <tr>\n",
       "      <th>3</th>\n",
       "      <td>326433527971</td>\n",
       "      <td>United States</td>\n",
       "      <td>Android</td>\n",
       "      <td>TipTop</td>\n",
       "      <td>2019-05-01 00:29:59</td>\n",
       "      <td>2019-05-01 00:54:25</td>\n",
       "    </tr>\n",
       "    <tr>\n",
       "      <th>4</th>\n",
       "      <td>349773784594</td>\n",
       "      <td>United States</td>\n",
       "      <td>Mac</td>\n",
       "      <td>organic</td>\n",
       "      <td>2019-05-01 03:33:35</td>\n",
       "      <td>2019-05-01 03:57:40</td>\n",
       "    </tr>\n",
       "  </tbody>\n",
       "</table>\n",
       "</div>"
      ],
      "text/plain": [
       "        user_id         region   device  channel        session_start  \\\n",
       "0  981449118918  United States   iPhone  organic  2019-05-01 02:36:01   \n",
       "1  278965908054  United States   iPhone  organic  2019-05-01 04:46:31   \n",
       "2  590706206550  United States      Mac  organic  2019-05-01 14:09:25   \n",
       "3  326433527971  United States  Android   TipTop  2019-05-01 00:29:59   \n",
       "4  349773784594  United States      Mac  organic  2019-05-01 03:33:35   \n",
       "\n",
       "           session_end  \n",
       "0  2019-05-01 02:45:01  \n",
       "1  2019-05-01 04:47:35  \n",
       "2  2019-05-01 15:32:08  \n",
       "3  2019-05-01 00:54:25  \n",
       "4  2019-05-01 03:57:40  "
      ]
     },
     "metadata": {},
     "output_type": "display_data"
    },
    {
     "data": {
      "text/html": [
       "<div>\n",
       "<style scoped>\n",
       "    .dataframe tbody tr th:only-of-type {\n",
       "        vertical-align: middle;\n",
       "    }\n",
       "\n",
       "    .dataframe tbody tr th {\n",
       "        vertical-align: top;\n",
       "    }\n",
       "\n",
       "    .dataframe thead th {\n",
       "        text-align: right;\n",
       "    }\n",
       "</style>\n",
       "<table border=\"1\" class=\"dataframe\">\n",
       "  <thead>\n",
       "    <tr style=\"text-align: right;\">\n",
       "      <th></th>\n",
       "      <th>user_id</th>\n",
       "      <th>event_dt</th>\n",
       "      <th>revenue</th>\n",
       "    </tr>\n",
       "  </thead>\n",
       "  <tbody>\n",
       "    <tr>\n",
       "      <th>0</th>\n",
       "      <td>188246423999</td>\n",
       "      <td>2019-05-01 23:09:52</td>\n",
       "      <td>4.99</td>\n",
       "    </tr>\n",
       "    <tr>\n",
       "      <th>1</th>\n",
       "      <td>174361394180</td>\n",
       "      <td>2019-05-01 12:24:04</td>\n",
       "      <td>4.99</td>\n",
       "    </tr>\n",
       "    <tr>\n",
       "      <th>2</th>\n",
       "      <td>529610067795</td>\n",
       "      <td>2019-05-01 11:34:04</td>\n",
       "      <td>4.99</td>\n",
       "    </tr>\n",
       "    <tr>\n",
       "      <th>3</th>\n",
       "      <td>319939546352</td>\n",
       "      <td>2019-05-01 15:34:40</td>\n",
       "      <td>4.99</td>\n",
       "    </tr>\n",
       "    <tr>\n",
       "      <th>4</th>\n",
       "      <td>366000285810</td>\n",
       "      <td>2019-05-01 13:59:51</td>\n",
       "      <td>4.99</td>\n",
       "    </tr>\n",
       "  </tbody>\n",
       "</table>\n",
       "</div>"
      ],
      "text/plain": [
       "        user_id             event_dt  revenue\n",
       "0  188246423999  2019-05-01 23:09:52     4.99\n",
       "1  174361394180  2019-05-01 12:24:04     4.99\n",
       "2  529610067795  2019-05-01 11:34:04     4.99\n",
       "3  319939546352  2019-05-01 15:34:40     4.99\n",
       "4  366000285810  2019-05-01 13:59:51     4.99"
      ]
     },
     "metadata": {},
     "output_type": "display_data"
    },
    {
     "data": {
      "text/html": [
       "<div>\n",
       "<style scoped>\n",
       "    .dataframe tbody tr th:only-of-type {\n",
       "        vertical-align: middle;\n",
       "    }\n",
       "\n",
       "    .dataframe tbody tr th {\n",
       "        vertical-align: top;\n",
       "    }\n",
       "\n",
       "    .dataframe thead th {\n",
       "        text-align: right;\n",
       "    }\n",
       "</style>\n",
       "<table border=\"1\" class=\"dataframe\">\n",
       "  <thead>\n",
       "    <tr style=\"text-align: right;\">\n",
       "      <th></th>\n",
       "      <th>dt</th>\n",
       "      <th>channel</th>\n",
       "      <th>costs</th>\n",
       "    </tr>\n",
       "  </thead>\n",
       "  <tbody>\n",
       "    <tr>\n",
       "      <th>0</th>\n",
       "      <td>2019-05-01</td>\n",
       "      <td>FaceBoom</td>\n",
       "      <td>113.3</td>\n",
       "    </tr>\n",
       "    <tr>\n",
       "      <th>1</th>\n",
       "      <td>2019-05-02</td>\n",
       "      <td>FaceBoom</td>\n",
       "      <td>78.1</td>\n",
       "    </tr>\n",
       "    <tr>\n",
       "      <th>2</th>\n",
       "      <td>2019-05-03</td>\n",
       "      <td>FaceBoom</td>\n",
       "      <td>85.8</td>\n",
       "    </tr>\n",
       "    <tr>\n",
       "      <th>3</th>\n",
       "      <td>2019-05-04</td>\n",
       "      <td>FaceBoom</td>\n",
       "      <td>136.4</td>\n",
       "    </tr>\n",
       "    <tr>\n",
       "      <th>4</th>\n",
       "      <td>2019-05-05</td>\n",
       "      <td>FaceBoom</td>\n",
       "      <td>122.1</td>\n",
       "    </tr>\n",
       "  </tbody>\n",
       "</table>\n",
       "</div>"
      ],
      "text/plain": [
       "           dt   channel  costs\n",
       "0  2019-05-01  FaceBoom  113.3\n",
       "1  2019-05-02  FaceBoom   78.1\n",
       "2  2019-05-03  FaceBoom   85.8\n",
       "3  2019-05-04  FaceBoom  136.4\n",
       "4  2019-05-05  FaceBoom  122.1"
      ]
     },
     "metadata": {},
     "output_type": "display_data"
    }
   ],
   "source": [
    "# приводим названия столбцов к нижнему регистру и убираем пробелы\n",
    "visits.columns = [x.lower().replace(' ', '_') for x in visits.columns]\n",
    "orders.columns = [x.lower().replace(' ', '_') for x in orders.columns]\n",
    "costs.columns = costs.columns.str.lower()\n",
    "\n",
    "display(visits.head(), orders.head(), costs.head())"
   ]
  },
  {
   "cell_type": "markdown",
   "id": "0737a519",
   "metadata": {},
   "source": [
    "#### Описание данных\n",
    "- ##### visits:\n",
    " * **user_id** — уникальный идентификатор пользователя\\\n",
    " * **region** — страна пользователя\\\n",
    " * **device** — тип устройства пользователя\\\n",
    " * **channel** — идентификатор источника перехода\\\n",
    " * **session_start** — дата и время начала сессии\\\n",
    " * **session_end** — дата и время окончания сессии\n",
    "- ##### orders:\n",
    " * **user_id** — уникальный идентификатор пользователя\\\n",
    " * **event_dt** — дата и время покупки\\\n",
    " * **revenue** — сумма заказа\\\n",
    "- ##### costs:\n",
    " * **dt** — дата проведения рекламной кампании\\\n",
    " * **channel** — идентификатор рекламного источника\\\n",
    " * **costs** — расходы на эту кампанию\\"
   ]
  },
  {
   "cell_type": "code",
   "execution_count": 4,
   "id": "46669d14",
   "metadata": {},
   "outputs": [
    {
     "data": {
      "text/plain": [
       "user_id          0\n",
       "region           0\n",
       "device           0\n",
       "channel          0\n",
       "session_start    0\n",
       "session_end      0\n",
       "dtype: int64"
      ]
     },
     "metadata": {},
     "output_type": "display_data"
    },
    {
     "data": {
      "text/plain": [
       "user_id     0\n",
       "event_dt    0\n",
       "revenue     0\n",
       "dtype: int64"
      ]
     },
     "metadata": {},
     "output_type": "display_data"
    },
    {
     "data": {
      "text/plain": [
       "dt         0\n",
       "channel    0\n",
       "costs      0\n",
       "dtype: int64"
      ]
     },
     "metadata": {},
     "output_type": "display_data"
    }
   ],
   "source": [
    "# ищем пропущенные значения\n",
    "display(visits.isna().sum(), orders.isna().sum(), costs.isna().sum())"
   ]
  },
  {
   "cell_type": "code",
   "execution_count": 5,
   "id": "2df60962",
   "metadata": {},
   "outputs": [
    {
     "data": {
      "text/plain": [
       "0"
      ]
     },
     "metadata": {},
     "output_type": "display_data"
    },
    {
     "data": {
      "text/plain": [
       "0"
      ]
     },
     "metadata": {},
     "output_type": "display_data"
    },
    {
     "data": {
      "text/plain": [
       "0"
      ]
     },
     "metadata": {},
     "output_type": "display_data"
    }
   ],
   "source": [
    "# ищем явные дубликаты\n",
    "display(visits.duplicated().sum(), orders.duplicated().sum(), costs.duplicated().sum())"
   ]
  },
  {
   "cell_type": "code",
   "execution_count": 6,
   "id": "b6700548",
   "metadata": {},
   "outputs": [
    {
     "name": "stdout",
     "output_type": "stream",
     "text": [
      "<class 'pandas.core.frame.DataFrame'>\n",
      "RangeIndex: 309901 entries, 0 to 309900\n",
      "Data columns (total 6 columns):\n",
      " #   Column         Non-Null Count   Dtype \n",
      "---  ------         --------------   ----- \n",
      " 0   user_id        309901 non-null  int64 \n",
      " 1   region         309901 non-null  object\n",
      " 2   device         309901 non-null  object\n",
      " 3   channel        309901 non-null  object\n",
      " 4   session_start  309901 non-null  object\n",
      " 5   session_end    309901 non-null  object\n",
      "dtypes: int64(1), object(5)\n",
      "memory usage: 14.2+ MB\n"
     ]
    },
    {
     "data": {
      "text/plain": [
       "None"
      ]
     },
     "metadata": {},
     "output_type": "display_data"
    },
    {
     "name": "stdout",
     "output_type": "stream",
     "text": [
      "<class 'pandas.core.frame.DataFrame'>\n",
      "RangeIndex: 40212 entries, 0 to 40211\n",
      "Data columns (total 3 columns):\n",
      " #   Column    Non-Null Count  Dtype  \n",
      "---  ------    --------------  -----  \n",
      " 0   user_id   40212 non-null  int64  \n",
      " 1   event_dt  40212 non-null  object \n",
      " 2   revenue   40212 non-null  float64\n",
      "dtypes: float64(1), int64(1), object(1)\n",
      "memory usage: 942.6+ KB\n"
     ]
    },
    {
     "data": {
      "text/plain": [
       "None"
      ]
     },
     "metadata": {},
     "output_type": "display_data"
    },
    {
     "name": "stdout",
     "output_type": "stream",
     "text": [
      "<class 'pandas.core.frame.DataFrame'>\n",
      "RangeIndex: 1800 entries, 0 to 1799\n",
      "Data columns (total 3 columns):\n",
      " #   Column   Non-Null Count  Dtype  \n",
      "---  ------   --------------  -----  \n",
      " 0   dt       1800 non-null   object \n",
      " 1   channel  1800 non-null   object \n",
      " 2   costs    1800 non-null   float64\n",
      "dtypes: float64(1), object(2)\n",
      "memory usage: 42.3+ KB\n"
     ]
    },
    {
     "data": {
      "text/plain": [
       "None"
      ]
     },
     "metadata": {},
     "output_type": "display_data"
    }
   ],
   "source": [
    "display(visits.info())\n",
    "display(orders.info())\n",
    "display(costs.info())"
   ]
  },
  {
   "cell_type": "code",
   "execution_count": 7,
   "id": "99ceac73",
   "metadata": {},
   "outputs": [],
   "source": [
    "# меняем тип данных столбцов с датой\n",
    "visits['session_start'] = pd.to_datetime(visits['session_start'])\n",
    "visits['session_end'] = pd.to_datetime(visits['session_end'])\n",
    "\n",
    "orders['event_dt'] = pd.to_datetime(orders['event_dt'])\n",
    "\n",
    "costs['dt'] = pd.to_datetime(costs['dt']).dt.date"
   ]
  },
  {
   "cell_type": "markdown",
   "id": "66fd5a33",
   "metadata": {},
   "source": [
    "Пропущенных значений и дубликатов нет, типы данных заменены, переходим к анализу данных."
   ]
  },
  {
   "cell_type": "markdown",
   "id": "a12868a2",
   "metadata": {},
   "source": [
    "## Задаём функции для расчёта и анализа LTV, ROI, удержания и конверсии"
   ]
  },
  {
   "cell_type": "code",
   "execution_count": 8,
   "id": "9b1002a5",
   "metadata": {},
   "outputs": [],
   "source": [
    "# функция для создания пользовательских профилей\n",
    "\n",
    "def get_profiles(sessions, orders, costs):\n",
    "\n",
    "    # находим параметры первых посещений\n",
    "    profiles = (\n",
    "        sessions.sort_values(by=['user_id', 'session_start'])\n",
    "        .groupby('user_id')\n",
    "        .agg(\n",
    "            {\n",
    "                'session_start': 'first',\n",
    "                'channel': 'first',\n",
    "                'device': 'first',\n",
    "                'region': 'first',\n",
    "            }\n",
    "        )\n",
    "        .rename(columns={'session_start': 'first_ts'})\n",
    "        .reset_index()\n",
    "    )\n",
    "\n",
    "    # для когортного анализа определяем дату первого посещения\n",
    "    # и первый день месяца, в который это посещение произошло\n",
    "    profiles['dt'] = profiles['first_ts'].dt.date\n",
    "    profiles['month'] = profiles['first_ts'].astype('datetime64[M]')\n",
    "\n",
    "    # добавляем признак платящих пользователей\n",
    "    profiles['payer'] = profiles['user_id'].isin(orders['user_id'].unique())\n",
    "\n",
    "    # считаем количество уникальных пользователей\n",
    "    # с одинаковыми источником и датой привлечения\n",
    "    new_users = (\n",
    "        profiles.groupby(['dt', 'channel'])\n",
    "        .agg({'user_id': 'nunique'})\n",
    "        .rename(columns={'user_id': 'unique_users'})\n",
    "        .reset_index()\n",
    "    )\n",
    "\n",
    "    # объединяем траты на рекламу и число привлечённых пользователей\n",
    "    costs = costs.merge(new_users, on=['dt', 'channel'], how='left')\n",
    "\n",
    "    # делим рекламные расходы на число привлечённых пользователей\n",
    "    costs['acquisition_cost'] = costs['costs'] / costs['unique_users']\n",
    "\n",
    "    # добавляем стоимость привлечения в профили\n",
    "    profiles = profiles.merge(\n",
    "        costs[['dt', 'channel', 'acquisition_cost']],\n",
    "        on=['dt', 'channel'],\n",
    "        how='left',\n",
    "    )\n",
    "\n",
    "    # стоимость привлечения органических пользователей равна нулю\n",
    "    profiles['acquisition_cost'] = profiles['acquisition_cost'].fillna(0)\n",
    "\n",
    "    return profiles"
   ]
  },
  {
   "cell_type": "code",
   "execution_count": 9,
   "id": "28fe1d59",
   "metadata": {},
   "outputs": [],
   "source": [
    "# функция для расчёта удержания\n",
    "\n",
    "def get_retention(\n",
    "    profiles,\n",
    "    sessions,\n",
    "    observation_date,\n",
    "    horizon_days,\n",
    "    dimensions=[],\n",
    "    ignore_horizon=False,\n",
    "):\n",
    "\n",
    "    # добавляем столбец payer в передаваемый dimensions список\n",
    "    dimensions = ['payer'] + dimensions\n",
    "\n",
    "    # исключаем пользователей, не «доживших» до горизонта анализа\n",
    "    last_suitable_acquisition_date = observation_date\n",
    "    if not ignore_horizon:\n",
    "        last_suitable_acquisition_date = observation_date - timedelta(\n",
    "            days=horizon_days - 1\n",
    "        )\n",
    "    result_raw = profiles.query('dt <= @last_suitable_acquisition_date')\n",
    "\n",
    "    # собираем «сырые» данные для расчёта удержания\n",
    "    result_raw = result_raw.merge(\n",
    "        sessions[['user_id', 'session_start']], on='user_id', how='left'\n",
    "    )\n",
    "    result_raw['lifetime'] = (\n",
    "        result_raw['session_start'] - result_raw['first_ts']\n",
    "    ).dt.days\n",
    "\n",
    "    # функция для группировки таблицы по желаемым признакам\n",
    "    def group_by_dimensions(df, dims, horizon_days):\n",
    "        result = df.pivot_table(\n",
    "            index=dims, columns='lifetime', values='user_id', aggfunc='nunique'\n",
    "        )\n",
    "        cohort_sizes = (\n",
    "            df.groupby(dims)\n",
    "            .agg({'user_id': 'nunique'})\n",
    "            .rename(columns={'user_id': 'cohort_size'})\n",
    "        )\n",
    "        result = cohort_sizes.merge(result, on=dims, how='left').fillna(0)\n",
    "        result = result.div(result['cohort_size'], axis=0)\n",
    "        result = result[['cohort_size'] + list(range(horizon_days))]\n",
    "        result['cohort_size'] = cohort_sizes\n",
    "        return result\n",
    "\n",
    "    # получаем таблицу удержания\n",
    "    result_grouped = group_by_dimensions(result_raw, dimensions, horizon_days)\n",
    "\n",
    "    # получаем таблицу динамики удержания\n",
    "    result_in_time = group_by_dimensions(\n",
    "        result_raw, dimensions + ['dt'], horizon_days\n",
    "    )\n",
    "\n",
    "    # возвращаем обе таблицы и сырые данные\n",
    "    return result_raw, result_grouped, result_in_time "
   ]
  },
  {
   "cell_type": "code",
   "execution_count": 10,
   "id": "47c3f886",
   "metadata": {},
   "outputs": [],
   "source": [
    "# функция для расчёта конверсии\n",
    "\n",
    "def get_conversion(\n",
    "    profiles,\n",
    "    orders,\n",
    "    observation_date,\n",
    "    horizon_days,\n",
    "    dimensions=[],\n",
    "    ignore_horizon=False,\n",
    "):\n",
    "\n",
    "    # исключаем пользователей, не «доживших» до горизонта анализа\n",
    "    last_suitable_acquisition_date = observation_date\n",
    "    if not ignore_horizon:\n",
    "        last_suitable_acquisition_date = observation_date - timedelta(\n",
    "            days=horizon_days - 1\n",
    "        )\n",
    "    result_raw = profiles.query('dt <= @last_suitable_acquisition_date')\n",
    "\n",
    "    # определяем дату и время первой покупки для каждого пользователя\n",
    "    first_purchases = (\n",
    "        orders.sort_values(by=['user_id', 'event_dt'])\n",
    "        .groupby('user_id')\n",
    "        .agg({'event_dt': 'first'})\n",
    "        .reset_index()\n",
    "    )\n",
    "\n",
    "    # добавляем данные о покупках в профили\n",
    "    result_raw = result_raw.merge(\n",
    "        first_purchases[['user_id', 'event_dt']], on='user_id', how='left'\n",
    "    )\n",
    "\n",
    "    # рассчитываем лайфтайм для каждой покупки\n",
    "    result_raw['lifetime'] = (\n",
    "        result_raw['event_dt'] - result_raw['first_ts']\n",
    "    ).dt.days\n",
    "\n",
    "    # группируем по cohort, если в dimensions ничего нет\n",
    "    if len(dimensions) == 0:\n",
    "        result_raw['cohort'] = 'All users' \n",
    "        dimensions = dimensions + ['cohort']\n",
    "\n",
    "    # функция для группировки таблицы по желаемым признакам\n",
    "    def group_by_dimensions(df, dims, horizon_days):\n",
    "        result = df.pivot_table(\n",
    "            index=dims, columns='lifetime', values='user_id', aggfunc='nunique'\n",
    "        )\n",
    "        result = result.fillna(0).cumsum(axis = 1)\n",
    "        cohort_sizes = (\n",
    "            df.groupby(dims)\n",
    "            .agg({'user_id': 'nunique'})\n",
    "            .rename(columns={'user_id': 'cohort_size'})\n",
    "        )\n",
    "        result = cohort_sizes.merge(result, on=dims, how='left').fillna(0)\n",
    "        # делим каждую «ячейку» в строке на размер когорты\n",
    "        # и получаем conversion rate\n",
    "        result = result.div(result['cohort_size'], axis=0)\n",
    "        result = result[['cohort_size'] + list(range(horizon_days))]\n",
    "        result['cohort_size'] = cohort_sizes\n",
    "        return result\n",
    "\n",
    "    # получаем таблицу конверсии\n",
    "    result_grouped = group_by_dimensions(result_raw, dimensions, horizon_days)\n",
    "\n",
    "    # для таблицы динамики конверсии убираем 'cohort' из dimensions\n",
    "    if 'cohort' in dimensions: \n",
    "        dimensions = []\n",
    "\n",
    "    # получаем таблицу динамики конверсии\n",
    "    result_in_time = group_by_dimensions(\n",
    "        result_raw, dimensions + ['dt'], horizon_days\n",
    "    )\n",
    "\n",
    "    # возвращаем обе таблицы и сырые данные\n",
    "    return result_raw, result_grouped, result_in_time"
   ]
  },
  {
   "cell_type": "code",
   "execution_count": 11,
   "id": "0d439f16",
   "metadata": {},
   "outputs": [],
   "source": [
    "# функция для расчёта LTV и ROI\n",
    "\n",
    "def get_ltv(\n",
    "    profiles,\n",
    "    orders,\n",
    "    observation_date,\n",
    "    horizon_days,\n",
    "    dimensions=[],\n",
    "    ignore_horizon=False,\n",
    "):\n",
    "\n",
    "    # исключаем пользователей, не «доживших» до горизонта анализа\n",
    "    last_suitable_acquisition_date = observation_date\n",
    "    if not ignore_horizon:\n",
    "        last_suitable_acquisition_date = observation_date - timedelta(\n",
    "            days=horizon_days - 1\n",
    "        )\n",
    "    result_raw = profiles.query('dt <= @last_suitable_acquisition_date')\n",
    "    # добавляем данные о покупках в профили\n",
    "    result_raw = result_raw.merge(\n",
    "        orders[['user_id', 'event_dt', 'revenue']], on='user_id', how='left'\n",
    "    )\n",
    "    # рассчитываем лайфтайм пользователя для каждой покупки\n",
    "    result_raw['lifetime'] = (\n",
    "        result_raw['event_dt'] - result_raw['first_ts']\n",
    "    ).dt.days\n",
    "    # группируем по cohort, если в dimensions ничего нет\n",
    "    if len(dimensions) == 0:\n",
    "        result_raw['cohort'] = 'All users'\n",
    "        dimensions = dimensions + ['cohort']\n",
    "\n",
    "    # функция группировки по желаемым признакам\n",
    "    def group_by_dimensions(df, dims, horizon_days):\n",
    "        # строим «треугольную» таблицу выручки\n",
    "        result = df.pivot_table(\n",
    "            index=dims, columns='lifetime', values='revenue', aggfunc='sum'\n",
    "        )\n",
    "        # находим сумму выручки с накоплением\n",
    "        result = result.fillna(0).cumsum(axis=1)\n",
    "        # вычисляем размеры когорт\n",
    "        cohort_sizes = (\n",
    "            df.groupby(dims)\n",
    "            .agg({'user_id': 'nunique'})\n",
    "            .rename(columns={'user_id': 'cohort_size'})\n",
    "        )\n",
    "        # объединяем размеры когорт и таблицу выручки\n",
    "        result = cohort_sizes.merge(result, on=dims, how='left').fillna(0)\n",
    "        # считаем LTV: делим каждую «ячейку» в строке на размер когорты\n",
    "        result = result.div(result['cohort_size'], axis=0)\n",
    "        # исключаем все лайфтаймы, превышающие горизонт анализа\n",
    "        result = result[['cohort_size'] + list(range(horizon_days))]\n",
    "        # восстанавливаем размеры когорт\n",
    "        result['cohort_size'] = cohort_sizes\n",
    "\n",
    "        # собираем датафрейм с данными пользователей и значениями CAC, \n",
    "        # добавляя параметры из dimensions\n",
    "        cac = df[['user_id', 'acquisition_cost'] + dims].drop_duplicates()\n",
    "\n",
    "        # считаем средний CAC по параметрам из dimensions\n",
    "        cac = (\n",
    "            cac.groupby(dims)\n",
    "            .agg({'acquisition_cost': 'mean'})\n",
    "            .rename(columns={'acquisition_cost': 'cac'})\n",
    "        )\n",
    "\n",
    "        # считаем ROI: делим LTV на CAC\n",
    "        roi = result.div(cac['cac'], axis=0)\n",
    "\n",
    "        # удаляем строки с бесконечным ROI\n",
    "        roi = roi[~roi['cohort_size'].isin([np.inf])]\n",
    "\n",
    "        # восстанавливаем размеры когорт в таблице ROI\n",
    "        roi['cohort_size'] = cohort_sizes\n",
    "\n",
    "        # добавляем CAC в таблицу ROI\n",
    "        roi['cac'] = cac['cac']\n",
    "\n",
    "        # в финальной таблице оставляем размеры когорт, CAC\n",
    "        # и ROI в лайфтаймы, не превышающие горизонт анализа\n",
    "        roi = roi[['cohort_size', 'cac'] + list(range(horizon_days))]\n",
    "\n",
    "        # возвращаем таблицы LTV и ROI\n",
    "        return result, roi\n",
    "\n",
    "    # получаем таблицы LTV и ROI\n",
    "    result_grouped, roi_grouped = group_by_dimensions(\n",
    "        result_raw, dimensions, horizon_days\n",
    "    )\n",
    "\n",
    "    # для таблиц динамики убираем 'cohort' из dimensions\n",
    "    if 'cohort' in dimensions:\n",
    "        dimensions = []\n",
    "\n",
    "    # получаем таблицы динамики LTV и ROI\n",
    "    result_in_time, roi_in_time = group_by_dimensions(\n",
    "        result_raw, dimensions + ['dt'], horizon_days\n",
    "    )\n",
    "\n",
    "    return (\n",
    "        result_raw,  # сырые данные\n",
    "        result_grouped,  # таблица LTV\n",
    "        result_in_time,  # таблица динамики LTV\n",
    "        roi_grouped,  # таблица ROI\n",
    "        roi_in_time,  # таблица динамики ROI\n",
    "    ) "
   ]
  },
  {
   "cell_type": "code",
   "execution_count": 12,
   "id": "31eda5a7",
   "metadata": {},
   "outputs": [],
   "source": [
    "# функция для сглаживания фрейма\n",
    "\n",
    "def filter_data(df, window):\n",
    "    # для каждого столбца применяем скользящее среднее\n",
    "    for column in df.columns.values:\n",
    "        df[column] = df[column].rolling(window).mean() \n",
    "    return df "
   ]
  },
  {
   "cell_type": "code",
   "execution_count": 13,
   "id": "0d50e76a",
   "metadata": {},
   "outputs": [],
   "source": [
    "# функция для визуализации удержания\n",
    "\n",
    "def plot_retention(retention, retention_history, horizon, window=7):\n",
    "\n",
    "    # задаём размер сетки для графиков\n",
    "    plt.figure(figsize=(15, 20))\n",
    "\n",
    "    # исключаем размеры когорт и удержание первого дня\n",
    "    retention = retention.drop(columns=['cohort_size', 0])\n",
    "    # в таблице динамики оставляем только нужный лайфтайм\n",
    "    retention_history = retention_history.drop(columns=['cohort_size'])[\n",
    "        [horizon - 1]\n",
    "    ]\n",
    "\n",
    "    # если в индексах таблицы удержания только payer,\n",
    "    # добавляем второй признак — cohort\n",
    "    if retention.index.nlevels == 1:\n",
    "        retention['cohort'] = 'All users'\n",
    "        retention = retention.reset_index().set_index(['cohort', 'payer'])\n",
    "\n",
    "    # в таблице графиков — два столбца и две строки, четыре ячейки\n",
    "    # в первой строим кривые удержания платящих пользователей\n",
    "    ax1 = plt.subplot(4, 1, 1)\n",
    "    retention.query('payer == True').droplevel('payer').T.plot(\n",
    "        grid=True, ax=ax1\n",
    "    )\n",
    "    plt.legend()\n",
    "    plt.xlabel('Лайфтайм')\n",
    "    plt.title('Удержание платящих пользователей')\n",
    "\n",
    "    # во второй ячейке строим кривые удержания неплатящих\n",
    "    # вертикальная ось — от графика из первой ячейки\n",
    "    ax2 = plt.subplot(4, 1, 2, sharey=ax1)\n",
    "    retention.query('payer == False').droplevel('payer').T.plot(\n",
    "        grid=True, ax=ax2\n",
    "    )\n",
    "    plt.legend()\n",
    "    plt.xlabel('Лайфтайм')\n",
    "    plt.title('Удержание неплатящих пользователей')\n",
    "\n",
    "    # в третьей ячейке — динамика удержания платящих\n",
    "    ax3 = plt.subplot(4, 1, 3)\n",
    "    # получаем названия столбцов для сводной таблицы\n",
    "    columns = [\n",
    "        name\n",
    "        for name in retention_history.index.names\n",
    "        if name not in ['dt', 'payer']\n",
    "    ]\n",
    "    # фильтруем данные и строим график\n",
    "    filtered_data = retention_history.query('payer == True').pivot_table(\n",
    "        index='dt', columns=columns, values=horizon - 1, aggfunc='mean'\n",
    "    )\n",
    "    filter_data(filtered_data, window).plot(grid=True, ax=ax3)\n",
    "    plt.xlabel('Дата привлечения')\n",
    "    plt.title(\n",
    "        'Динамика удержания платящих пользователей на {}-й день'.format(\n",
    "            horizon\n",
    "        )\n",
    "    )\n",
    "\n",
    "    # в чётвертой ячейке — динамика удержания неплатящих\n",
    "    ax4 = plt.subplot(4, 1, 4, sharey=ax3)\n",
    "    # фильтруем данные и строим график\n",
    "    filtered_data = retention_history.query('payer == False').pivot_table(\n",
    "        index='dt', columns=columns, values=horizon - 1, aggfunc='mean'\n",
    "    )\n",
    "    filter_data(filtered_data, window).plot(grid=True, ax=ax4)\n",
    "    plt.xlabel('Дата привлечения')\n",
    "    plt.title(\n",
    "        'Динамика удержания неплатящих пользователей на {}-й день'.format(\n",
    "            horizon\n",
    "        )\n",
    "    )\n",
    "    \n",
    "    plt.tight_layout()\n",
    "    plt.show() "
   ]
  },
  {
   "cell_type": "code",
   "execution_count": 14,
   "id": "a7224761",
   "metadata": {},
   "outputs": [],
   "source": [
    "# функция для визуализации конверсии\n",
    "\n",
    "def plot_conversion(conversion, conversion_history, horizon, window=7):\n",
    "\n",
    "    # задаём размер сетки для графиков\n",
    "    plt.figure(figsize=(15, 15))\n",
    "\n",
    "    # исключаем размеры когорт\n",
    "    conversion = conversion.drop(columns=['cohort_size'])\n",
    "    # в таблице динамики оставляем только нужный лайфтайм\n",
    "    conversion_history = conversion_history.drop(columns=['cohort_size'])[\n",
    "        [horizon - 1]\n",
    "    ]\n",
    "\n",
    "    # первый график — кривые конверсии\n",
    "    ax1 = plt.subplot(2, 1, 1)\n",
    "    conversion.T.plot(grid=True, ax=ax1)\n",
    "    plt.legend()\n",
    "    plt.xlabel('Лайфтайм')\n",
    "    plt.title('Конверсия пользователей')\n",
    "\n",
    "    # второй график — динамика конверсии\n",
    "    ax2 = plt.subplot(2, 1, 2, sharey=ax1)\n",
    "    columns = [\n",
    "        # столбцами сводной таблицы станут все столбцы индекса, кроме даты\n",
    "        name for name in conversion_history.index.names if name not in ['dt']\n",
    "    ]\n",
    "    filtered_data = conversion_history.pivot_table(\n",
    "        index='dt', columns=columns, values=horizon - 1, aggfunc='mean'\n",
    "    )\n",
    "    filter_data(filtered_data, window).plot(grid=True, ax=ax2)\n",
    "    plt.xlabel('Дата привлечения')\n",
    "    plt.title('Динамика конверсии пользователей на {}-й день'.format(horizon))\n",
    "\n",
    "    plt.tight_layout()\n",
    "    plt.show() "
   ]
  },
  {
   "cell_type": "code",
   "execution_count": 15,
   "id": "fad0aa84",
   "metadata": {},
   "outputs": [],
   "source": [
    "# функция для визуализации LTV и ROI\n",
    "\n",
    "def plot_ltv_roi(ltv, ltv_history, roi, roi_history, horizon, window=7):\n",
    "\n",
    "    # задаём сетку отрисовки графиков\n",
    "    plt.figure(figsize=(15, 30))\n",
    "\n",
    "    # из таблицы ltv исключаем размеры когорт\n",
    "    ltv = ltv.drop(columns=['cohort_size'])\n",
    "    # в таблице динамики ltv оставляем только нужный лайфтайм\n",
    "    ltv_history = ltv_history.drop(columns=['cohort_size'])[[horizon - 1]]\n",
    "\n",
    "    # стоимость привлечения запишем в отдельный фрейм\n",
    "    cac_history = roi_history[['cac']]\n",
    "\n",
    "    # из таблицы roi исключаем размеры когорт и cac\n",
    "    roi = roi.drop(columns=['cohort_size', 'cac'])\n",
    "    # в таблице динамики roi оставляем только нужный лайфтайм\n",
    "    roi_history = roi_history.drop(columns=['cohort_size', 'cac'])[\n",
    "        [horizon - 1]\n",
    "    ]\n",
    "\n",
    "    # первый график — кривые ltv\n",
    "    ax1 = plt.subplot(5, 1, 1)\n",
    "    ltv.T.plot(grid=True, ax=ax1)\n",
    "    plt.legend()\n",
    "    plt.xlabel('Лайфтайм')\n",
    "    plt.title('LTV')\n",
    "\n",
    "    # второй график — динамика ltv\n",
    "    ax2 = plt.subplot(5, 1, 2, sharey=ax1)\n",
    "    # столбцами сводной таблицы станут все столбцы индекса, кроме даты\n",
    "    columns = [name for name in ltv_history.index.names if name not in ['dt']]\n",
    "    filtered_data = ltv_history.pivot_table(\n",
    "        index='dt', columns=columns, values=horizon - 1, aggfunc='mean'\n",
    "    )\n",
    "    filter_data(filtered_data, window).plot(grid=True, ax=ax2)\n",
    "    plt.xlabel('Дата привлечения')\n",
    "    plt.title('Динамика LTV пользователей на {}-й день'.format(horizon))\n",
    "\n",
    "    # третий график — динамика cac\n",
    "    ax3 = plt.subplot(5, 1, 3, sharey=ax1)\n",
    "    # столбцами сводной таблицы станут все столбцы индекса, кроме даты\n",
    "    columns = [name for name in cac_history.index.names if name not in ['dt']]\n",
    "    filtered_data = cac_history.pivot_table(\n",
    "        index='dt', columns=columns, values='cac', aggfunc='mean'\n",
    "    )\n",
    "    filter_data(filtered_data, window).plot(grid=True, ax=ax3)\n",
    "    plt.xlabel('Дата привлечения')\n",
    "    plt.title('Динамика стоимости привлечения пользователей')\n",
    "\n",
    "    # четвёртый график — кривые roi\n",
    "    ax4 = plt.subplot(5, 1, 4)\n",
    "    roi.T.plot(grid=True, ax=ax4)\n",
    "    plt.axhline(y=1, color='red', linestyle='--', label='Уровень окупаемости')\n",
    "    plt.legend()\n",
    "    plt.xlabel('Лайфтайм')\n",
    "    plt.title('ROI')\n",
    "\n",
    "    # пятый график — динамика roi\n",
    "    ax5 = plt.subplot(5, 1, 5, sharey=ax4)\n",
    "    # столбцами сводной таблицы станут все столбцы индекса, кроме даты\n",
    "    columns = [name for name in roi_history.index.names if name not in ['dt']]\n",
    "    filtered_data = roi_history.pivot_table(\n",
    "        index='dt', columns=columns, values=horizon - 1, aggfunc='mean'\n",
    "    )\n",
    "    filter_data(filtered_data, window).plot(grid=True, ax=ax5)\n",
    "    plt.axhline(y=1, color='red', linestyle='--', label='Уровень окупаемости')\n",
    "    plt.xlabel('Дата привлечения')\n",
    "    plt.title('Динамика ROI пользователей на {}-й день'.format(horizon))\n",
    "\n",
    "    plt.tight_layout()\n",
    "    plt.show() "
   ]
  },
  {
   "cell_type": "markdown",
   "id": "54e2eafd",
   "metadata": {},
   "source": [
    "## Исследовательский анализ данных"
   ]
  },
  {
   "cell_type": "markdown",
   "id": "8ba257b1",
   "metadata": {},
   "source": [
    "### Профили пользователей, минимальная и максимальная дата привлечения пользователей"
   ]
  },
  {
   "cell_type": "code",
   "execution_count": 16,
   "id": "3fe834cd",
   "metadata": {},
   "outputs": [
    {
     "data": {
      "text/html": [
       "<div>\n",
       "<style scoped>\n",
       "    .dataframe tbody tr th:only-of-type {\n",
       "        vertical-align: middle;\n",
       "    }\n",
       "\n",
       "    .dataframe tbody tr th {\n",
       "        vertical-align: top;\n",
       "    }\n",
       "\n",
       "    .dataframe thead th {\n",
       "        text-align: right;\n",
       "    }\n",
       "</style>\n",
       "<table border=\"1\" class=\"dataframe\">\n",
       "  <thead>\n",
       "    <tr style=\"text-align: right;\">\n",
       "      <th></th>\n",
       "      <th>user_id</th>\n",
       "      <th>first_ts</th>\n",
       "      <th>channel</th>\n",
       "      <th>device</th>\n",
       "      <th>region</th>\n",
       "      <th>dt</th>\n",
       "      <th>month</th>\n",
       "      <th>payer</th>\n",
       "      <th>acquisition_cost</th>\n",
       "    </tr>\n",
       "  </thead>\n",
       "  <tbody>\n",
       "    <tr>\n",
       "      <th>0</th>\n",
       "      <td>599326</td>\n",
       "      <td>2019-05-07 20:58:57</td>\n",
       "      <td>FaceBoom</td>\n",
       "      <td>Mac</td>\n",
       "      <td>United States</td>\n",
       "      <td>2019-05-07</td>\n",
       "      <td>2019-05-01</td>\n",
       "      <td>True</td>\n",
       "      <td>1.088172</td>\n",
       "    </tr>\n",
       "    <tr>\n",
       "      <th>1</th>\n",
       "      <td>4919697</td>\n",
       "      <td>2019-07-09 12:46:07</td>\n",
       "      <td>FaceBoom</td>\n",
       "      <td>iPhone</td>\n",
       "      <td>United States</td>\n",
       "      <td>2019-07-09</td>\n",
       "      <td>2019-07-01</td>\n",
       "      <td>False</td>\n",
       "      <td>1.107237</td>\n",
       "    </tr>\n",
       "    <tr>\n",
       "      <th>2</th>\n",
       "      <td>6085896</td>\n",
       "      <td>2019-10-01 09:58:33</td>\n",
       "      <td>organic</td>\n",
       "      <td>iPhone</td>\n",
       "      <td>France</td>\n",
       "      <td>2019-10-01</td>\n",
       "      <td>2019-10-01</td>\n",
       "      <td>False</td>\n",
       "      <td>0.000000</td>\n",
       "    </tr>\n",
       "    <tr>\n",
       "      <th>3</th>\n",
       "      <td>22593348</td>\n",
       "      <td>2019-08-22 21:35:48</td>\n",
       "      <td>AdNonSense</td>\n",
       "      <td>PC</td>\n",
       "      <td>Germany</td>\n",
       "      <td>2019-08-22</td>\n",
       "      <td>2019-08-01</td>\n",
       "      <td>False</td>\n",
       "      <td>0.988235</td>\n",
       "    </tr>\n",
       "    <tr>\n",
       "      <th>4</th>\n",
       "      <td>31989216</td>\n",
       "      <td>2019-10-02 00:07:44</td>\n",
       "      <td>YRabbit</td>\n",
       "      <td>iPhone</td>\n",
       "      <td>United States</td>\n",
       "      <td>2019-10-02</td>\n",
       "      <td>2019-10-01</td>\n",
       "      <td>False</td>\n",
       "      <td>0.230769</td>\n",
       "    </tr>\n",
       "  </tbody>\n",
       "</table>\n",
       "</div>"
      ],
      "text/plain": [
       "    user_id            first_ts     channel  device         region  \\\n",
       "0    599326 2019-05-07 20:58:57    FaceBoom     Mac  United States   \n",
       "1   4919697 2019-07-09 12:46:07    FaceBoom  iPhone  United States   \n",
       "2   6085896 2019-10-01 09:58:33     organic  iPhone         France   \n",
       "3  22593348 2019-08-22 21:35:48  AdNonSense      PC        Germany   \n",
       "4  31989216 2019-10-02 00:07:44     YRabbit  iPhone  United States   \n",
       "\n",
       "           dt      month  payer  acquisition_cost  \n",
       "0  2019-05-07 2019-05-01   True          1.088172  \n",
       "1  2019-07-09 2019-07-01  False          1.107237  \n",
       "2  2019-10-01 2019-10-01  False          0.000000  \n",
       "3  2019-08-22 2019-08-01  False          0.988235  \n",
       "4  2019-10-02 2019-10-01  False          0.230769  "
      ]
     },
     "metadata": {},
     "output_type": "display_data"
    }
   ],
   "source": [
    "# получаем профили пользователей\n",
    "profiles = get_profiles(visits, orders, costs)\n",
    "display(profiles.head())"
   ]
  },
  {
   "cell_type": "code",
   "execution_count": 17,
   "id": "fa829714",
   "metadata": {},
   "outputs": [
    {
     "name": "stdout",
     "output_type": "stream",
     "text": [
      "Минимальная дата привлечения пользователей - 2019-05-01\n",
      "Максимальная дата привлечения пользователей - 2019-10-27\n"
     ]
    }
   ],
   "source": [
    "# находим минимальную и максимальную даты привлечения пользователей\n",
    "print('Минимальная дата привлечения пользователей -', profiles['dt'].min())\n",
    "print('Максимальная дата привлечения пользователей -', profiles['dt'].max())"
   ]
  },
  {
   "cell_type": "markdown",
   "id": "8453cb5c",
   "metadata": {},
   "source": [
    "Вызвали функцию, получили профили пользователей. Увидели, что пользователи привлекались **с 1 мая по 27 октября 2019 г.** что и было указано в описании данных."
   ]
  },
  {
   "cell_type": "markdown",
   "id": "4549e1df",
   "metadata": {},
   "source": [
    "### Страны пользователей, страны лидеры по платящим пользователям"
   ]
  },
  {
   "cell_type": "code",
   "execution_count": 18,
   "id": "2cd19bb3",
   "metadata": {},
   "outputs": [
    {
     "data": {
      "text/html": [
       "<style  type=\"text/css\" >\n",
       "</style><table id=\"T_616c1_\" ><thead>    <tr>        <th class=\"blank level0\" ></th>        <th class=\"col_heading level0 col0\" >users</th>        <th class=\"col_heading level0 col1\" >payers</th>        <th class=\"col_heading level0 col2\" >payers, %</th>    </tr>    <tr>        <th class=\"index_name level0\" >region</th>        <th class=\"blank\" ></th>        <th class=\"blank\" ></th>        <th class=\"blank\" ></th>    </tr></thead><tbody>\n",
       "                <tr>\n",
       "                        <th id=\"T_616c1_level0_row0\" class=\"row_heading level0 row0\" >United States</th>\n",
       "                        <td id=\"T_616c1_row0_col0\" class=\"data row0 col0\" >100002</td>\n",
       "                        <td id=\"T_616c1_row0_col1\" class=\"data row0 col1\" >6902</td>\n",
       "                        <td id=\"T_616c1_row0_col2\" class=\"data row0 col2\" >6.90%</td>\n",
       "            </tr>\n",
       "            <tr>\n",
       "                        <th id=\"T_616c1_level0_row1\" class=\"row_heading level0 row1\" >Germany</th>\n",
       "                        <td id=\"T_616c1_row1_col0\" class=\"data row1 col0\" >14981</td>\n",
       "                        <td id=\"T_616c1_row1_col1\" class=\"data row1 col1\" >616</td>\n",
       "                        <td id=\"T_616c1_row1_col2\" class=\"data row1 col2\" >4.11%</td>\n",
       "            </tr>\n",
       "            <tr>\n",
       "                        <th id=\"T_616c1_level0_row2\" class=\"row_heading level0 row2\" >UK</th>\n",
       "                        <td id=\"T_616c1_row2_col0\" class=\"data row2 col0\" >17575</td>\n",
       "                        <td id=\"T_616c1_row2_col1\" class=\"data row2 col1\" >700</td>\n",
       "                        <td id=\"T_616c1_row2_col2\" class=\"data row2 col2\" >3.98%</td>\n",
       "            </tr>\n",
       "            <tr>\n",
       "                        <th id=\"T_616c1_level0_row3\" class=\"row_heading level0 row3\" >France</th>\n",
       "                        <td id=\"T_616c1_row3_col0\" class=\"data row3 col0\" >17450</td>\n",
       "                        <td id=\"T_616c1_row3_col1\" class=\"data row3 col1\" >663</td>\n",
       "                        <td id=\"T_616c1_row3_col2\" class=\"data row3 col2\" >3.80%</td>\n",
       "            </tr>\n",
       "    </tbody></table>"
      ],
      "text/plain": [
       "<pandas.io.formats.style.Styler at 0x29862564f10>"
      ]
     },
     "execution_count": 18,
     "metadata": {},
     "output_type": "execute_result"
    }
   ],
   "source": [
    "# группируем профили по стране и смотрим страны в которых больше всего платящих пользователей\n",
    "user_countries = (profiles.groupby('region')\n",
    "                  .agg({'user_id' : 'nunique', 'payer' : ['sum', 'mean']}))\n",
    "user_countries.columns = ['users', 'payers', 'payers, %']\n",
    "user_countries = user_countries.sort_values(by='payers, %', ascending=False).style.format({'payers, %': '{:,.2%}'.format})\n",
    "user_countries"
   ]
  },
  {
   "cell_type": "markdown",
   "id": "aa549cc8",
   "metadata": {},
   "source": [
    "По таблице мы видим, что пользователи приходят в приложение из **United States**, **Germany**, **UK** и **France**. Лидером по `количеству пользователей` с большим отрывом является **United States**. То же самое касается и `процента платящих пользователей`, но здесь отрыв уже не такой значительный."
   ]
  },
  {
   "cell_type": "markdown",
   "id": "304d0edb",
   "metadata": {},
   "source": [
    "### Устройства пользователей, устройства платящих пользователей"
   ]
  },
  {
   "cell_type": "code",
   "execution_count": 19,
   "id": "fdd083e1",
   "metadata": {},
   "outputs": [
    {
     "data": {
      "text/html": [
       "<style  type=\"text/css\" >\n",
       "</style><table id=\"T_58ef9_\" ><thead>    <tr>        <th class=\"blank level0\" ></th>        <th class=\"col_heading level0 col0\" >users</th>        <th class=\"col_heading level0 col1\" >payers</th>        <th class=\"col_heading level0 col2\" >payers, %</th>    </tr>    <tr>        <th class=\"index_name level0\" >device</th>        <th class=\"blank\" ></th>        <th class=\"blank\" ></th>        <th class=\"blank\" ></th>    </tr></thead><tbody>\n",
       "                <tr>\n",
       "                        <th id=\"T_58ef9_level0_row0\" class=\"row_heading level0 row0\" >Mac</th>\n",
       "                        <td id=\"T_58ef9_row0_col0\" class=\"data row0 col0\" >30042</td>\n",
       "                        <td id=\"T_58ef9_row0_col1\" class=\"data row0 col1\" >1912</td>\n",
       "                        <td id=\"T_58ef9_row0_col2\" class=\"data row0 col2\" >6.36%</td>\n",
       "            </tr>\n",
       "            <tr>\n",
       "                        <th id=\"T_58ef9_level0_row1\" class=\"row_heading level0 row1\" >iPhone</th>\n",
       "                        <td id=\"T_58ef9_row1_col0\" class=\"data row1 col0\" >54479</td>\n",
       "                        <td id=\"T_58ef9_row1_col1\" class=\"data row1 col1\" >3382</td>\n",
       "                        <td id=\"T_58ef9_row1_col2\" class=\"data row1 col2\" >6.21%</td>\n",
       "            </tr>\n",
       "            <tr>\n",
       "                        <th id=\"T_58ef9_level0_row2\" class=\"row_heading level0 row2\" >Android</th>\n",
       "                        <td id=\"T_58ef9_row2_col0\" class=\"data row2 col0\" >35032</td>\n",
       "                        <td id=\"T_58ef9_row2_col1\" class=\"data row2 col1\" >2050</td>\n",
       "                        <td id=\"T_58ef9_row2_col2\" class=\"data row2 col2\" >5.85%</td>\n",
       "            </tr>\n",
       "            <tr>\n",
       "                        <th id=\"T_58ef9_level0_row3\" class=\"row_heading level0 row3\" >PC</th>\n",
       "                        <td id=\"T_58ef9_row3_col0\" class=\"data row3 col0\" >30455</td>\n",
       "                        <td id=\"T_58ef9_row3_col1\" class=\"data row3 col1\" >1537</td>\n",
       "                        <td id=\"T_58ef9_row3_col2\" class=\"data row3 col2\" >5.05%</td>\n",
       "            </tr>\n",
       "    </tbody></table>"
      ],
      "text/plain": [
       "<pandas.io.formats.style.Styler at 0x298626b2f40>"
      ]
     },
     "execution_count": 19,
     "metadata": {},
     "output_type": "execute_result"
    }
   ],
   "source": [
    "# группируем профили по устройству и смотрим устройства с которых заходит больше всего платящих пользователей\n",
    "user_devices = (profiles.groupby('device')\n",
    "                  .agg({'user_id' : 'nunique', 'payer' : ['sum', 'mean']}))\n",
    "user_devices.columns = ['users', 'payers', 'payers, %']\n",
    "user_devices = user_devices.sort_values(by='payers, %', ascending=False).style.format({'payers, %': '{:,.2%}'.format})\n",
    "user_devices"
   ]
  },
  {
   "cell_type": "markdown",
   "id": "afb64910",
   "metadata": {},
   "source": [
    "По таблице мы видим, что в лидерах `по количеству пользователей` устройства от `Apple` - **Mac** и **iPhone**. Пользователей **Mac** по статистике меньше всех, однако среди них самый большой процент платящих. Также и процент платящих пользователей на этих устройствах немного выше. Хуже всего платят пользователи **PC**."
   ]
  },
  {
   "cell_type": "markdown",
   "id": "137ba84a",
   "metadata": {},
   "source": [
    "### Источники привлечения пользователей, источники с наибольшим числом платящих пользователей"
   ]
  },
  {
   "cell_type": "code",
   "execution_count": 20,
   "id": "245aa178",
   "metadata": {},
   "outputs": [
    {
     "data": {
      "text/html": [
       "<style  type=\"text/css\" >\n",
       "</style><table id=\"T_f6609_\" ><thead>    <tr>        <th class=\"blank level0\" ></th>        <th class=\"col_heading level0 col0\" >users</th>        <th class=\"col_heading level0 col1\" >payers</th>        <th class=\"col_heading level0 col2\" >payers, %</th>    </tr>    <tr>        <th class=\"index_name level0\" >channel</th>        <th class=\"blank\" ></th>        <th class=\"blank\" ></th>        <th class=\"blank\" ></th>    </tr></thead><tbody>\n",
       "                <tr>\n",
       "                        <th id=\"T_f6609_level0_row0\" class=\"row_heading level0 row0\" >FaceBoom</th>\n",
       "                        <td id=\"T_f6609_row0_col0\" class=\"data row0 col0\" >29144</td>\n",
       "                        <td id=\"T_f6609_row0_col1\" class=\"data row0 col1\" >3557</td>\n",
       "                        <td id=\"T_f6609_row0_col2\" class=\"data row0 col2\" >12.20%</td>\n",
       "            </tr>\n",
       "            <tr>\n",
       "                        <th id=\"T_f6609_level0_row1\" class=\"row_heading level0 row1\" >AdNonSense</th>\n",
       "                        <td id=\"T_f6609_row1_col0\" class=\"data row1 col0\" >3880</td>\n",
       "                        <td id=\"T_f6609_row1_col1\" class=\"data row1 col1\" >440</td>\n",
       "                        <td id=\"T_f6609_row1_col2\" class=\"data row1 col2\" >11.34%</td>\n",
       "            </tr>\n",
       "            <tr>\n",
       "                        <th id=\"T_f6609_level0_row2\" class=\"row_heading level0 row2\" >lambdaMediaAds</th>\n",
       "                        <td id=\"T_f6609_row2_col0\" class=\"data row2 col0\" >2149</td>\n",
       "                        <td id=\"T_f6609_row2_col1\" class=\"data row2 col1\" >225</td>\n",
       "                        <td id=\"T_f6609_row2_col2\" class=\"data row2 col2\" >10.47%</td>\n",
       "            </tr>\n",
       "            <tr>\n",
       "                        <th id=\"T_f6609_level0_row3\" class=\"row_heading level0 row3\" >TipTop</th>\n",
       "                        <td id=\"T_f6609_row3_col0\" class=\"data row3 col0\" >19561</td>\n",
       "                        <td id=\"T_f6609_row3_col1\" class=\"data row3 col1\" >1878</td>\n",
       "                        <td id=\"T_f6609_row3_col2\" class=\"data row3 col2\" >9.60%</td>\n",
       "            </tr>\n",
       "            <tr>\n",
       "                        <th id=\"T_f6609_level0_row4\" class=\"row_heading level0 row4\" >RocketSuperAds</th>\n",
       "                        <td id=\"T_f6609_row4_col0\" class=\"data row4 col0\" >4448</td>\n",
       "                        <td id=\"T_f6609_row4_col1\" class=\"data row4 col1\" >352</td>\n",
       "                        <td id=\"T_f6609_row4_col2\" class=\"data row4 col2\" >7.91%</td>\n",
       "            </tr>\n",
       "            <tr>\n",
       "                        <th id=\"T_f6609_level0_row5\" class=\"row_heading level0 row5\" >WahooNetBanner</th>\n",
       "                        <td id=\"T_f6609_row5_col0\" class=\"data row5 col0\" >8553</td>\n",
       "                        <td id=\"T_f6609_row5_col1\" class=\"data row5 col1\" >453</td>\n",
       "                        <td id=\"T_f6609_row5_col2\" class=\"data row5 col2\" >5.30%</td>\n",
       "            </tr>\n",
       "            <tr>\n",
       "                        <th id=\"T_f6609_level0_row6\" class=\"row_heading level0 row6\" >YRabbit</th>\n",
       "                        <td id=\"T_f6609_row6_col0\" class=\"data row6 col0\" >4312</td>\n",
       "                        <td id=\"T_f6609_row6_col1\" class=\"data row6 col1\" >165</td>\n",
       "                        <td id=\"T_f6609_row6_col2\" class=\"data row6 col2\" >3.83%</td>\n",
       "            </tr>\n",
       "            <tr>\n",
       "                        <th id=\"T_f6609_level0_row7\" class=\"row_heading level0 row7\" >MediaTornado</th>\n",
       "                        <td id=\"T_f6609_row7_col0\" class=\"data row7 col0\" >4364</td>\n",
       "                        <td id=\"T_f6609_row7_col1\" class=\"data row7 col1\" >156</td>\n",
       "                        <td id=\"T_f6609_row7_col2\" class=\"data row7 col2\" >3.57%</td>\n",
       "            </tr>\n",
       "            <tr>\n",
       "                        <th id=\"T_f6609_level0_row8\" class=\"row_heading level0 row8\" >LeapBob</th>\n",
       "                        <td id=\"T_f6609_row8_col0\" class=\"data row8 col0\" >8553</td>\n",
       "                        <td id=\"T_f6609_row8_col1\" class=\"data row8 col1\" >262</td>\n",
       "                        <td id=\"T_f6609_row8_col2\" class=\"data row8 col2\" >3.06%</td>\n",
       "            </tr>\n",
       "            <tr>\n",
       "                        <th id=\"T_f6609_level0_row9\" class=\"row_heading level0 row9\" >OppleCreativeMedia</th>\n",
       "                        <td id=\"T_f6609_row9_col0\" class=\"data row9 col0\" >8605</td>\n",
       "                        <td id=\"T_f6609_row9_col1\" class=\"data row9 col1\" >233</td>\n",
       "                        <td id=\"T_f6609_row9_col2\" class=\"data row9 col2\" >2.71%</td>\n",
       "            </tr>\n",
       "            <tr>\n",
       "                        <th id=\"T_f6609_level0_row10\" class=\"row_heading level0 row10\" >organic</th>\n",
       "                        <td id=\"T_f6609_row10_col0\" class=\"data row10 col0\" >56439</td>\n",
       "                        <td id=\"T_f6609_row10_col1\" class=\"data row10 col1\" >1160</td>\n",
       "                        <td id=\"T_f6609_row10_col2\" class=\"data row10 col2\" >2.06%</td>\n",
       "            </tr>\n",
       "    </tbody></table>"
      ],
      "text/plain": [
       "<pandas.io.formats.style.Styler at 0x2986315df70>"
      ]
     },
     "execution_count": 20,
     "metadata": {},
     "output_type": "execute_result"
    }
   ],
   "source": [
    "# группируем профили по каналу привлечения и смотрим каналы из которых приходит больше всего платящих пользователей\n",
    "user_channels = (profiles.groupby('channel')\n",
    "                  .agg({'user_id' : 'nunique', 'payer' : ['sum', 'mean']}))\n",
    "user_channels.columns = ['users', 'payers', 'payers, %']\n",
    "user_channels = user_channels.sort_values(by='payers, %', ascending=False).style.format({'payers, %': '{:,.2%}'.format})\n",
    "user_channels"
   ]
  },
  {
   "cell_type": "markdown",
   "id": "707225ea",
   "metadata": {},
   "source": [
    "По таблице мы видим, что безусловным лидером `по количеству привлечённых платящих пользователей` является канал **FaceBoom**. Этот же канал является и лидером `по проценту платящих пользователей от привлечённых`. Среди лидеров `по проценту привлечённых платящих пользователей` также находятся каналы **AdNonSense**, **lambdaMediaAds** и **TipTop**. Абсолютным лидером `по количеству привлечённых пользователей` является канал **organic**, однако по статистике видно, что пользователи, пришедшие самостоятельно, `хуже всего конвертируются в платящих`."
   ]
  },
  {
   "cell_type": "markdown",
   "id": "e6790e78",
   "metadata": {},
   "source": [
    "## Маркетинг"
   ]
  },
  {
   "cell_type": "markdown",
   "id": "b44804c6",
   "metadata": {},
   "source": [
    "### Общая сумма расходов на маркетинг"
   ]
  },
  {
   "cell_type": "code",
   "execution_count": 21,
   "id": "f8c372de",
   "metadata": {},
   "outputs": [
    {
     "name": "stdout",
     "output_type": "stream",
     "text": [
      "Общая сумма расходов на маркетинг: 105497.3\n"
     ]
    }
   ],
   "source": [
    "# складываем все расходы на маркетинг, округлим до 1 знака\n",
    "print('Общая сумма расходов на маркетинг:', costs['costs'].sum().round(1))"
   ]
  },
  {
   "cell_type": "markdown",
   "id": "9f97f2d3",
   "metadata": {},
   "source": [
    "### Распределение затрат по рекламным источникам"
   ]
  },
  {
   "cell_type": "code",
   "execution_count": 22,
   "id": "6eafab78",
   "metadata": {
    "scrolled": false
   },
   "outputs": [
    {
     "data": {
      "text/html": [
       "<div>\n",
       "<style scoped>\n",
       "    .dataframe tbody tr th:only-of-type {\n",
       "        vertical-align: middle;\n",
       "    }\n",
       "\n",
       "    .dataframe tbody tr th {\n",
       "        vertical-align: top;\n",
       "    }\n",
       "\n",
       "    .dataframe thead th {\n",
       "        text-align: right;\n",
       "    }\n",
       "</style>\n",
       "<table border=\"1\" class=\"dataframe\">\n",
       "  <thead>\n",
       "    <tr style=\"text-align: right;\">\n",
       "      <th></th>\n",
       "      <th>costs</th>\n",
       "    </tr>\n",
       "    <tr>\n",
       "      <th>channel</th>\n",
       "      <th></th>\n",
       "    </tr>\n",
       "  </thead>\n",
       "  <tbody>\n",
       "    <tr>\n",
       "      <th>TipTop</th>\n",
       "      <td>54751.30</td>\n",
       "    </tr>\n",
       "    <tr>\n",
       "      <th>FaceBoom</th>\n",
       "      <td>32445.60</td>\n",
       "    </tr>\n",
       "    <tr>\n",
       "      <th>WahooNetBanner</th>\n",
       "      <td>5151.00</td>\n",
       "    </tr>\n",
       "    <tr>\n",
       "      <th>AdNonSense</th>\n",
       "      <td>3911.25</td>\n",
       "    </tr>\n",
       "    <tr>\n",
       "      <th>OppleCreativeMedia</th>\n",
       "      <td>2151.25</td>\n",
       "    </tr>\n",
       "    <tr>\n",
       "      <th>RocketSuperAds</th>\n",
       "      <td>1833.00</td>\n",
       "    </tr>\n",
       "    <tr>\n",
       "      <th>LeapBob</th>\n",
       "      <td>1797.60</td>\n",
       "    </tr>\n",
       "    <tr>\n",
       "      <th>lambdaMediaAds</th>\n",
       "      <td>1557.60</td>\n",
       "    </tr>\n",
       "    <tr>\n",
       "      <th>MediaTornado</th>\n",
       "      <td>954.48</td>\n",
       "    </tr>\n",
       "    <tr>\n",
       "      <th>YRabbit</th>\n",
       "      <td>944.22</td>\n",
       "    </tr>\n",
       "  </tbody>\n",
       "</table>\n",
       "</div>"
      ],
      "text/plain": [
       "                       costs\n",
       "channel                     \n",
       "TipTop              54751.30\n",
       "FaceBoom            32445.60\n",
       "WahooNetBanner       5151.00\n",
       "AdNonSense           3911.25\n",
       "OppleCreativeMedia   2151.25\n",
       "RocketSuperAds       1833.00\n",
       "LeapBob              1797.60\n",
       "lambdaMediaAds       1557.60\n",
       "MediaTornado          954.48\n",
       "YRabbit               944.22"
      ]
     },
     "metadata": {},
     "output_type": "display_data"
    },
    {
     "data": {
      "image/png": "[encoded data removed]",
      "text/plain": [
       "<Figure size 640x480 with 1 Axes>"
      ]
     },
     "metadata": {},
     "output_type": "display_data"
    }
   ],
   "source": [
    "# группируем затраты по источникам\n",
    "costs_channels = (costs.groupby('channel')\n",
    "                  .agg({'costs' : 'sum'})\n",
    "                  .sort_values(by='costs', ascending=False))\n",
    "display(costs_channels)\n",
    "costs_channels.plot.pie(\n",
    "    y='costs',\n",
    "    radius=(1),\n",
    "    legend=False,\n",
    "    autopct='%1.1f%%')\n",
    "plt.title('Процент рекламных затрат', fontsize=15)\n",
    "plt.show()"
   ]
  },
  {
   "cell_type": "markdown",
   "id": "50e1d225",
   "metadata": {},
   "source": [
    "По данным видим, что больше всего и с большим отрывом денег потрачено на источники **TipTop** и **FaceBoom** (`больше 80%` бюджета выделено на два источника), меньше всего на **YRabbit** и **MediaTornado**."
   ]
  },
  {
   "cell_type": "markdown",
   "id": "d7ff6582",
   "metadata": {},
   "source": [
    "### Динамика изменений расходов во времени"
   ]
  },
  {
   "cell_type": "code",
   "execution_count": 23,
   "id": "8862834e",
   "metadata": {},
   "outputs": [
    {
     "data": {
      "text/html": [
       "<div>\n",
       "<style scoped>\n",
       "    .dataframe tbody tr th:only-of-type {\n",
       "        vertical-align: middle;\n",
       "    }\n",
       "\n",
       "    .dataframe tbody tr th {\n",
       "        vertical-align: top;\n",
       "    }\n",
       "\n",
       "    .dataframe thead th {\n",
       "        text-align: right;\n",
       "    }\n",
       "</style>\n",
       "<table border=\"1\" class=\"dataframe\">\n",
       "  <thead>\n",
       "    <tr style=\"text-align: right;\">\n",
       "      <th></th>\n",
       "      <th>dt</th>\n",
       "      <th>channel</th>\n",
       "      <th>costs</th>\n",
       "      <th>week</th>\n",
       "      <th>month</th>\n",
       "    </tr>\n",
       "  </thead>\n",
       "  <tbody>\n",
       "    <tr>\n",
       "      <th>0</th>\n",
       "      <td>2019-05-01</td>\n",
       "      <td>FaceBoom</td>\n",
       "      <td>113.3</td>\n",
       "      <td>2019-04-25</td>\n",
       "      <td>2019-05-01</td>\n",
       "    </tr>\n",
       "    <tr>\n",
       "      <th>1</th>\n",
       "      <td>2019-05-02</td>\n",
       "      <td>FaceBoom</td>\n",
       "      <td>78.1</td>\n",
       "      <td>2019-05-02</td>\n",
       "      <td>2019-05-01</td>\n",
       "    </tr>\n",
       "    <tr>\n",
       "      <th>2</th>\n",
       "      <td>2019-05-03</td>\n",
       "      <td>FaceBoom</td>\n",
       "      <td>85.8</td>\n",
       "      <td>2019-05-02</td>\n",
       "      <td>2019-05-01</td>\n",
       "    </tr>\n",
       "    <tr>\n",
       "      <th>3</th>\n",
       "      <td>2019-05-04</td>\n",
       "      <td>FaceBoom</td>\n",
       "      <td>136.4</td>\n",
       "      <td>2019-05-02</td>\n",
       "      <td>2019-05-01</td>\n",
       "    </tr>\n",
       "    <tr>\n",
       "      <th>4</th>\n",
       "      <td>2019-05-05</td>\n",
       "      <td>FaceBoom</td>\n",
       "      <td>122.1</td>\n",
       "      <td>2019-05-02</td>\n",
       "      <td>2019-05-01</td>\n",
       "    </tr>\n",
       "  </tbody>\n",
       "</table>\n",
       "</div>"
      ],
      "text/plain": [
       "           dt   channel  costs       week      month\n",
       "0  2019-05-01  FaceBoom  113.3 2019-04-25 2019-05-01\n",
       "1  2019-05-02  FaceBoom   78.1 2019-05-02 2019-05-01\n",
       "2  2019-05-03  FaceBoom   85.8 2019-05-02 2019-05-01\n",
       "3  2019-05-04  FaceBoom  136.4 2019-05-02 2019-05-01\n",
       "4  2019-05-05  FaceBoom  122.1 2019-05-02 2019-05-01"
      ]
     },
     "execution_count": 23,
     "metadata": {},
     "output_type": "execute_result"
    }
   ],
   "source": [
    "# добавляем столбцы недели и месяца в датафрейм с расходами на рекламу\n",
    "costs['week'] = costs['dt'].astype('datetime64[W]')\n",
    "costs['month'] = costs['dt'].astype('datetime64[M]')\n",
    "costs.head()"
   ]
  },
  {
   "cell_type": "code",
   "execution_count": 24,
   "id": "922c63da",
   "metadata": {
    "scrolled": false
   },
   "outputs": [
    {
     "data": {
      "image/png": "[encoded data removed]",
      "text/plain": [
       "<Figure size 1500x1000 with 1 Axes>"
      ]
     },
     "metadata": {},
     "output_type": "display_data"
    }
   ],
   "source": [
    "(\n",
    "    costs.pivot_table\n",
    "    (index='month',\n",
    "     columns='channel',\n",
    "     values='costs',\n",
    "     aggfunc='sum')\n",
    "    .plot\n",
    "    (\n",
    "        figsize=(15,10),\n",
    "        grid=True,\n",
    "        color=['b','g','r','c','m','y','k','grey','orangered','yellow']\n",
    "    )\n",
    ")\n",
    "plt.title('Динамика расходов на маркетинг по месяцам', fontsize=20)\n",
    "plt.xlabel('Месяц')\n",
    "plt.xticks(costs['month'].unique())\n",
    "plt.ylabel('Сумма расходов', fontsize=15)\n",
    "plt.show()"
   ]
  },
  {
   "cell_type": "code",
   "execution_count": null,
   "id": "ebf77dd1",
   "metadata": {
    "scrolled": false
   },
   "outputs": [],
   "source": [
    "(\n",
    "    costs.pivot_table\n",
    "    (index='week',\n",
    "     columns='channel',\n",
    "     values='costs',\n",
    "     aggfunc='sum')\n",
    "    .plot\n",
    "    (\n",
    "        figsize=(15,10),\n",
    "        grid=True,\n",
    "        color=['b','g','r','c','m','y','k','grey','orangered','yellow']\n",
    "    )\n",
    ")\n",
    "plt.title('Динамика расходов на маркетинг по неделям', fontsize=20)\n",
    "plt.xlabel('')\n",
    "plt.xticks(costs['week'].unique())\n",
    "plt.ylabel('Сумма расходов', fontsize=15)\n",
    "plt.show()"
   ]
  },
  {
   "cell_type": "markdown",
   "id": "75b3173e",
   "metadata": {},
   "source": [
    "По данным графикам мы видим, что расходы на источники **TipTop** и **FaceBoom** скачками растут с мая до конца сентября и только с последней недели сентября начинают снижаться. Остальные источники, кроме указанных двух, практически не финансируются."
   ]
  },
  {
   "cell_type": "markdown",
   "id": "6b48d25b",
   "metadata": {},
   "source": [
    "### Средняя стоимость привлечения пользователя по источникам"
   ]
  },
  {
   "cell_type": "code",
   "execution_count": null,
   "id": "3a1ff1c6",
   "metadata": {},
   "outputs": [],
   "source": [
    "# группируем профили по каналу привлечения и смотрим среднюю стоимость привлечения пользователя\n",
    "cac = (profiles.groupby('channel')\n",
    "                 .agg({'acquisition_cost' : 'mean'})\n",
    "                 .sort_values(by='acquisition_cost'))\n",
    "cac"
   ]
  },
  {
   "cell_type": "markdown",
   "id": "2c0774b2",
   "metadata": {},
   "source": [
    "По таблице видно, что источники, на которые потрачен практически весь бюджет - **TipTop** и **FaceBoom**, на самом деле принесли самых дорогих пользователей. Большинство из остальных источников привлекают пользователей значительно дешевле."
   ]
  },
  {
   "cell_type": "markdown",
   "id": "9e8b4c41",
   "metadata": {},
   "source": [
    "## Оценка окупаемости рекламы"
   ]
  },
  {
   "cell_type": "markdown",
   "id": "41319dfb",
   "metadata": {},
   "source": [
    "### Окупаемость рекламы"
   ]
  },
  {
   "cell_type": "code",
   "execution_count": null,
   "id": "a114f2d8",
   "metadata": {},
   "outputs": [],
   "source": [
    "# задаём момент анализа (1 ноября 2019)\n",
    "observation_date = datetime(2019, 11, 1).date()\n",
    "# задаём горизонт анализа (1 ноября 2019)\n",
    "horizon_days = 14"
   ]
  },
  {
   "cell_type": "code",
   "execution_count": null,
   "id": "ebaa97a8",
   "metadata": {},
   "outputs": [],
   "source": [
    "# исключаем из профилей пользователей, пришедших самостоятельно\n",
    "profiles = profiles.query('channel != \"organic\"')"
   ]
  },
  {
   "cell_type": "code",
   "execution_count": null,
   "id": "f461660e",
   "metadata": {
    "scrolled": false
   },
   "outputs": [],
   "source": [
    "# считаем LTV и ROI\n",
    "ltv_raw, ltv_grouped, ltv_history, roi_grouped, roi_history = get_ltv(\n",
    "    profiles, orders, observation_date, horizon_days)\n",
    "\n",
    "# строим графики\n",
    "plot_ltv_roi(ltv_grouped, ltv_history, roi_grouped, roi_history, horizon_days) "
   ]
  },
  {
   "cell_type": "markdown",
   "id": "369b4825",
   "metadata": {},
   "source": [
    "Судя по данным графикам, **LTV** `растёт`, однако **динамика LTV** `остаётся примерно на одном уровне`, чего не скажешь о **стоимости привлечения пользователей**: начиная с середины мая, **динамика стоимости привлечения пользователей** `начала расти и продолжала расти` до конца анализируемого периода.\\\n",
    "**ROI** `растёт` в течение всего изучаемого периода, но не пересекает линию окупаемости. **Динамика ROI** `резко снижается` начиная с самого первого дня. В целом, `расходы на рекламу не окупаются`."
   ]
  },
  {
   "cell_type": "code",
   "execution_count": null,
   "id": "f3ad233b",
   "metadata": {
    "scrolled": false
   },
   "outputs": [],
   "source": [
    "# смотрим окупаемость с разбивкой по устройствам\n",
    "\n",
    "dimensions = ['device']\n",
    "\n",
    "ltv_raw, ltv_grouped, ltv_history, roi_grouped, roi_history = get_ltv(\n",
    "    profiles, orders, observation_date, horizon_days, dimensions=dimensions\n",
    ")\n",
    "\n",
    "plot_ltv_roi(\n",
    "    ltv_grouped, ltv_history, roi_grouped, roi_history, horizon_days, window=14\n",
    ") "
   ]
  },
  {
   "cell_type": "markdown",
   "id": "010dfd10",
   "metadata": {},
   "source": [
    "По графикам видно, что `самыми дорогими` в привлечении пользователями являются пользователи **iPhone** и **Mac**. `Дешевле всего` обходятся пользователи **PC**. Пользователи **PC** являются единственной группой, которая `выходит на окупаемость` к концу анализируемого периода, однако `динамика окупаемости` говорит о том, что `окупаемость привлечения всех групп` пользователей `снижается весь исследуемый срок`."
   ]
  },
  {
   "cell_type": "code",
   "execution_count": null,
   "id": "4bf7a781",
   "metadata": {
    "scrolled": false
   },
   "outputs": [],
   "source": [
    "# смотрим окупаемость с разбивкой по странам\n",
    "\n",
    "dimensions = ['region']\n",
    "\n",
    "ltv_raw, ltv_grouped, ltv_history, roi_grouped, roi_history = get_ltv(\n",
    "    profiles, orders, observation_date, horizon_days, dimensions=dimensions\n",
    ")\n",
    "\n",
    "plot_ltv_roi(\n",
    "    ltv_grouped, ltv_history, roi_grouped, roi_history, horizon_days, window=14\n",
    ") "
   ]
  },
  {
   "cell_type": "markdown",
   "id": "a3c28486",
   "metadata": {},
   "source": [
    "На графиках видим серьёзное отличие в стоимости привлечения пользователей из **United States** и, если `стоимость привлечения пользователей из других стран`, начиная с июня даже `снижается`, то `стоимость привлечения пользователей` из **United States** `резко растёт`. По этой же причине пользователи из **United States** являются `единственной группой`, чьё привлечение `абсолютно не окупается`, что видно на графике **ROI**."
   ]
  },
  {
   "cell_type": "code",
   "execution_count": null,
   "id": "831aaa5d",
   "metadata": {
    "scrolled": false
   },
   "outputs": [],
   "source": [
    "# смотрим окупаемость с разбивкой по источникам привлечения\n",
    "\n",
    "dimensions = ['channel']\n",
    "\n",
    "ltv_raw, ltv_grouped, ltv_history, roi_grouped, roi_history = get_ltv(\n",
    "    profiles, orders, observation_date, horizon_days, dimensions=dimensions\n",
    ")\n",
    "\n",
    "plot_ltv_roi(\n",
    "    ltv_grouped, ltv_history, roi_grouped, roi_history, horizon_days, window=14\n",
    ") "
   ]
  },
  {
   "cell_type": "markdown",
   "id": "532b7186",
   "metadata": {},
   "source": [
    "В разбивке по источникам видим, что `самый большой вклад` в среднюю стоимость привлечения пользователей вносит источник **TipTop**, к концу анализируемого периода отрываясь `больше, чем в 3 раза от средней стоимости привлечения пользователей`.\\\n",
    "На графике **ROI** мы видим три источника, которые абсолютно `не окупаются`: **TipTop**, **FaceBoom** и **AdNonSense**."
   ]
  },
  {
   "cell_type": "markdown",
   "id": "2bfa8bed",
   "metadata": {},
   "source": [
    "### Конверсия и удержание пользователей"
   ]
  },
  {
   "cell_type": "code",
   "execution_count": null,
   "id": "f0daab71",
   "metadata": {
    "scrolled": false
   },
   "outputs": [],
   "source": [
    "# смотрим конверсию с разбивкой по устройствам\n",
    "dimensions = ['device']\n",
    "\n",
    "conversion_raw, conversion_grouped, conversion_history = get_conversion(\n",
    "    profiles, orders, observation_date, horizon_days, dimensions=dimensions)\n",
    "\n",
    "plot_conversion(conversion_grouped, conversion_history, horizon_days)"
   ]
  },
  {
   "cell_type": "markdown",
   "id": "f1b717d7",
   "metadata": {},
   "source": [
    "По графикам видим, что `лучшую конверсию` показывают пользователи **Apple**, `худшую` - пользователи **PC**."
   ]
  },
  {
   "cell_type": "code",
   "execution_count": null,
   "id": "42f03e46",
   "metadata": {
    "scrolled": false
   },
   "outputs": [],
   "source": [
    "# смотрим удержание с разбивкой по устройствам\n",
    "dimensions = ['device']\n",
    "\n",
    "retention_raw, retention_grouped, retention_history = get_retention(\n",
    "    profiles, visits, observation_date, horizon_days, dimensions=dimensions)\n",
    "\n",
    "plot_retention(retention_grouped, retention_history, horizon_days) "
   ]
  },
  {
   "cell_type": "markdown",
   "id": "4cfee1b9",
   "metadata": {},
   "source": [
    "По графикам видно, что `удержание равномерно снижается` для пользователей всех устройств, однако пользователи **PC** показывают результаты `чуть лучше`, а пользователи **iPhone** `чуть хуже`."
   ]
  },
  {
   "cell_type": "code",
   "execution_count": null,
   "id": "58c06261",
   "metadata": {
    "scrolled": true
   },
   "outputs": [],
   "source": [
    "# смотрим конверсию с разбивкой по странам\n",
    "dimensions = ['region']\n",
    "\n",
    "conversion_raw, conversion_grouped, conversion_history = get_conversion(\n",
    "    profiles, orders, observation_date, horizon_days, dimensions=dimensions)\n",
    "\n",
    "plot_conversion(conversion_grouped, conversion_history, horizon_days)"
   ]
  },
  {
   "cell_type": "markdown",
   "id": "877dc8f6",
   "metadata": {},
   "source": [
    "На графиках сильно выделяются пользователи из **United States**, показывая `наилучшую конверсию`. Пользователи из `других стран` показывают примерно `одинаковые результаты`."
   ]
  },
  {
   "cell_type": "code",
   "execution_count": null,
   "id": "16a3cc9e",
   "metadata": {
    "scrolled": true
   },
   "outputs": [],
   "source": [
    "# смотрим удержание с разбивкой по странам\n",
    "dimensions = ['region']\n",
    "\n",
    "retention_raw, retention_grouped, retention_history = get_retention(\n",
    "    profiles, visits, observation_date, horizon_days, dimensions=dimensions)\n",
    "\n",
    "plot_retention(retention_grouped, retention_history, horizon_days) "
   ]
  },
  {
   "cell_type": "markdown",
   "id": "4369a498",
   "metadata": {},
   "source": [
    "Лучшие результаты по удержанию показывают пользователи из **UK** и **France**, хуже всего обстоят дела с пользователями из **United States**."
   ]
  },
  {
   "cell_type": "code",
   "execution_count": null,
   "id": "b3753c58",
   "metadata": {
    "scrolled": true
   },
   "outputs": [],
   "source": [
    "# смотрим конверсию с разбивкой по источникам привлечения\n",
    "dimensions = ['channel']\n",
    "\n",
    "conversion_raw, conversion_grouped, conversion_history = get_conversion(\n",
    "    profiles, orders, observation_date, horizon_days, dimensions=dimensions)\n",
    "\n",
    "plot_conversion(conversion_grouped, conversion_history, horizon_days)"
   ]
  },
  {
   "cell_type": "markdown",
   "id": "4fadd029",
   "metadata": {},
   "source": [
    "В лидерах по конверсии пользователей **FaceBoom**, **AdNonSense** и **lambdaMediaAds**. Худшую конверсию показывают пользователи, привлечённые **OppleCreativeMedia**, **LeapBob**, **MediaTornado** и **YRabbit**."
   ]
  },
  {
   "cell_type": "code",
   "execution_count": null,
   "id": "46b612ef",
   "metadata": {
    "scrolled": true
   },
   "outputs": [],
   "source": [
    "# смотрим удержание с разбивкой по источникам привлечения\n",
    "dimensions = ['channel']\n",
    "\n",
    "retention_raw, retention_grouped, retention_history = get_retention(\n",
    "    profiles, visits, observation_date, horizon_days, dimensions=dimensions)\n",
    "\n",
    "plot_retention(retention_grouped, retention_history, horizon_days) "
   ]
  },
  {
   "cell_type": "markdown",
   "id": "e1321196",
   "metadata": {},
   "source": [
    "В среднем `все источники` показывают примерно `один уровень удержания` за исключением двух: **FaceBoom** и **AdNonSense** изначально показывают удержание почти `в два раза ниже`, а под конец анализируемого периода `удержание` от этих источников `становится практически нулевым`."
   ]
  },
  {
   "cell_type": "markdown",
   "id": "b89abeab",
   "metadata": {},
   "source": [
    "## Выводы по оценке окупаемости рекламы\n",
    "`Наиболее проблемными` можно обозначить следующие категории: `самыми дорогими` в привлечении пользователями являются пользователи **iPhone** и **Mac**.\\\n",
    "Очень `дорого` обходится привлечение пользователей из **United States**: `динамика окупаемости` их привлечения практически весь срок находится `ниже линии окупаемости`.\\\n",
    "\\\n",
    "Что касается `источников привлечения`, то `самым дорогим` оказывается **TipTop**, притом график `динамики стоимости привлечения` пользователей через этот источник `коррелирует с графиком затрат на привлечение` пользователей из **United States**. \n",
    "Несмотря на `хорошие показатели графика конверсии` пользователей из **United States**, `график удержания платящих пользователей` демонстрирует `самые низкие показатели`.\\\n",
    "Можно предположить, что `стоимость рекламы` в стране с `первой экономикой в мире` очень высока и поэтому требует больших затрат, однако `качество привлечённых пользователей сильно страдает`.\\\n",
    "\\\n",
    "Также стоит обратить внимание на два источника привлечения пользователей: **FaceBoom** и **AdNonSense**. Несмотря на `отличные показатели конверсии`, `показатели удержания` у данных источников `значительно ниже` других источников."
   ]
  },
  {
   "cell_type": "markdown",
   "id": "ae465831",
   "metadata": {},
   "source": [
    "## Рекомендации для отдела маркетинга\n",
    "- Больше `диверсифицировать рекламный бюджет` (**больше 80%** бюджета потрачено на два источника) стоит обратить внимание на **lambdaMediaAds**, **RocketSuperAds** и **WahooNetBanner**.  \n",
    " - Внимательно `проанализировать взаимодействие` с источниками  **FaceBoom** и **AdNonSense**: возможно они каким-то образом `искусственно создают трафик` привлечённых пользователей, так как при `отличных показателях конверсии`, `показатели удержания` изначально `почти в два раза ниже`, чем у других источников, а под конец анализируемого периода `удержание` от этих источников `становится практически нулевым`. \n",
    " - `Оценить целесообразность` использования источника **TipTop**, цена привлечения пользователя в котором `почти в три раза выше`, чем в ближайшем по стоимости источнике.\n",
    " - `Проверить приложение` на технические ошибки для пользователей **Apple**, так как `стоимость их привлечения очень высокая`, а `удержание нет`.\n",
    " - `Обратить дополнительное внимание` на пользователей **PC**: при `низких показателях конверсии` они показывают `высокие результаты по удержанию и окупаемости`.\n",
    " - `Проанализировать рынок`  **United States**: при `очень высокой стоимости привлечения` пользователей из этой страны и `высоких показателях конверсии`, `показатели удержания` находятся `существенно ниже` всех остальных стран. Возможно пользователи из **United States** сталкиваются с техническими трудностями или не учтены культурные особенности данного региона.\n",
    " - Возможно стоит `расширить присутствие` в **Европе**: пользователи из этого региона показывают `хорошие результаты окупаемости и удержания`."
   ]
  }
 ],
 "metadata": {
  "ExecuteTimeLog": [
   {
    "duration": 1557,
    "start_time": "2023-01-11T19:34:37.500Z"
   },
   {
    "duration": 264,
    "start_time": "2023-01-11T19:34:39.059Z"
   },
   {
    "duration": 0,
    "start_time": "2023-01-11T19:34:39.326Z"
   },
   {
    "duration": 0,
    "start_time": "2023-01-11T19:34:39.327Z"
   },
   {
    "duration": 0,
    "start_time": "2023-01-11T19:34:39.328Z"
   },
   {
    "duration": 0,
    "start_time": "2023-01-11T19:34:39.329Z"
   },
   {
    "duration": 0,
    "start_time": "2023-01-11T19:34:39.330Z"
   },
   {
    "duration": 0,
    "start_time": "2023-01-11T19:34:39.331Z"
   },
   {
    "duration": 0,
    "start_time": "2023-01-11T19:34:39.332Z"
   },
   {
    "duration": 0,
    "start_time": "2023-01-11T19:34:39.333Z"
   },
   {
    "duration": 0,
    "start_time": "2023-01-11T19:34:39.334Z"
   },
   {
    "duration": 0,
    "start_time": "2023-01-11T19:34:39.335Z"
   },
   {
    "duration": 0,
    "start_time": "2023-01-11T19:34:39.336Z"
   },
   {
    "duration": 0,
    "start_time": "2023-01-11T19:34:39.337Z"
   },
   {
    "duration": 0,
    "start_time": "2023-01-11T19:34:39.338Z"
   },
   {
    "duration": 0,
    "start_time": "2023-01-11T19:34:39.339Z"
   },
   {
    "duration": 0,
    "start_time": "2023-01-11T19:34:39.340Z"
   },
   {
    "duration": 0,
    "start_time": "2023-01-11T19:34:39.341Z"
   },
   {
    "duration": 0,
    "start_time": "2023-01-11T19:34:39.342Z"
   },
   {
    "duration": 0,
    "start_time": "2023-01-11T19:34:39.343Z"
   },
   {
    "duration": 0,
    "start_time": "2023-01-11T19:34:39.344Z"
   },
   {
    "duration": 0,
    "start_time": "2023-01-11T19:34:39.345Z"
   },
   {
    "duration": 0,
    "start_time": "2023-01-11T19:34:39.345Z"
   },
   {
    "duration": 0,
    "start_time": "2023-01-11T19:34:39.346Z"
   },
   {
    "duration": 0,
    "start_time": "2023-01-11T19:34:39.347Z"
   },
   {
    "duration": 0,
    "start_time": "2023-01-11T19:34:39.348Z"
   },
   {
    "duration": 0,
    "start_time": "2023-01-11T19:34:39.349Z"
   },
   {
    "duration": 0,
    "start_time": "2023-01-11T19:34:39.350Z"
   },
   {
    "duration": 0,
    "start_time": "2023-01-11T19:34:39.351Z"
   },
   {
    "duration": 0,
    "start_time": "2023-01-11T19:34:39.352Z"
   },
   {
    "duration": 0,
    "start_time": "2023-01-11T19:34:39.353Z"
   },
   {
    "duration": 0,
    "start_time": "2023-01-11T19:34:39.354Z"
   },
   {
    "duration": 0,
    "start_time": "2023-01-11T19:34:39.355Z"
   },
   {
    "duration": 0,
    "start_time": "2023-01-11T19:34:39.356Z"
   },
   {
    "duration": 0,
    "start_time": "2023-01-11T19:34:39.357Z"
   },
   {
    "duration": 0,
    "start_time": "2023-01-11T19:34:39.358Z"
   },
   {
    "duration": 0,
    "start_time": "2023-01-11T19:34:39.359Z"
   },
   {
    "duration": 0,
    "start_time": "2023-01-11T19:34:39.360Z"
   },
   {
    "duration": 1222,
    "start_time": "2023-01-12T16:49:08.635Z"
   },
   {
    "duration": 148,
    "start_time": "2023-01-12T16:49:09.859Z"
   },
   {
    "duration": 0,
    "start_time": "2023-01-12T16:49:10.010Z"
   },
   {
    "duration": 0,
    "start_time": "2023-01-12T16:49:10.012Z"
   },
   {
    "duration": 0,
    "start_time": "2023-01-12T16:49:10.013Z"
   },
   {
    "duration": 0,
    "start_time": "2023-01-12T16:49:10.014Z"
   },
   {
    "duration": 0,
    "start_time": "2023-01-12T16:49:10.015Z"
   },
   {
    "duration": 1,
    "start_time": "2023-01-12T16:49:10.016Z"
   },
   {
    "duration": 0,
    "start_time": "2023-01-12T16:49:10.018Z"
   },
   {
    "duration": 0,
    "start_time": "2023-01-12T16:49:10.020Z"
   },
   {
    "duration": 0,
    "start_time": "2023-01-12T16:49:10.021Z"
   },
   {
    "duration": 0,
    "start_time": "2023-01-12T16:49:10.035Z"
   },
   {
    "duration": 0,
    "start_time": "2023-01-12T16:49:10.036Z"
   },
   {
    "duration": 0,
    "start_time": "2023-01-12T16:49:10.037Z"
   },
   {
    "duration": 0,
    "start_time": "2023-01-12T16:49:10.038Z"
   },
   {
    "duration": 0,
    "start_time": "2023-01-12T16:49:10.040Z"
   },
   {
    "duration": 0,
    "start_time": "2023-01-12T16:49:10.041Z"
   },
   {
    "duration": 0,
    "start_time": "2023-01-12T16:49:10.042Z"
   },
   {
    "duration": 0,
    "start_time": "2023-01-12T16:49:10.044Z"
   },
   {
    "duration": 0,
    "start_time": "2023-01-12T16:49:10.044Z"
   },
   {
    "duration": 0,
    "start_time": "2023-01-12T16:49:10.045Z"
   },
   {
    "duration": 0,
    "start_time": "2023-01-12T16:49:10.046Z"
   },
   {
    "duration": 0,
    "start_time": "2023-01-12T16:49:10.047Z"
   },
   {
    "duration": 0,
    "start_time": "2023-01-12T16:49:10.048Z"
   },
   {
    "duration": 0,
    "start_time": "2023-01-12T16:49:10.050Z"
   },
   {
    "duration": 0,
    "start_time": "2023-01-12T16:49:10.051Z"
   },
   {
    "duration": 0,
    "start_time": "2023-01-12T16:49:10.053Z"
   },
   {
    "duration": 0,
    "start_time": "2023-01-12T16:49:10.054Z"
   },
   {
    "duration": 0,
    "start_time": "2023-01-12T16:49:10.055Z"
   },
   {
    "duration": 0,
    "start_time": "2023-01-12T16:49:10.057Z"
   },
   {
    "duration": 0,
    "start_time": "2023-01-12T16:49:10.058Z"
   },
   {
    "duration": 0,
    "start_time": "2023-01-12T16:49:10.059Z"
   },
   {
    "duration": 0,
    "start_time": "2023-01-12T16:49:10.060Z"
   },
   {
    "duration": 0,
    "start_time": "2023-01-12T16:49:10.061Z"
   },
   {
    "duration": 0,
    "start_time": "2023-01-12T16:49:10.063Z"
   },
   {
    "duration": 0,
    "start_time": "2023-01-12T16:49:10.064Z"
   },
   {
    "duration": 0,
    "start_time": "2023-01-12T16:49:10.065Z"
   },
   {
    "duration": 0,
    "start_time": "2023-01-12T16:49:10.066Z"
   },
   {
    "duration": 0,
    "start_time": "2023-01-12T16:49:10.068Z"
   },
   {
    "duration": 1707,
    "start_time": "2023-01-12T16:50:19.734Z"
   },
   {
    "duration": 1507,
    "start_time": "2023-01-12T16:50:21.444Z"
   },
   {
    "duration": 20,
    "start_time": "2023-01-12T16:50:22.953Z"
   },
   {
    "duration": 89,
    "start_time": "2023-01-12T16:50:22.974Z"
   },
   {
    "duration": 304,
    "start_time": "2023-01-12T16:50:23.066Z"
   },
   {
    "duration": 92,
    "start_time": "2023-01-12T16:50:23.372Z"
   },
   {
    "duration": 216,
    "start_time": "2023-01-12T16:50:23.466Z"
   },
   {
    "duration": 6,
    "start_time": "2023-01-12T16:50:23.685Z"
   },
   {
    "duration": 29,
    "start_time": "2023-01-12T16:50:23.693Z"
   },
   {
    "duration": 36,
    "start_time": "2023-01-12T16:50:23.724Z"
   },
   {
    "duration": 29,
    "start_time": "2023-01-12T16:50:23.762Z"
   },
   {
    "duration": 33,
    "start_time": "2023-01-12T16:50:23.793Z"
   },
   {
    "duration": 31,
    "start_time": "2023-01-12T16:50:23.828Z"
   },
   {
    "duration": 29,
    "start_time": "2023-01-12T16:50:23.862Z"
   },
   {
    "duration": 17,
    "start_time": "2023-01-12T16:50:23.893Z"
   },
   {
    "duration": 516,
    "start_time": "2023-01-12T16:50:23.912Z"
   },
   {
    "duration": 44,
    "start_time": "2023-01-12T16:50:24.434Z"
   },
   {
    "duration": 109,
    "start_time": "2023-01-12T16:50:24.480Z"
   },
   {
    "duration": 50,
    "start_time": "2023-01-12T16:50:24.592Z"
   },
   {
    "duration": 40,
    "start_time": "2023-01-12T16:50:24.644Z"
   },
   {
    "duration": 3,
    "start_time": "2023-01-12T16:50:24.686Z"
   },
   {
    "duration": 203,
    "start_time": "2023-01-12T16:50:24.691Z"
   },
   {
    "duration": 811,
    "start_time": "2023-01-12T16:50:24.896Z"
   },
   {
    "duration": 15,
    "start_time": "2023-01-12T16:50:25.709Z"
   },
   {
    "duration": 360,
    "start_time": "2023-01-12T16:50:25.736Z"
   },
   {
    "duration": 496,
    "start_time": "2023-01-12T16:50:26.098Z"
   },
   {
    "duration": 21,
    "start_time": "2023-01-12T16:50:26.596Z"
   },
   {
    "duration": 18,
    "start_time": "2023-01-12T16:50:26.618Z"
   },
   {
    "duration": 43,
    "start_time": "2023-01-12T16:50:26.638Z"
   },
   {
    "duration": 2045,
    "start_time": "2023-01-12T16:50:26.684Z"
   },
   {
    "duration": 2326,
    "start_time": "2023-01-12T16:50:28.731Z"
   },
   {
    "duration": 2613,
    "start_time": "2023-01-12T16:50:31.059Z"
   },
   {
    "duration": 3003,
    "start_time": "2023-01-12T16:50:33.675Z"
   },
   {
    "duration": 1077,
    "start_time": "2023-01-12T16:50:36.680Z"
   },
   {
    "duration": 1912,
    "start_time": "2023-01-12T16:50:37.759Z"
   },
   {
    "duration": 1060,
    "start_time": "2023-01-12T16:50:39.673Z"
   },
   {
    "duration": 1748,
    "start_time": "2023-01-12T16:50:40.735Z"
   },
   {
    "duration": 1339,
    "start_time": "2023-01-12T16:50:42.485Z"
   },
   {
    "duration": 2123,
    "start_time": "2023-01-12T16:50:43.826Z"
   }
  ],
  "kernelspec": {
   "display_name": "Python 3 (ipykernel)",
   "language": "python",
   "name": "python3"
  },
  "language_info": {
   "codemirror_mode": {
    "name": "ipython",
    "version": 3
   },
   "file_extension": ".py",
   "mimetype": "text/x-python",
   "name": "python",
   "nbconvert_exporter": "python",
   "pygments_lexer": "ipython3",
   "version": "3.9.18"
  },
  "toc": {
   "base_numbering": 1,
   "nav_menu": {},
   "number_sections": true,
   "sideBar": true,
   "skip_h1_title": true,
   "title_cell": "Table of Contents",
   "title_sidebar": "Contents",
   "toc_cell": false,
   "toc_position": {},
   "toc_section_display": true,
   "toc_window_display": true
  }
 },
 "nbformat": 4,
 "nbformat_minor": 5
}
