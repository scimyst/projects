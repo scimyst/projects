{
 "cells": [
  {
   "cell_type": "markdown",
   "id": "bc2c49a4",
   "metadata": {
    "deletable": false,
    "editable": false,
    "id": "c81daeeb"
   },
   "source": [
    "# Исследование надежности заемщиков"
   ]
  },
  {
   "cell_type": "markdown",
   "id": "2f857a3d",
   "metadata": {
    "deletable": false,
    "editable": false,
    "id": "-G3EJWzf62s6"
   },
   "source": [
    "Это первая часть проекта, она будет проверена автоматически. Вторую часть проверит ревьюер. "
   ]
  },
  {
   "cell_type": "markdown",
   "id": "a9cb2957",
   "metadata": {
    "deletable": false,
    "editable": false,
    "id": "744d7639"
   },
   "source": [
    "## Откройте таблицу и изучите общую информацию о данных"
   ]
  },
  {
   "cell_type": "markdown",
   "id": "669a010e",
   "metadata": {
    "deletable": false,
    "editable": false,
    "id": "e7a14c31",
    "tags": [
     "start_task"
    ]
   },
   "source": [
    "**Задание 1. Импортируйте библиотеку pandas. Считайте данные из csv-файла в датафрейм и сохраните в переменную `data`. Путь к файлу:**\n",
    "\n",
    "`/datasets/data.csv`"
   ]
  },
  {
   "cell_type": "code",
   "execution_count": 1,
   "id": "4d32c2ff",
   "metadata": {
    "id": "7bcf75c9"
   },
   "outputs": [],
   "source": [
    "# импортируйте библиотеку pandas\n",
    "import pandas as pd"
   ]
  },
  {
   "cell_type": "code",
   "execution_count": 2,
   "id": "26ea305a",
   "metadata": {
    "id": "4d240ee2"
   },
   "outputs": [],
   "source": [
    "# прочитайте csv-файл\n",
    "data = pd.read_csv('data.csv')"
   ]
  },
  {
   "cell_type": "code",
   "execution_count": 3,
   "id": "24a2aa1f",
   "metadata": {},
   "outputs": [],
   "source": [
    "# try:\n",
    "#     data = pd.read_csv('/datasets/data.csv')\n",
    "# except:\n",
    "#     data = pd.read_csv('https://code.s3.yandex.net/datasets/data.csv')"
   ]
  },
  {
   "cell_type": "markdown",
   "id": "2df5c771",
   "metadata": {
    "deletable": false,
    "editable": false,
    "id": "b8038fe3",
    "tags": [
     "start_task"
    ]
   },
   "source": [
    "**Задание 2. Выведите первые 20 строчек датафрейма `data` на экран.**"
   ]
  },
  {
   "cell_type": "code",
   "execution_count": 4,
   "id": "7f8bbda6",
   "metadata": {
    "id": "2a7cab99"
   },
   "outputs": [
    {
     "data": {
      "text/html": [
       "<div>\n",
       "<style scoped>\n",
       "    .dataframe tbody tr th:only-of-type {\n",
       "        vertical-align: middle;\n",
       "    }\n",
       "\n",
       "    .dataframe tbody tr th {\n",
       "        vertical-align: top;\n",
       "    }\n",
       "\n",
       "    .dataframe thead th {\n",
       "        text-align: right;\n",
       "    }\n",
       "</style>\n",
       "<table border=\"1\" class=\"dataframe\">\n",
       "  <thead>\n",
       "    <tr style=\"text-align: right;\">\n",
       "      <th></th>\n",
       "      <th>children</th>\n",
       "      <th>days_employed</th>\n",
       "      <th>dob_years</th>\n",
       "      <th>education</th>\n",
       "      <th>education_id</th>\n",
       "      <th>family_status</th>\n",
       "      <th>family_status_id</th>\n",
       "      <th>gender</th>\n",
       "      <th>income_type</th>\n",
       "      <th>debt</th>\n",
       "      <th>total_income</th>\n",
       "      <th>purpose</th>\n",
       "    </tr>\n",
       "  </thead>\n",
       "  <tbody>\n",
       "    <tr>\n",
       "      <th>0</th>\n",
       "      <td>1</td>\n",
       "      <td>-8437.673028</td>\n",
       "      <td>42</td>\n",
       "      <td>высшее</td>\n",
       "      <td>0</td>\n",
       "      <td>женат / замужем</td>\n",
       "      <td>0</td>\n",
       "      <td>F</td>\n",
       "      <td>сотрудник</td>\n",
       "      <td>0</td>\n",
       "      <td>253875.639453</td>\n",
       "      <td>покупка жилья</td>\n",
       "    </tr>\n",
       "    <tr>\n",
       "      <th>1</th>\n",
       "      <td>1</td>\n",
       "      <td>-4024.803754</td>\n",
       "      <td>36</td>\n",
       "      <td>среднее</td>\n",
       "      <td>1</td>\n",
       "      <td>женат / замужем</td>\n",
       "      <td>0</td>\n",
       "      <td>F</td>\n",
       "      <td>сотрудник</td>\n",
       "      <td>0</td>\n",
       "      <td>112080.014102</td>\n",
       "      <td>приобретение автомобиля</td>\n",
       "    </tr>\n",
       "    <tr>\n",
       "      <th>2</th>\n",
       "      <td>0</td>\n",
       "      <td>-5623.422610</td>\n",
       "      <td>33</td>\n",
       "      <td>Среднее</td>\n",
       "      <td>1</td>\n",
       "      <td>женат / замужем</td>\n",
       "      <td>0</td>\n",
       "      <td>M</td>\n",
       "      <td>сотрудник</td>\n",
       "      <td>0</td>\n",
       "      <td>145885.952297</td>\n",
       "      <td>покупка жилья</td>\n",
       "    </tr>\n",
       "    <tr>\n",
       "      <th>3</th>\n",
       "      <td>3</td>\n",
       "      <td>-4124.747207</td>\n",
       "      <td>32</td>\n",
       "      <td>среднее</td>\n",
       "      <td>1</td>\n",
       "      <td>женат / замужем</td>\n",
       "      <td>0</td>\n",
       "      <td>M</td>\n",
       "      <td>сотрудник</td>\n",
       "      <td>0</td>\n",
       "      <td>267628.550329</td>\n",
       "      <td>дополнительное образование</td>\n",
       "    </tr>\n",
       "    <tr>\n",
       "      <th>4</th>\n",
       "      <td>0</td>\n",
       "      <td>340266.072047</td>\n",
       "      <td>53</td>\n",
       "      <td>среднее</td>\n",
       "      <td>1</td>\n",
       "      <td>гражданский брак</td>\n",
       "      <td>1</td>\n",
       "      <td>F</td>\n",
       "      <td>пенсионер</td>\n",
       "      <td>0</td>\n",
       "      <td>158616.077870</td>\n",
       "      <td>сыграть свадьбу</td>\n",
       "    </tr>\n",
       "    <tr>\n",
       "      <th>5</th>\n",
       "      <td>0</td>\n",
       "      <td>-926.185831</td>\n",
       "      <td>27</td>\n",
       "      <td>высшее</td>\n",
       "      <td>0</td>\n",
       "      <td>гражданский брак</td>\n",
       "      <td>1</td>\n",
       "      <td>M</td>\n",
       "      <td>компаньон</td>\n",
       "      <td>0</td>\n",
       "      <td>255763.565419</td>\n",
       "      <td>покупка жилья</td>\n",
       "    </tr>\n",
       "    <tr>\n",
       "      <th>6</th>\n",
       "      <td>0</td>\n",
       "      <td>-2879.202052</td>\n",
       "      <td>43</td>\n",
       "      <td>высшее</td>\n",
       "      <td>0</td>\n",
       "      <td>женат / замужем</td>\n",
       "      <td>0</td>\n",
       "      <td>F</td>\n",
       "      <td>компаньон</td>\n",
       "      <td>0</td>\n",
       "      <td>240525.971920</td>\n",
       "      <td>операции с жильем</td>\n",
       "    </tr>\n",
       "    <tr>\n",
       "      <th>7</th>\n",
       "      <td>0</td>\n",
       "      <td>-152.779569</td>\n",
       "      <td>50</td>\n",
       "      <td>СРЕДНЕЕ</td>\n",
       "      <td>1</td>\n",
       "      <td>женат / замужем</td>\n",
       "      <td>0</td>\n",
       "      <td>M</td>\n",
       "      <td>сотрудник</td>\n",
       "      <td>0</td>\n",
       "      <td>135823.934197</td>\n",
       "      <td>образование</td>\n",
       "    </tr>\n",
       "    <tr>\n",
       "      <th>8</th>\n",
       "      <td>2</td>\n",
       "      <td>-6929.865299</td>\n",
       "      <td>35</td>\n",
       "      <td>ВЫСШЕЕ</td>\n",
       "      <td>0</td>\n",
       "      <td>гражданский брак</td>\n",
       "      <td>1</td>\n",
       "      <td>F</td>\n",
       "      <td>сотрудник</td>\n",
       "      <td>0</td>\n",
       "      <td>95856.832424</td>\n",
       "      <td>на проведение свадьбы</td>\n",
       "    </tr>\n",
       "    <tr>\n",
       "      <th>9</th>\n",
       "      <td>0</td>\n",
       "      <td>-2188.756445</td>\n",
       "      <td>41</td>\n",
       "      <td>среднее</td>\n",
       "      <td>1</td>\n",
       "      <td>женат / замужем</td>\n",
       "      <td>0</td>\n",
       "      <td>M</td>\n",
       "      <td>сотрудник</td>\n",
       "      <td>0</td>\n",
       "      <td>144425.938277</td>\n",
       "      <td>покупка жилья для семьи</td>\n",
       "    </tr>\n",
       "    <tr>\n",
       "      <th>10</th>\n",
       "      <td>2</td>\n",
       "      <td>-4171.483647</td>\n",
       "      <td>36</td>\n",
       "      <td>высшее</td>\n",
       "      <td>0</td>\n",
       "      <td>женат / замужем</td>\n",
       "      <td>0</td>\n",
       "      <td>M</td>\n",
       "      <td>компаньон</td>\n",
       "      <td>0</td>\n",
       "      <td>113943.491460</td>\n",
       "      <td>покупка недвижимости</td>\n",
       "    </tr>\n",
       "    <tr>\n",
       "      <th>11</th>\n",
       "      <td>0</td>\n",
       "      <td>-792.701887</td>\n",
       "      <td>40</td>\n",
       "      <td>среднее</td>\n",
       "      <td>1</td>\n",
       "      <td>женат / замужем</td>\n",
       "      <td>0</td>\n",
       "      <td>F</td>\n",
       "      <td>сотрудник</td>\n",
       "      <td>0</td>\n",
       "      <td>77069.234271</td>\n",
       "      <td>покупка коммерческой недвижимости</td>\n",
       "    </tr>\n",
       "    <tr>\n",
       "      <th>12</th>\n",
       "      <td>0</td>\n",
       "      <td>NaN</td>\n",
       "      <td>65</td>\n",
       "      <td>среднее</td>\n",
       "      <td>1</td>\n",
       "      <td>гражданский брак</td>\n",
       "      <td>1</td>\n",
       "      <td>M</td>\n",
       "      <td>пенсионер</td>\n",
       "      <td>0</td>\n",
       "      <td>NaN</td>\n",
       "      <td>сыграть свадьбу</td>\n",
       "    </tr>\n",
       "    <tr>\n",
       "      <th>13</th>\n",
       "      <td>0</td>\n",
       "      <td>-1846.641941</td>\n",
       "      <td>54</td>\n",
       "      <td>неоконченное высшее</td>\n",
       "      <td>2</td>\n",
       "      <td>женат / замужем</td>\n",
       "      <td>0</td>\n",
       "      <td>F</td>\n",
       "      <td>сотрудник</td>\n",
       "      <td>0</td>\n",
       "      <td>130458.228857</td>\n",
       "      <td>приобретение автомобиля</td>\n",
       "    </tr>\n",
       "    <tr>\n",
       "      <th>14</th>\n",
       "      <td>0</td>\n",
       "      <td>-1844.956182</td>\n",
       "      <td>56</td>\n",
       "      <td>высшее</td>\n",
       "      <td>0</td>\n",
       "      <td>гражданский брак</td>\n",
       "      <td>1</td>\n",
       "      <td>F</td>\n",
       "      <td>компаньон</td>\n",
       "      <td>1</td>\n",
       "      <td>165127.911772</td>\n",
       "      <td>покупка жилой недвижимости</td>\n",
       "    </tr>\n",
       "    <tr>\n",
       "      <th>15</th>\n",
       "      <td>1</td>\n",
       "      <td>-972.364419</td>\n",
       "      <td>26</td>\n",
       "      <td>среднее</td>\n",
       "      <td>1</td>\n",
       "      <td>женат / замужем</td>\n",
       "      <td>0</td>\n",
       "      <td>F</td>\n",
       "      <td>сотрудник</td>\n",
       "      <td>0</td>\n",
       "      <td>116820.904450</td>\n",
       "      <td>строительство собственной недвижимости</td>\n",
       "    </tr>\n",
       "    <tr>\n",
       "      <th>16</th>\n",
       "      <td>0</td>\n",
       "      <td>-1719.934226</td>\n",
       "      <td>35</td>\n",
       "      <td>среднее</td>\n",
       "      <td>1</td>\n",
       "      <td>женат / замужем</td>\n",
       "      <td>0</td>\n",
       "      <td>F</td>\n",
       "      <td>сотрудник</td>\n",
       "      <td>0</td>\n",
       "      <td>289202.704229</td>\n",
       "      <td>недвижимость</td>\n",
       "    </tr>\n",
       "    <tr>\n",
       "      <th>17</th>\n",
       "      <td>0</td>\n",
       "      <td>-2369.999720</td>\n",
       "      <td>33</td>\n",
       "      <td>высшее</td>\n",
       "      <td>0</td>\n",
       "      <td>гражданский брак</td>\n",
       "      <td>1</td>\n",
       "      <td>M</td>\n",
       "      <td>сотрудник</td>\n",
       "      <td>0</td>\n",
       "      <td>90410.586745</td>\n",
       "      <td>строительство недвижимости</td>\n",
       "    </tr>\n",
       "    <tr>\n",
       "      <th>18</th>\n",
       "      <td>0</td>\n",
       "      <td>400281.136913</td>\n",
       "      <td>53</td>\n",
       "      <td>среднее</td>\n",
       "      <td>1</td>\n",
       "      <td>вдовец / вдова</td>\n",
       "      <td>2</td>\n",
       "      <td>F</td>\n",
       "      <td>пенсионер</td>\n",
       "      <td>0</td>\n",
       "      <td>56823.777243</td>\n",
       "      <td>на покупку подержанного автомобиля</td>\n",
       "    </tr>\n",
       "    <tr>\n",
       "      <th>19</th>\n",
       "      <td>0</td>\n",
       "      <td>-10038.818549</td>\n",
       "      <td>48</td>\n",
       "      <td>СРЕДНЕЕ</td>\n",
       "      <td>1</td>\n",
       "      <td>в разводе</td>\n",
       "      <td>3</td>\n",
       "      <td>F</td>\n",
       "      <td>сотрудник</td>\n",
       "      <td>0</td>\n",
       "      <td>242831.107982</td>\n",
       "      <td>на покупку своего автомобиля</td>\n",
       "    </tr>\n",
       "  </tbody>\n",
       "</table>\n",
       "</div>"
      ],
      "text/plain": [
       "    children  days_employed  dob_years            education  education_id  \\\n",
       "0          1   -8437.673028         42               высшее             0   \n",
       "1          1   -4024.803754         36              среднее             1   \n",
       "2          0   -5623.422610         33              Среднее             1   \n",
       "3          3   -4124.747207         32              среднее             1   \n",
       "4          0  340266.072047         53              среднее             1   \n",
       "5          0    -926.185831         27               высшее             0   \n",
       "6          0   -2879.202052         43               высшее             0   \n",
       "7          0    -152.779569         50              СРЕДНЕЕ             1   \n",
       "8          2   -6929.865299         35               ВЫСШЕЕ             0   \n",
       "9          0   -2188.756445         41              среднее             1   \n",
       "10         2   -4171.483647         36               высшее             0   \n",
       "11         0    -792.701887         40              среднее             1   \n",
       "12         0            NaN         65              среднее             1   \n",
       "13         0   -1846.641941         54  неоконченное высшее             2   \n",
       "14         0   -1844.956182         56               высшее             0   \n",
       "15         1    -972.364419         26              среднее             1   \n",
       "16         0   -1719.934226         35              среднее             1   \n",
       "17         0   -2369.999720         33               высшее             0   \n",
       "18         0  400281.136913         53              среднее             1   \n",
       "19         0  -10038.818549         48              СРЕДНЕЕ             1   \n",
       "\n",
       "       family_status  family_status_id gender income_type  debt  \\\n",
       "0    женат / замужем                 0      F   сотрудник     0   \n",
       "1    женат / замужем                 0      F   сотрудник     0   \n",
       "2    женат / замужем                 0      M   сотрудник     0   \n",
       "3    женат / замужем                 0      M   сотрудник     0   \n",
       "4   гражданский брак                 1      F   пенсионер     0   \n",
       "5   гражданский брак                 1      M   компаньон     0   \n",
       "6    женат / замужем                 0      F   компаньон     0   \n",
       "7    женат / замужем                 0      M   сотрудник     0   \n",
       "8   гражданский брак                 1      F   сотрудник     0   \n",
       "9    женат / замужем                 0      M   сотрудник     0   \n",
       "10   женат / замужем                 0      M   компаньон     0   \n",
       "11   женат / замужем                 0      F   сотрудник     0   \n",
       "12  гражданский брак                 1      M   пенсионер     0   \n",
       "13   женат / замужем                 0      F   сотрудник     0   \n",
       "14  гражданский брак                 1      F   компаньон     1   \n",
       "15   женат / замужем                 0      F   сотрудник     0   \n",
       "16   женат / замужем                 0      F   сотрудник     0   \n",
       "17  гражданский брак                 1      M   сотрудник     0   \n",
       "18    вдовец / вдова                 2      F   пенсионер     0   \n",
       "19         в разводе                 3      F   сотрудник     0   \n",
       "\n",
       "     total_income                                 purpose  \n",
       "0   253875.639453                           покупка жилья  \n",
       "1   112080.014102                 приобретение автомобиля  \n",
       "2   145885.952297                           покупка жилья  \n",
       "3   267628.550329              дополнительное образование  \n",
       "4   158616.077870                         сыграть свадьбу  \n",
       "5   255763.565419                           покупка жилья  \n",
       "6   240525.971920                       операции с жильем  \n",
       "7   135823.934197                             образование  \n",
       "8    95856.832424                   на проведение свадьбы  \n",
       "9   144425.938277                 покупка жилья для семьи  \n",
       "10  113943.491460                    покупка недвижимости  \n",
       "11   77069.234271       покупка коммерческой недвижимости  \n",
       "12            NaN                         сыграть свадьбу  \n",
       "13  130458.228857                 приобретение автомобиля  \n",
       "14  165127.911772              покупка жилой недвижимости  \n",
       "15  116820.904450  строительство собственной недвижимости  \n",
       "16  289202.704229                            недвижимость  \n",
       "17   90410.586745              строительство недвижимости  \n",
       "18   56823.777243      на покупку подержанного автомобиля  \n",
       "19  242831.107982            на покупку своего автомобиля  "
      ]
     },
     "execution_count": 4,
     "metadata": {},
     "output_type": "execute_result"
    }
   ],
   "source": [
    "data.head(20)"
   ]
  },
  {
   "cell_type": "markdown",
   "id": "ee6e25f4",
   "metadata": {
    "deletable": false,
    "editable": false,
    "id": "1c12e233",
    "tags": [
     "start_task"
    ]
   },
   "source": [
    "**Задание 3. Выведите основную информацию о датафрейме с помощью метода `info()`.**"
   ]
  },
  {
   "cell_type": "code",
   "execution_count": 5,
   "id": "bd0f9871",
   "metadata": {
    "id": "2b757bca"
   },
   "outputs": [
    {
     "name": "stdout",
     "output_type": "stream",
     "text": [
      "<class 'pandas.core.frame.DataFrame'>\n",
      "RangeIndex: 21525 entries, 0 to 21524\n",
      "Data columns (total 12 columns):\n",
      " #   Column            Non-Null Count  Dtype  \n",
      "---  ------            --------------  -----  \n",
      " 0   children          21525 non-null  int64  \n",
      " 1   days_employed     19351 non-null  float64\n",
      " 2   dob_years         21525 non-null  int64  \n",
      " 3   education         21525 non-null  object \n",
      " 4   education_id      21525 non-null  int64  \n",
      " 5   family_status     21525 non-null  object \n",
      " 6   family_status_id  21525 non-null  int64  \n",
      " 7   gender            21525 non-null  object \n",
      " 8   income_type       21525 non-null  object \n",
      " 9   debt              21525 non-null  int64  \n",
      " 10  total_income      19351 non-null  float64\n",
      " 11  purpose           21525 non-null  object \n",
      "dtypes: float64(2), int64(5), object(5)\n",
      "memory usage: 2.0+ MB\n"
     ]
    }
   ],
   "source": [
    "data.info()"
   ]
  },
  {
   "cell_type": "markdown",
   "id": "2c7665f3",
   "metadata": {
    "deletable": false,
    "editable": false,
    "id": "333ec665"
   },
   "source": [
    "## Предобработка данных"
   ]
  },
  {
   "cell_type": "markdown",
   "id": "b0814554",
   "metadata": {
    "deletable": false,
    "editable": false,
    "id": "02d92d53"
   },
   "source": [
    "### Удаление пропусков"
   ]
  },
  {
   "cell_type": "markdown",
   "id": "05608178",
   "metadata": {
    "deletable": false,
    "editable": false,
    "id": "cd84967c",
    "tags": [
     "start_task"
    ]
   },
   "source": [
    "**Задание 4. Выведите количество пропущенных значений для каждого столбца. Используйте комбинацию двух методов.**"
   ]
  },
  {
   "cell_type": "code",
   "execution_count": 6,
   "id": "072ca327",
   "metadata": {
    "id": "7f9b2309"
   },
   "outputs": [
    {
     "data": {
      "text/plain": [
       "children               0\n",
       "days_employed       2174\n",
       "dob_years              0\n",
       "education              0\n",
       "education_id           0\n",
       "family_status          0\n",
       "family_status_id       0\n",
       "gender                 0\n",
       "income_type            0\n",
       "debt                   0\n",
       "total_income        2174\n",
       "purpose                0\n",
       "dtype: int64"
      ]
     },
     "execution_count": 6,
     "metadata": {},
     "output_type": "execute_result"
    }
   ],
   "source": [
    "data.isna().sum()"
   ]
  },
  {
   "cell_type": "markdown",
   "id": "05466c9b",
   "metadata": {
    "deletable": false,
    "editable": false,
    "id": "db86e27b",
    "tags": [
     "start_task"
    ]
   },
   "source": [
    "**Задание 5. В двух столбцах есть пропущенные значения. Один из них — `days_employed`. Пропуски в этом столбце вы обработаете на следующем этапе. Другой столбец с пропущенными значениями — `total_income` — хранит данные о доходах. На сумму дохода сильнее всего влияет тип занятости, поэтому заполнить пропуски в этом столбце нужно медианным значением по каждому типу из столбца `income_type`. Например, у человека с типом занятости `сотрудник` пропуск в столбце `total_income` должен быть заполнен медианным доходом среди всех записей с тем же типом.**"
   ]
  },
  {
   "cell_type": "code",
   "execution_count": 7,
   "id": "35155da9",
   "metadata": {
    "id": "42006a93"
   },
   "outputs": [
    {
     "data": {
      "text/html": [
       "<div>\n",
       "<style scoped>\n",
       "    .dataframe tbody tr th:only-of-type {\n",
       "        vertical-align: middle;\n",
       "    }\n",
       "\n",
       "    .dataframe tbody tr th {\n",
       "        vertical-align: top;\n",
       "    }\n",
       "\n",
       "    .dataframe thead th {\n",
       "        text-align: right;\n",
       "    }\n",
       "</style>\n",
       "<table border=\"1\" class=\"dataframe\">\n",
       "  <thead>\n",
       "    <tr style=\"text-align: right;\">\n",
       "      <th></th>\n",
       "      <th>children</th>\n",
       "      <th>days_employed</th>\n",
       "      <th>dob_years</th>\n",
       "      <th>education</th>\n",
       "      <th>education_id</th>\n",
       "      <th>family_status</th>\n",
       "      <th>family_status_id</th>\n",
       "      <th>gender</th>\n",
       "      <th>income_type</th>\n",
       "      <th>debt</th>\n",
       "      <th>total_income</th>\n",
       "      <th>purpose</th>\n",
       "    </tr>\n",
       "  </thead>\n",
       "  <tbody>\n",
       "    <tr>\n",
       "      <th>0</th>\n",
       "      <td>1</td>\n",
       "      <td>-8437.673028</td>\n",
       "      <td>42</td>\n",
       "      <td>высшее</td>\n",
       "      <td>0</td>\n",
       "      <td>женат / замужем</td>\n",
       "      <td>0</td>\n",
       "      <td>F</td>\n",
       "      <td>сотрудник</td>\n",
       "      <td>0</td>\n",
       "      <td>253875.639453</td>\n",
       "      <td>покупка жилья</td>\n",
       "    </tr>\n",
       "    <tr>\n",
       "      <th>1</th>\n",
       "      <td>1</td>\n",
       "      <td>-4024.803754</td>\n",
       "      <td>36</td>\n",
       "      <td>среднее</td>\n",
       "      <td>1</td>\n",
       "      <td>женат / замужем</td>\n",
       "      <td>0</td>\n",
       "      <td>F</td>\n",
       "      <td>сотрудник</td>\n",
       "      <td>0</td>\n",
       "      <td>112080.014102</td>\n",
       "      <td>приобретение автомобиля</td>\n",
       "    </tr>\n",
       "    <tr>\n",
       "      <th>2</th>\n",
       "      <td>0</td>\n",
       "      <td>-5623.422610</td>\n",
       "      <td>33</td>\n",
       "      <td>Среднее</td>\n",
       "      <td>1</td>\n",
       "      <td>женат / замужем</td>\n",
       "      <td>0</td>\n",
       "      <td>M</td>\n",
       "      <td>сотрудник</td>\n",
       "      <td>0</td>\n",
       "      <td>145885.952297</td>\n",
       "      <td>покупка жилья</td>\n",
       "    </tr>\n",
       "    <tr>\n",
       "      <th>3</th>\n",
       "      <td>3</td>\n",
       "      <td>-4124.747207</td>\n",
       "      <td>32</td>\n",
       "      <td>среднее</td>\n",
       "      <td>1</td>\n",
       "      <td>женат / замужем</td>\n",
       "      <td>0</td>\n",
       "      <td>M</td>\n",
       "      <td>сотрудник</td>\n",
       "      <td>0</td>\n",
       "      <td>267628.550329</td>\n",
       "      <td>дополнительное образование</td>\n",
       "    </tr>\n",
       "    <tr>\n",
       "      <th>4</th>\n",
       "      <td>0</td>\n",
       "      <td>340266.072047</td>\n",
       "      <td>53</td>\n",
       "      <td>среднее</td>\n",
       "      <td>1</td>\n",
       "      <td>гражданский брак</td>\n",
       "      <td>1</td>\n",
       "      <td>F</td>\n",
       "      <td>пенсионер</td>\n",
       "      <td>0</td>\n",
       "      <td>158616.077870</td>\n",
       "      <td>сыграть свадьбу</td>\n",
       "    </tr>\n",
       "    <tr>\n",
       "      <th>5</th>\n",
       "      <td>0</td>\n",
       "      <td>-926.185831</td>\n",
       "      <td>27</td>\n",
       "      <td>высшее</td>\n",
       "      <td>0</td>\n",
       "      <td>гражданский брак</td>\n",
       "      <td>1</td>\n",
       "      <td>M</td>\n",
       "      <td>компаньон</td>\n",
       "      <td>0</td>\n",
       "      <td>255763.565419</td>\n",
       "      <td>покупка жилья</td>\n",
       "    </tr>\n",
       "    <tr>\n",
       "      <th>6</th>\n",
       "      <td>0</td>\n",
       "      <td>-2879.202052</td>\n",
       "      <td>43</td>\n",
       "      <td>высшее</td>\n",
       "      <td>0</td>\n",
       "      <td>женат / замужем</td>\n",
       "      <td>0</td>\n",
       "      <td>F</td>\n",
       "      <td>компаньон</td>\n",
       "      <td>0</td>\n",
       "      <td>240525.971920</td>\n",
       "      <td>операции с жильем</td>\n",
       "    </tr>\n",
       "    <tr>\n",
       "      <th>7</th>\n",
       "      <td>0</td>\n",
       "      <td>-152.779569</td>\n",
       "      <td>50</td>\n",
       "      <td>СРЕДНЕЕ</td>\n",
       "      <td>1</td>\n",
       "      <td>женат / замужем</td>\n",
       "      <td>0</td>\n",
       "      <td>M</td>\n",
       "      <td>сотрудник</td>\n",
       "      <td>0</td>\n",
       "      <td>135823.934197</td>\n",
       "      <td>образование</td>\n",
       "    </tr>\n",
       "    <tr>\n",
       "      <th>8</th>\n",
       "      <td>2</td>\n",
       "      <td>-6929.865299</td>\n",
       "      <td>35</td>\n",
       "      <td>ВЫСШЕЕ</td>\n",
       "      <td>0</td>\n",
       "      <td>гражданский брак</td>\n",
       "      <td>1</td>\n",
       "      <td>F</td>\n",
       "      <td>сотрудник</td>\n",
       "      <td>0</td>\n",
       "      <td>95856.832424</td>\n",
       "      <td>на проведение свадьбы</td>\n",
       "    </tr>\n",
       "    <tr>\n",
       "      <th>9</th>\n",
       "      <td>0</td>\n",
       "      <td>-2188.756445</td>\n",
       "      <td>41</td>\n",
       "      <td>среднее</td>\n",
       "      <td>1</td>\n",
       "      <td>женат / замужем</td>\n",
       "      <td>0</td>\n",
       "      <td>M</td>\n",
       "      <td>сотрудник</td>\n",
       "      <td>0</td>\n",
       "      <td>144425.938277</td>\n",
       "      <td>покупка жилья для семьи</td>\n",
       "    </tr>\n",
       "  </tbody>\n",
       "</table>\n",
       "</div>"
      ],
      "text/plain": [
       "   children  days_employed  dob_years education  education_id  \\\n",
       "0         1   -8437.673028         42    высшее             0   \n",
       "1         1   -4024.803754         36   среднее             1   \n",
       "2         0   -5623.422610         33   Среднее             1   \n",
       "3         3   -4124.747207         32   среднее             1   \n",
       "4         0  340266.072047         53   среднее             1   \n",
       "5         0    -926.185831         27    высшее             0   \n",
       "6         0   -2879.202052         43    высшее             0   \n",
       "7         0    -152.779569         50   СРЕДНЕЕ             1   \n",
       "8         2   -6929.865299         35    ВЫСШЕЕ             0   \n",
       "9         0   -2188.756445         41   среднее             1   \n",
       "\n",
       "      family_status  family_status_id gender income_type  debt   total_income  \\\n",
       "0   женат / замужем                 0      F   сотрудник     0  253875.639453   \n",
       "1   женат / замужем                 0      F   сотрудник     0  112080.014102   \n",
       "2   женат / замужем                 0      M   сотрудник     0  145885.952297   \n",
       "3   женат / замужем                 0      M   сотрудник     0  267628.550329   \n",
       "4  гражданский брак                 1      F   пенсионер     0  158616.077870   \n",
       "5  гражданский брак                 1      M   компаньон     0  255763.565419   \n",
       "6   женат / замужем                 0      F   компаньон     0  240525.971920   \n",
       "7   женат / замужем                 0      M   сотрудник     0  135823.934197   \n",
       "8  гражданский брак                 1      F   сотрудник     0   95856.832424   \n",
       "9   женат / замужем                 0      M   сотрудник     0  144425.938277   \n",
       "\n",
       "                      purpose  \n",
       "0               покупка жилья  \n",
       "1     приобретение автомобиля  \n",
       "2               покупка жилья  \n",
       "3  дополнительное образование  \n",
       "4             сыграть свадьбу  \n",
       "5               покупка жилья  \n",
       "6           операции с жильем  \n",
       "7                 образование  \n",
       "8       на проведение свадьбы  \n",
       "9     покупка жилья для семьи  "
      ]
     },
     "execution_count": 7,
     "metadata": {},
     "output_type": "execute_result"
    }
   ],
   "source": [
    "for i_type in data['income_type'].unique():\n",
    "    data.loc[(data['income_type'] == i_type) & (data['total_income'].isna()), 'total_income'] = \\\n",
    "    data.loc[(data['income_type'] == i_type), 'total_income'].median()\n",
    "data.head(10)"
   ]
  },
  {
   "cell_type": "markdown",
   "id": "0889a34d",
   "metadata": {
    "deletable": false,
    "editable": false,
    "id": "89da5ece"
   },
   "source": [
    "### Обработка аномальных значений"
   ]
  },
  {
   "cell_type": "markdown",
   "id": "6c3d1d7e",
   "metadata": {
    "deletable": false,
    "editable": false,
    "id": "57964554",
    "tags": [
     "start_task"
    ]
   },
   "source": [
    "**Задание 6. В данных могут встречаться артефакты (аномалии) — значения, которые не отражают действительность и появились по какой-то ошибке. Таким артефактом будет отрицательное количество дней трудового стажа в столбце `days_employed`. Для реальных данных это нормально. Обработайте значения в этом столбце: замените все отрицательные значения положительными с помощью метода `abs()`.**"
   ]
  },
  {
   "cell_type": "code",
   "execution_count": 8,
   "id": "2fc1a593",
   "metadata": {
    "id": "f6f055bf"
   },
   "outputs": [],
   "source": [
    "data['days_employed'] = data['days_employed'].abs()"
   ]
  },
  {
   "cell_type": "markdown",
   "id": "037f2ae1",
   "metadata": {
    "deletable": false,
    "editable": false,
    "id": "6107dd2f",
    "tags": [
     "start_task"
    ]
   },
   "source": [
    "**Задание 7. Для каждого типа занятости выведите медианное значение трудового стажа `days_employed` в днях.**"
   ]
  },
  {
   "cell_type": "code",
   "execution_count": 9,
   "id": "e4ef4cae",
   "metadata": {
    "id": "85a5faf6"
   },
   "outputs": [
    {
     "data": {
      "text/plain": [
       "income_type\n",
       "безработный        366413.652744\n",
       "в декрете            3296.759962\n",
       "госслужащий          2689.368353\n",
       "компаньон            1547.382223\n",
       "пенсионер          365213.306266\n",
       "предприниматель       520.848083\n",
       "сотрудник            1574.202821\n",
       "студент               578.751554\n",
       "Name: days_employed, dtype: float64"
      ]
     },
     "execution_count": 9,
     "metadata": {},
     "output_type": "execute_result"
    }
   ],
   "source": [
    "data.groupby('income_type')['days_employed'].median()"
   ]
  },
  {
   "cell_type": "markdown",
   "id": "e9ecf302",
   "metadata": {
    "deletable": false,
    "editable": false,
    "id": "38d1a030"
   },
   "source": [
    "У двух типов (безработные и пенсионеры) получатся аномально большие значения. Исправить такие значения сложно, поэтому оставьте их как есть. Тем более этот столбец не понадобится вам для исследования."
   ]
  },
  {
   "cell_type": "markdown",
   "id": "b085e736",
   "metadata": {
    "deletable": false,
    "editable": false,
    "id": "d8a9f147",
    "tags": [
     "start_task"
    ]
   },
   "source": [
    "**Задание 8. Выведите перечень уникальных значений столбца `children`.**"
   ]
  },
  {
   "cell_type": "code",
   "execution_count": 10,
   "id": "373e1752",
   "metadata": {
    "id": "ef5056eb"
   },
   "outputs": [
    {
     "data": {
      "text/plain": [
       "array([ 1,  0,  3,  2, -1,  4, 20,  5], dtype=int64)"
      ]
     },
     "execution_count": 10,
     "metadata": {},
     "output_type": "execute_result"
    }
   ],
   "source": [
    "data['children'].unique()"
   ]
  },
  {
   "cell_type": "markdown",
   "id": "fc3a6b7e",
   "metadata": {
    "deletable": false,
    "editable": false,
    "id": "40b9ebf2",
    "tags": [
     "start_task"
    ]
   },
   "source": [
    "**Задание 9. В столбце `children` есть два аномальных значения. Удалите строки, в которых встречаются такие аномальные значения из датафрейма `data`.**"
   ]
  },
  {
   "cell_type": "code",
   "execution_count": 11,
   "id": "5984dbdd",
   "metadata": {
    "id": "3ff9801d"
   },
   "outputs": [],
   "source": [
    "data = data.loc[(data['children'] != -1) & (data['children'] != 20)]"
   ]
  },
  {
   "cell_type": "markdown",
   "id": "06eefe9b",
   "metadata": {
    "deletable": false,
    "editable": false,
    "id": "bbc4d0ce",
    "tags": [
     "start_task"
    ]
   },
   "source": [
    "**Задание 10. Ещё раз выведите перечень уникальных значений столбца `children`, чтобы убедиться, что артефакты удалены.**"
   ]
  },
  {
   "cell_type": "code",
   "execution_count": 12,
   "id": "1e32eb2f",
   "metadata": {
    "id": "ad4fa8b7"
   },
   "outputs": [
    {
     "data": {
      "text/plain": [
       "array([1, 0, 3, 2, 4, 5], dtype=int64)"
      ]
     },
     "execution_count": 12,
     "metadata": {},
     "output_type": "execute_result"
    }
   ],
   "source": [
    "data['children'].unique()"
   ]
  },
  {
   "cell_type": "markdown",
   "id": "373a634a",
   "metadata": {
    "deletable": false,
    "editable": false,
    "id": "75440b63"
   },
   "source": [
    "### Удаление пропусков (продолжение)"
   ]
  },
  {
   "cell_type": "markdown",
   "id": "4be54904",
   "metadata": {
    "deletable": false,
    "editable": false,
    "id": "f4ea573f",
    "tags": [
     "start_task"
    ]
   },
   "source": [
    "**Задание 11. Заполните пропуски в столбце `days_employed` медианными значениями по каждому типу занятости `income_type`.**"
   ]
  },
  {
   "cell_type": "code",
   "execution_count": 13,
   "id": "a3160992",
   "metadata": {
    "id": "af6b1a7e"
   },
   "outputs": [
    {
     "data": {
      "text/html": [
       "<div>\n",
       "<style scoped>\n",
       "    .dataframe tbody tr th:only-of-type {\n",
       "        vertical-align: middle;\n",
       "    }\n",
       "\n",
       "    .dataframe tbody tr th {\n",
       "        vertical-align: top;\n",
       "    }\n",
       "\n",
       "    .dataframe thead th {\n",
       "        text-align: right;\n",
       "    }\n",
       "</style>\n",
       "<table border=\"1\" class=\"dataframe\">\n",
       "  <thead>\n",
       "    <tr style=\"text-align: right;\">\n",
       "      <th></th>\n",
       "      <th>children</th>\n",
       "      <th>days_employed</th>\n",
       "      <th>dob_years</th>\n",
       "      <th>education</th>\n",
       "      <th>education_id</th>\n",
       "      <th>family_status</th>\n",
       "      <th>family_status_id</th>\n",
       "      <th>gender</th>\n",
       "      <th>income_type</th>\n",
       "      <th>debt</th>\n",
       "      <th>total_income</th>\n",
       "      <th>purpose</th>\n",
       "    </tr>\n",
       "  </thead>\n",
       "  <tbody>\n",
       "    <tr>\n",
       "      <th>0</th>\n",
       "      <td>1</td>\n",
       "      <td>8437.673028</td>\n",
       "      <td>42</td>\n",
       "      <td>высшее</td>\n",
       "      <td>0</td>\n",
       "      <td>женат / замужем</td>\n",
       "      <td>0</td>\n",
       "      <td>F</td>\n",
       "      <td>сотрудник</td>\n",
       "      <td>0</td>\n",
       "      <td>253875.639453</td>\n",
       "      <td>покупка жилья</td>\n",
       "    </tr>\n",
       "    <tr>\n",
       "      <th>1</th>\n",
       "      <td>1</td>\n",
       "      <td>4024.803754</td>\n",
       "      <td>36</td>\n",
       "      <td>среднее</td>\n",
       "      <td>1</td>\n",
       "      <td>женат / замужем</td>\n",
       "      <td>0</td>\n",
       "      <td>F</td>\n",
       "      <td>сотрудник</td>\n",
       "      <td>0</td>\n",
       "      <td>112080.014102</td>\n",
       "      <td>приобретение автомобиля</td>\n",
       "    </tr>\n",
       "    <tr>\n",
       "      <th>2</th>\n",
       "      <td>0</td>\n",
       "      <td>5623.422610</td>\n",
       "      <td>33</td>\n",
       "      <td>Среднее</td>\n",
       "      <td>1</td>\n",
       "      <td>женат / замужем</td>\n",
       "      <td>0</td>\n",
       "      <td>M</td>\n",
       "      <td>сотрудник</td>\n",
       "      <td>0</td>\n",
       "      <td>145885.952297</td>\n",
       "      <td>покупка жилья</td>\n",
       "    </tr>\n",
       "    <tr>\n",
       "      <th>3</th>\n",
       "      <td>3</td>\n",
       "      <td>4124.747207</td>\n",
       "      <td>32</td>\n",
       "      <td>среднее</td>\n",
       "      <td>1</td>\n",
       "      <td>женат / замужем</td>\n",
       "      <td>0</td>\n",
       "      <td>M</td>\n",
       "      <td>сотрудник</td>\n",
       "      <td>0</td>\n",
       "      <td>267628.550329</td>\n",
       "      <td>дополнительное образование</td>\n",
       "    </tr>\n",
       "    <tr>\n",
       "      <th>4</th>\n",
       "      <td>0</td>\n",
       "      <td>340266.072047</td>\n",
       "      <td>53</td>\n",
       "      <td>среднее</td>\n",
       "      <td>1</td>\n",
       "      <td>гражданский брак</td>\n",
       "      <td>1</td>\n",
       "      <td>F</td>\n",
       "      <td>пенсионер</td>\n",
       "      <td>0</td>\n",
       "      <td>158616.077870</td>\n",
       "      <td>сыграть свадьбу</td>\n",
       "    </tr>\n",
       "    <tr>\n",
       "      <th>5</th>\n",
       "      <td>0</td>\n",
       "      <td>926.185831</td>\n",
       "      <td>27</td>\n",
       "      <td>высшее</td>\n",
       "      <td>0</td>\n",
       "      <td>гражданский брак</td>\n",
       "      <td>1</td>\n",
       "      <td>M</td>\n",
       "      <td>компаньон</td>\n",
       "      <td>0</td>\n",
       "      <td>255763.565419</td>\n",
       "      <td>покупка жилья</td>\n",
       "    </tr>\n",
       "    <tr>\n",
       "      <th>6</th>\n",
       "      <td>0</td>\n",
       "      <td>2879.202052</td>\n",
       "      <td>43</td>\n",
       "      <td>высшее</td>\n",
       "      <td>0</td>\n",
       "      <td>женат / замужем</td>\n",
       "      <td>0</td>\n",
       "      <td>F</td>\n",
       "      <td>компаньон</td>\n",
       "      <td>0</td>\n",
       "      <td>240525.971920</td>\n",
       "      <td>операции с жильем</td>\n",
       "    </tr>\n",
       "    <tr>\n",
       "      <th>7</th>\n",
       "      <td>0</td>\n",
       "      <td>152.779569</td>\n",
       "      <td>50</td>\n",
       "      <td>СРЕДНЕЕ</td>\n",
       "      <td>1</td>\n",
       "      <td>женат / замужем</td>\n",
       "      <td>0</td>\n",
       "      <td>M</td>\n",
       "      <td>сотрудник</td>\n",
       "      <td>0</td>\n",
       "      <td>135823.934197</td>\n",
       "      <td>образование</td>\n",
       "    </tr>\n",
       "    <tr>\n",
       "      <th>8</th>\n",
       "      <td>2</td>\n",
       "      <td>6929.865299</td>\n",
       "      <td>35</td>\n",
       "      <td>ВЫСШЕЕ</td>\n",
       "      <td>0</td>\n",
       "      <td>гражданский брак</td>\n",
       "      <td>1</td>\n",
       "      <td>F</td>\n",
       "      <td>сотрудник</td>\n",
       "      <td>0</td>\n",
       "      <td>95856.832424</td>\n",
       "      <td>на проведение свадьбы</td>\n",
       "    </tr>\n",
       "    <tr>\n",
       "      <th>9</th>\n",
       "      <td>0</td>\n",
       "      <td>2188.756445</td>\n",
       "      <td>41</td>\n",
       "      <td>среднее</td>\n",
       "      <td>1</td>\n",
       "      <td>женат / замужем</td>\n",
       "      <td>0</td>\n",
       "      <td>M</td>\n",
       "      <td>сотрудник</td>\n",
       "      <td>0</td>\n",
       "      <td>144425.938277</td>\n",
       "      <td>покупка жилья для семьи</td>\n",
       "    </tr>\n",
       "  </tbody>\n",
       "</table>\n",
       "</div>"
      ],
      "text/plain": [
       "   children  days_employed  dob_years education  education_id  \\\n",
       "0         1    8437.673028         42    высшее             0   \n",
       "1         1    4024.803754         36   среднее             1   \n",
       "2         0    5623.422610         33   Среднее             1   \n",
       "3         3    4124.747207         32   среднее             1   \n",
       "4         0  340266.072047         53   среднее             1   \n",
       "5         0     926.185831         27    высшее             0   \n",
       "6         0    2879.202052         43    высшее             0   \n",
       "7         0     152.779569         50   СРЕДНЕЕ             1   \n",
       "8         2    6929.865299         35    ВЫСШЕЕ             0   \n",
       "9         0    2188.756445         41   среднее             1   \n",
       "\n",
       "      family_status  family_status_id gender income_type  debt   total_income  \\\n",
       "0   женат / замужем                 0      F   сотрудник     0  253875.639453   \n",
       "1   женат / замужем                 0      F   сотрудник     0  112080.014102   \n",
       "2   женат / замужем                 0      M   сотрудник     0  145885.952297   \n",
       "3   женат / замужем                 0      M   сотрудник     0  267628.550329   \n",
       "4  гражданский брак                 1      F   пенсионер     0  158616.077870   \n",
       "5  гражданский брак                 1      M   компаньон     0  255763.565419   \n",
       "6   женат / замужем                 0      F   компаньон     0  240525.971920   \n",
       "7   женат / замужем                 0      M   сотрудник     0  135823.934197   \n",
       "8  гражданский брак                 1      F   сотрудник     0   95856.832424   \n",
       "9   женат / замужем                 0      M   сотрудник     0  144425.938277   \n",
       "\n",
       "                      purpose  \n",
       "0               покупка жилья  \n",
       "1     приобретение автомобиля  \n",
       "2               покупка жилья  \n",
       "3  дополнительное образование  \n",
       "4             сыграть свадьбу  \n",
       "5               покупка жилья  \n",
       "6           операции с жильем  \n",
       "7                 образование  \n",
       "8       на проведение свадьбы  \n",
       "9     покупка жилья для семьи  "
      ]
     },
     "execution_count": 13,
     "metadata": {},
     "output_type": "execute_result"
    }
   ],
   "source": [
    "for i_type in data['income_type'].unique():\n",
    "    data.loc[(data['income_type'] == i_type) & (data['days_employed'].isna()), 'days_employed'] = \\\n",
    "    data.loc[(data['income_type'] == i_type), 'days_employed'].median()\n",
    "data.head(10)"
   ]
  },
  {
   "cell_type": "markdown",
   "id": "86527621",
   "metadata": {
    "deletable": false,
    "editable": false,
    "id": "2753f40d",
    "tags": [
     "start_task"
    ]
   },
   "source": [
    "**Задание 12. Убедитесь, что все пропуски заполнены. Проверьте себя и ещё раз выведите количество пропущенных значений для каждого столбца с помощью двух методов.**"
   ]
  },
  {
   "cell_type": "code",
   "execution_count": 14,
   "id": "dea48dea",
   "metadata": {
    "id": "55f78bc2"
   },
   "outputs": [
    {
     "data": {
      "text/plain": [
       "children            0\n",
       "days_employed       0\n",
       "dob_years           0\n",
       "education           0\n",
       "education_id        0\n",
       "family_status       0\n",
       "family_status_id    0\n",
       "gender              0\n",
       "income_type         0\n",
       "debt                0\n",
       "total_income        0\n",
       "purpose             0\n",
       "dtype: int64"
      ]
     },
     "execution_count": 14,
     "metadata": {},
     "output_type": "execute_result"
    }
   ],
   "source": [
    "data.isna().sum()"
   ]
  },
  {
   "cell_type": "markdown",
   "id": "262aff77",
   "metadata": {
    "deletable": false,
    "editable": false,
    "id": "ddc81e43"
   },
   "source": [
    "### Изменение типов данных"
   ]
  },
  {
   "cell_type": "markdown",
   "id": "86d78b30",
   "metadata": {
    "deletable": false,
    "editable": false,
    "id": "42d19d24",
    "tags": [
     "start_task"
    ]
   },
   "source": [
    "**Задание 13. Замените вещественный тип данных в столбце `total_income` на целочисленный с помощью метода `astype()`.**"
   ]
  },
  {
   "cell_type": "code",
   "execution_count": 15,
   "id": "015a05ed",
   "metadata": {
    "id": "920b65ad"
   },
   "outputs": [],
   "source": [
    "data['total_income'] = data['total_income'].astype(int)"
   ]
  },
  {
   "cell_type": "markdown",
   "id": "77011100",
   "metadata": {
    "deletable": false,
    "editable": false,
    "id": "80c420ba"
   },
   "source": [
    "### Обработка дубликатов"
   ]
  },
  {
   "cell_type": "markdown",
   "id": "e4c519e6",
   "metadata": {
    "deletable": false,
    "editable": false,
    "tags": [
     "start_task"
    ]
   },
   "source": [
    "**Задание 14. Обработайте неявные дубликаты в столбце `education`. В этом столбце есть одни и те же значения, но записанные по-разному: с использованием заглавных и строчных букв. Приведите их к нижнему регистру. Проверьте остальные столбцы.**"
   ]
  },
  {
   "cell_type": "code",
   "execution_count": 16,
   "id": "5026bc6c",
   "metadata": {},
   "outputs": [],
   "source": [
    "data['education'] = data['education'].str.lower()"
   ]
  },
  {
   "cell_type": "markdown",
   "id": "ba8360e0",
   "metadata": {
    "deletable": false,
    "editable": false,
    "id": "dc587695",
    "tags": [
     "start_task"
    ]
   },
   "source": [
    "**Задание 15. Выведите на экран количество строк-дубликатов в данных. Если такие строки присутствуют, удалите их.**"
   ]
  },
  {
   "cell_type": "code",
   "execution_count": 17,
   "id": "a60830e1",
   "metadata": {
    "id": "3ee445e4"
   },
   "outputs": [
    {
     "data": {
      "text/plain": [
       "71"
      ]
     },
     "execution_count": 17,
     "metadata": {},
     "output_type": "execute_result"
    }
   ],
   "source": [
    "# посчитайте дубликаты\n",
    "data.duplicated().sum()"
   ]
  },
  {
   "cell_type": "code",
   "execution_count": 18,
   "id": "cc32ec67",
   "metadata": {
    "id": "8575fe05"
   },
   "outputs": [],
   "source": [
    "# удалите дубликаты\n",
    "data = data.drop_duplicates()"
   ]
  },
  {
   "cell_type": "markdown",
   "id": "b10eeab7",
   "metadata": {
    "deletable": false,
    "editable": false,
    "id": "9904cf55"
   },
   "source": [
    "### Категоризация данных"
   ]
  },
  {
   "cell_type": "markdown",
   "id": "04bce454",
   "metadata": {
    "deletable": false,
    "editable": false,
    "id": "72fcc8a2",
    "tags": [
     "start_task"
    ]
   },
   "source": [
    "**Задание 16. На основании диапазонов, указанных ниже, создайте в датафрейме `data` столбец `total_income_category` с категориями:**\n",
    "\n",
    "- 0–30000 — `'E'`;\n",
    "- 30001–50000 — `'D'`;\n",
    "- 50001–200000 — `'C'`;\n",
    "- 200001–1000000 — `'B'`;\n",
    "- 1000001 и выше — `'A'`.\n",
    "\n",
    "\n",
    "**Например, кредитополучателю с доходом 25000 нужно назначить категорию `'E'`, а клиенту, получающему 235000, — `'B'`. Используйте собственную функцию с именем `categorize_income()` и метод `apply()`.**"
   ]
  },
  {
   "cell_type": "code",
   "execution_count": 19,
   "id": "1ec49c20",
   "metadata": {
    "id": "e1771346"
   },
   "outputs": [],
   "source": [
    "# создайте функцию categorize_income()\n",
    "def categorize_income(income):\n",
    "    if 0 <= income <= 30000:\n",
    "        rank = 'E'\n",
    "    elif 30001 <= income <= 50000:\n",
    "        rank = 'D'\n",
    "    elif 50001 <= income <= 200000:\n",
    "        rank = 'C'\n",
    "    elif 200001 <= income <= 1000000 :\n",
    "        rank = 'B'\n",
    "    else:\n",
    "        rank = 'A'\n",
    "    return rank"
   ]
  },
  {
   "cell_type": "code",
   "execution_count": 20,
   "id": "5985d767",
   "metadata": {
    "id": "d5f3586d"
   },
   "outputs": [
    {
     "data": {
      "text/html": [
       "<div>\n",
       "<style scoped>\n",
       "    .dataframe tbody tr th:only-of-type {\n",
       "        vertical-align: middle;\n",
       "    }\n",
       "\n",
       "    .dataframe tbody tr th {\n",
       "        vertical-align: top;\n",
       "    }\n",
       "\n",
       "    .dataframe thead th {\n",
       "        text-align: right;\n",
       "    }\n",
       "</style>\n",
       "<table border=\"1\" class=\"dataframe\">\n",
       "  <thead>\n",
       "    <tr style=\"text-align: right;\">\n",
       "      <th></th>\n",
       "      <th>children</th>\n",
       "      <th>days_employed</th>\n",
       "      <th>dob_years</th>\n",
       "      <th>education</th>\n",
       "      <th>education_id</th>\n",
       "      <th>family_status</th>\n",
       "      <th>family_status_id</th>\n",
       "      <th>gender</th>\n",
       "      <th>income_type</th>\n",
       "      <th>debt</th>\n",
       "      <th>total_income</th>\n",
       "      <th>purpose</th>\n",
       "      <th>total_income_category</th>\n",
       "    </tr>\n",
       "  </thead>\n",
       "  <tbody>\n",
       "    <tr>\n",
       "      <th>0</th>\n",
       "      <td>1</td>\n",
       "      <td>8437.673028</td>\n",
       "      <td>42</td>\n",
       "      <td>высшее</td>\n",
       "      <td>0</td>\n",
       "      <td>женат / замужем</td>\n",
       "      <td>0</td>\n",
       "      <td>F</td>\n",
       "      <td>сотрудник</td>\n",
       "      <td>0</td>\n",
       "      <td>253875</td>\n",
       "      <td>покупка жилья</td>\n",
       "      <td>B</td>\n",
       "    </tr>\n",
       "    <tr>\n",
       "      <th>1</th>\n",
       "      <td>1</td>\n",
       "      <td>4024.803754</td>\n",
       "      <td>36</td>\n",
       "      <td>среднее</td>\n",
       "      <td>1</td>\n",
       "      <td>женат / замужем</td>\n",
       "      <td>0</td>\n",
       "      <td>F</td>\n",
       "      <td>сотрудник</td>\n",
       "      <td>0</td>\n",
       "      <td>112080</td>\n",
       "      <td>приобретение автомобиля</td>\n",
       "      <td>C</td>\n",
       "    </tr>\n",
       "    <tr>\n",
       "      <th>2</th>\n",
       "      <td>0</td>\n",
       "      <td>5623.422610</td>\n",
       "      <td>33</td>\n",
       "      <td>среднее</td>\n",
       "      <td>1</td>\n",
       "      <td>женат / замужем</td>\n",
       "      <td>0</td>\n",
       "      <td>M</td>\n",
       "      <td>сотрудник</td>\n",
       "      <td>0</td>\n",
       "      <td>145885</td>\n",
       "      <td>покупка жилья</td>\n",
       "      <td>C</td>\n",
       "    </tr>\n",
       "    <tr>\n",
       "      <th>3</th>\n",
       "      <td>3</td>\n",
       "      <td>4124.747207</td>\n",
       "      <td>32</td>\n",
       "      <td>среднее</td>\n",
       "      <td>1</td>\n",
       "      <td>женат / замужем</td>\n",
       "      <td>0</td>\n",
       "      <td>M</td>\n",
       "      <td>сотрудник</td>\n",
       "      <td>0</td>\n",
       "      <td>267628</td>\n",
       "      <td>дополнительное образование</td>\n",
       "      <td>B</td>\n",
       "    </tr>\n",
       "    <tr>\n",
       "      <th>4</th>\n",
       "      <td>0</td>\n",
       "      <td>340266.072047</td>\n",
       "      <td>53</td>\n",
       "      <td>среднее</td>\n",
       "      <td>1</td>\n",
       "      <td>гражданский брак</td>\n",
       "      <td>1</td>\n",
       "      <td>F</td>\n",
       "      <td>пенсионер</td>\n",
       "      <td>0</td>\n",
       "      <td>158616</td>\n",
       "      <td>сыграть свадьбу</td>\n",
       "      <td>C</td>\n",
       "    </tr>\n",
       "    <tr>\n",
       "      <th>...</th>\n",
       "      <td>...</td>\n",
       "      <td>...</td>\n",
       "      <td>...</td>\n",
       "      <td>...</td>\n",
       "      <td>...</td>\n",
       "      <td>...</td>\n",
       "      <td>...</td>\n",
       "      <td>...</td>\n",
       "      <td>...</td>\n",
       "      <td>...</td>\n",
       "      <td>...</td>\n",
       "      <td>...</td>\n",
       "      <td>...</td>\n",
       "    </tr>\n",
       "    <tr>\n",
       "      <th>21520</th>\n",
       "      <td>1</td>\n",
       "      <td>4529.316663</td>\n",
       "      <td>43</td>\n",
       "      <td>среднее</td>\n",
       "      <td>1</td>\n",
       "      <td>гражданский брак</td>\n",
       "      <td>1</td>\n",
       "      <td>F</td>\n",
       "      <td>компаньон</td>\n",
       "      <td>0</td>\n",
       "      <td>224791</td>\n",
       "      <td>операции с жильем</td>\n",
       "      <td>B</td>\n",
       "    </tr>\n",
       "    <tr>\n",
       "      <th>21521</th>\n",
       "      <td>0</td>\n",
       "      <td>343937.404131</td>\n",
       "      <td>67</td>\n",
       "      <td>среднее</td>\n",
       "      <td>1</td>\n",
       "      <td>женат / замужем</td>\n",
       "      <td>0</td>\n",
       "      <td>F</td>\n",
       "      <td>пенсионер</td>\n",
       "      <td>0</td>\n",
       "      <td>155999</td>\n",
       "      <td>сделка с автомобилем</td>\n",
       "      <td>C</td>\n",
       "    </tr>\n",
       "    <tr>\n",
       "      <th>21522</th>\n",
       "      <td>1</td>\n",
       "      <td>2113.346888</td>\n",
       "      <td>38</td>\n",
       "      <td>среднее</td>\n",
       "      <td>1</td>\n",
       "      <td>гражданский брак</td>\n",
       "      <td>1</td>\n",
       "      <td>M</td>\n",
       "      <td>сотрудник</td>\n",
       "      <td>1</td>\n",
       "      <td>89672</td>\n",
       "      <td>недвижимость</td>\n",
       "      <td>C</td>\n",
       "    </tr>\n",
       "    <tr>\n",
       "      <th>21523</th>\n",
       "      <td>3</td>\n",
       "      <td>3112.481705</td>\n",
       "      <td>38</td>\n",
       "      <td>среднее</td>\n",
       "      <td>1</td>\n",
       "      <td>женат / замужем</td>\n",
       "      <td>0</td>\n",
       "      <td>M</td>\n",
       "      <td>сотрудник</td>\n",
       "      <td>1</td>\n",
       "      <td>244093</td>\n",
       "      <td>на покупку своего автомобиля</td>\n",
       "      <td>B</td>\n",
       "    </tr>\n",
       "    <tr>\n",
       "      <th>21524</th>\n",
       "      <td>2</td>\n",
       "      <td>1984.507589</td>\n",
       "      <td>40</td>\n",
       "      <td>среднее</td>\n",
       "      <td>1</td>\n",
       "      <td>женат / замужем</td>\n",
       "      <td>0</td>\n",
       "      <td>F</td>\n",
       "      <td>сотрудник</td>\n",
       "      <td>0</td>\n",
       "      <td>82047</td>\n",
       "      <td>на покупку автомобиля</td>\n",
       "      <td>C</td>\n",
       "    </tr>\n",
       "  </tbody>\n",
       "</table>\n",
       "<p>21331 rows × 13 columns</p>\n",
       "</div>"
      ],
      "text/plain": [
       "       children  days_employed  dob_years education  education_id  \\\n",
       "0             1    8437.673028         42    высшее             0   \n",
       "1             1    4024.803754         36   среднее             1   \n",
       "2             0    5623.422610         33   среднее             1   \n",
       "3             3    4124.747207         32   среднее             1   \n",
       "4             0  340266.072047         53   среднее             1   \n",
       "...         ...            ...        ...       ...           ...   \n",
       "21520         1    4529.316663         43   среднее             1   \n",
       "21521         0  343937.404131         67   среднее             1   \n",
       "21522         1    2113.346888         38   среднее             1   \n",
       "21523         3    3112.481705         38   среднее             1   \n",
       "21524         2    1984.507589         40   среднее             1   \n",
       "\n",
       "          family_status  family_status_id gender income_type  debt  \\\n",
       "0       женат / замужем                 0      F   сотрудник     0   \n",
       "1       женат / замужем                 0      F   сотрудник     0   \n",
       "2       женат / замужем                 0      M   сотрудник     0   \n",
       "3       женат / замужем                 0      M   сотрудник     0   \n",
       "4      гражданский брак                 1      F   пенсионер     0   \n",
       "...                 ...               ...    ...         ...   ...   \n",
       "21520  гражданский брак                 1      F   компаньон     0   \n",
       "21521   женат / замужем                 0      F   пенсионер     0   \n",
       "21522  гражданский брак                 1      M   сотрудник     1   \n",
       "21523   женат / замужем                 0      M   сотрудник     1   \n",
       "21524   женат / замужем                 0      F   сотрудник     0   \n",
       "\n",
       "       total_income                       purpose total_income_category  \n",
       "0            253875                 покупка жилья                     B  \n",
       "1            112080       приобретение автомобиля                     C  \n",
       "2            145885                 покупка жилья                     C  \n",
       "3            267628    дополнительное образование                     B  \n",
       "4            158616               сыграть свадьбу                     C  \n",
       "...             ...                           ...                   ...  \n",
       "21520        224791             операции с жильем                     B  \n",
       "21521        155999          сделка с автомобилем                     C  \n",
       "21522         89672                  недвижимость                     C  \n",
       "21523        244093  на покупку своего автомобиля                     B  \n",
       "21524         82047         на покупку автомобиля                     C  \n",
       "\n",
       "[21331 rows x 13 columns]"
      ]
     },
     "execution_count": 20,
     "metadata": {},
     "output_type": "execute_result"
    }
   ],
   "source": [
    "# примените функцию методом apply()\n",
    "data['total_income_category'] = data['total_income'].apply(categorize_income)\n",
    "data"
   ]
  },
  {
   "cell_type": "markdown",
   "id": "bb4d94e3",
   "metadata": {
    "deletable": false,
    "editable": false,
    "id": "dde49b5c",
    "tags": [
     "start_task"
    ]
   },
   "source": [
    "**Задание 17. Выведите на экран перечень уникальных целей взятия кредита из столбца `purpose`.**"
   ]
  },
  {
   "cell_type": "code",
   "execution_count": 21,
   "id": "0c5d560a",
   "metadata": {
    "id": "f67ce9b3"
   },
   "outputs": [
    {
     "data": {
      "text/plain": [
       "array(['покупка жилья', 'приобретение автомобиля',\n",
       "       'дополнительное образование', 'сыграть свадьбу',\n",
       "       'операции с жильем', 'образование', 'на проведение свадьбы',\n",
       "       'покупка жилья для семьи', 'покупка недвижимости',\n",
       "       'покупка коммерческой недвижимости', 'покупка жилой недвижимости',\n",
       "       'строительство собственной недвижимости', 'недвижимость',\n",
       "       'строительство недвижимости', 'на покупку подержанного автомобиля',\n",
       "       'на покупку своего автомобиля',\n",
       "       'операции с коммерческой недвижимостью',\n",
       "       'строительство жилой недвижимости', 'жилье',\n",
       "       'операции со своей недвижимостью', 'автомобили',\n",
       "       'заняться образованием', 'сделка с подержанным автомобилем',\n",
       "       'получение образования', 'автомобиль', 'свадьба',\n",
       "       'получение дополнительного образования', 'покупка своего жилья',\n",
       "       'операции с недвижимостью', 'получение высшего образования',\n",
       "       'свой автомобиль', 'сделка с автомобилем',\n",
       "       'профильное образование', 'высшее образование',\n",
       "       'покупка жилья для сдачи', 'на покупку автомобиля', 'ремонт жилью',\n",
       "       'заняться высшим образованием'], dtype=object)"
      ]
     },
     "execution_count": 21,
     "metadata": {},
     "output_type": "execute_result"
    }
   ],
   "source": [
    "data['purpose'].unique()"
   ]
  },
  {
   "cell_type": "markdown",
   "id": "432431cf",
   "metadata": {
    "deletable": false,
    "editable": false,
    "id": "85d0aef0",
    "tags": [
     "start_task"
    ]
   },
   "source": [
    "**Задание 18. Создайте функцию, которая на основании данных из столбца `purpose` сформирует новый столбец `purpose_category`, в который войдут следующие категории:**\n",
    "\n",
    "- `'операции с автомобилем'`,\n",
    "- `'операции с недвижимостью'`,\n",
    "- `'проведение свадьбы'`,\n",
    "- `'получение образования'`.\n",
    "\n",
    "**Например, если в столбце `purpose` находится подстрока `'на покупку автомобиля'`, то в столбце `purpose_category` должна появиться строка `'операции с автомобилем'`.**\n",
    "\n",
    "**Используйте собственную функцию с именем `categorize_purpose()` и метод `apply()`. Изучите данные в столбце `purpose` и определите, какие подстроки помогут вам правильно определить категорию.**"
   ]
  },
  {
   "cell_type": "code",
   "execution_count": 22,
   "id": "1b2a8c2c",
   "metadata": {
    "id": "e149fab4"
   },
   "outputs": [],
   "source": [
    "# создайте функцию categorize_purpose()\n",
    "def categorize_purpose(purpose):\n",
    "    if 'жиль' in purpose or 'недвижимост'in purpose:\n",
    "        category = 'операции с недвижимостью'\n",
    "    elif 'авто' in purpose:\n",
    "        category = 'операции с автомобилем'\n",
    "    elif 'образован' in purpose:\n",
    "        category = 'получение образования'\n",
    "    else:\n",
    "        category = 'проведение свадьбы'\n",
    "    return category"
   ]
  },
  {
   "cell_type": "code",
   "execution_count": 23,
   "id": "d3e006bd",
   "metadata": {
    "id": "bf36e69b"
   },
   "outputs": [],
   "source": [
    "# примените функцию методом apply()\n",
    "data['purpose_category'] = data['purpose'].apply(categorize_purpose)"
   ]
  },
  {
   "cell_type": "markdown",
   "id": "6e4b0357",
   "metadata": {},
   "source": [
    "**Задание 19. Есть ли зависимость между количеством детей и возвратом кредита в срок?**"
   ]
  },
  {
   "cell_type": "markdown",
   "id": "399ddc5c",
   "metadata": {},
   "source": [
    "Столбец `children` мы проверяли и чистили ранее, проверим столбец `debt` на уникальные значения."
   ]
  },
  {
   "cell_type": "code",
   "execution_count": 24,
   "id": "cd184d3e",
   "metadata": {},
   "outputs": [
    {
     "data": {
      "text/plain": [
       "array([0, 1], dtype=int64)"
      ]
     },
     "execution_count": 24,
     "metadata": {},
     "output_type": "execute_result"
    }
   ],
   "source": [
    "data['debt'].unique()"
   ]
  },
  {
   "cell_type": "markdown",
   "id": "33f422c0",
   "metadata": {},
   "source": [
    "Составим сводную таблицу, сгруппированную по `количеству детей` у клиентов и по `наличию задолженности`."
   ]
  },
  {
   "cell_type": "code",
   "execution_count": 25,
   "id": "94754d07",
   "metadata": {},
   "outputs": [
    {
     "data": {
      "text/html": [
       "<div>\n",
       "<style scoped>\n",
       "    .dataframe tbody tr th:only-of-type {\n",
       "        vertical-align: middle;\n",
       "    }\n",
       "\n",
       "    .dataframe tbody tr th {\n",
       "        vertical-align: top;\n",
       "    }\n",
       "\n",
       "    .dataframe thead th {\n",
       "        text-align: right;\n",
       "    }\n",
       "</style>\n",
       "<table border=\"1\" class=\"dataframe\">\n",
       "  <thead>\n",
       "    <tr style=\"text-align: right;\">\n",
       "      <th></th>\n",
       "      <th>Количество клиентов</th>\n",
       "      <th>Должники</th>\n",
       "      <th>Доля должников</th>\n",
       "    </tr>\n",
       "    <tr>\n",
       "      <th>children</th>\n",
       "      <th></th>\n",
       "      <th></th>\n",
       "      <th></th>\n",
       "    </tr>\n",
       "  </thead>\n",
       "  <tbody>\n",
       "    <tr>\n",
       "      <th>4</th>\n",
       "      <td>41</td>\n",
       "      <td>4</td>\n",
       "      <td>9.756098</td>\n",
       "    </tr>\n",
       "    <tr>\n",
       "      <th>2</th>\n",
       "      <td>2052</td>\n",
       "      <td>194</td>\n",
       "      <td>9.454191</td>\n",
       "    </tr>\n",
       "    <tr>\n",
       "      <th>1</th>\n",
       "      <td>4808</td>\n",
       "      <td>444</td>\n",
       "      <td>9.234609</td>\n",
       "    </tr>\n",
       "    <tr>\n",
       "      <th>3</th>\n",
       "      <td>330</td>\n",
       "      <td>27</td>\n",
       "      <td>8.181818</td>\n",
       "    </tr>\n",
       "    <tr>\n",
       "      <th>0</th>\n",
       "      <td>14091</td>\n",
       "      <td>1063</td>\n",
       "      <td>7.543822</td>\n",
       "    </tr>\n",
       "    <tr>\n",
       "      <th>5</th>\n",
       "      <td>9</td>\n",
       "      <td>0</td>\n",
       "      <td>0.000000</td>\n",
       "    </tr>\n",
       "  </tbody>\n",
       "</table>\n",
       "</div>"
      ],
      "text/plain": [
       "          Количество клиентов  Должники  Доля должников\n",
       "children                                               \n",
       "4                          41         4        9.756098\n",
       "2                        2052       194        9.454191\n",
       "1                        4808       444        9.234609\n",
       "3                         330        27        8.181818\n",
       "0                       14091      1063        7.543822\n",
       "5                           9         0        0.000000"
      ]
     },
     "execution_count": 25,
     "metadata": {},
     "output_type": "execute_result"
    }
   ],
   "source": [
    "data_pivot_children = data.pivot_table(index='children', values='debt', aggfunc=['count', 'sum', 'mean'])\n",
    "data_pivot_children.columns = ['Количество клиентов', 'Должники', 'Доля должников']\n",
    "data_pivot_children['Доля должников'] = data_pivot_children['Доля должников'] * 100\n",
    "data_pivot_children = data_pivot_children.sort_values(by='Доля должников', ascending=False)\n",
    "data_pivot_children"
   ]
  },
  {
   "cell_type": "markdown",
   "id": "e0d85098",
   "metadata": {},
   "source": [
    "Судя по данным, наибольшая вероятность появления задолженности по кредиту у людей с 4-я детьми, а наименьшая - с 5-ю или совсем без детей. Однако в выборке людей с 3-я и более детьми намного меньше, чем с 2-я или менее. И разница между наибольшей и наименьшей долей должников составляет всего пару процентов. \\\n",
    "**Вывод:** \\\n",
    "Полагаю, из данной информации можно сделать вывод, что количество детей не является определяющим фактором для возникновения задолженности по кредиту. Однако отсутствие детей у заёмщика немного снижает риск появления задолженности."
   ]
  },
  {
   "cell_type": "markdown",
   "id": "a167d239",
   "metadata": {},
   "source": [
    "**Задание 20. Есть ли зависимость между семейным положением и возвратом кредита в срок?**"
   ]
  },
  {
   "cell_type": "markdown",
   "id": "b1bf0294",
   "metadata": {},
   "source": [
    "Проверим какие значения есть в столбце `семейное положение`."
   ]
  },
  {
   "cell_type": "code",
   "execution_count": 26,
   "id": "6c9690b2",
   "metadata": {},
   "outputs": [
    {
     "data": {
      "text/plain": [
       "array(['женат / замужем', 'гражданский брак', 'вдовец / вдова',\n",
       "       'в разводе', 'Не женат / не замужем'], dtype=object)"
      ]
     },
     "execution_count": 26,
     "metadata": {},
     "output_type": "execute_result"
    }
   ],
   "source": [
    "data['family_status'].unique()"
   ]
  },
  {
   "cell_type": "markdown",
   "id": "8ccfc522",
   "metadata": {},
   "source": [
    "Составим сводную таблицу, сгруппированную по столбцу `семейное положение`, посчитаем количество клиентов в каждом статусе и долю должников среди них."
   ]
  },
  {
   "cell_type": "code",
   "execution_count": 27,
   "id": "c9d59444",
   "metadata": {},
   "outputs": [
    {
     "data": {
      "text/html": [
       "<div>\n",
       "<style scoped>\n",
       "    .dataframe tbody tr th:only-of-type {\n",
       "        vertical-align: middle;\n",
       "    }\n",
       "\n",
       "    .dataframe tbody tr th {\n",
       "        vertical-align: top;\n",
       "    }\n",
       "\n",
       "    .dataframe thead th {\n",
       "        text-align: right;\n",
       "    }\n",
       "</style>\n",
       "<table border=\"1\" class=\"dataframe\">\n",
       "  <thead>\n",
       "    <tr style=\"text-align: right;\">\n",
       "      <th></th>\n",
       "      <th>Количество клиентов</th>\n",
       "      <th>Должники</th>\n",
       "      <th>Доля должников</th>\n",
       "    </tr>\n",
       "    <tr>\n",
       "      <th>family_status</th>\n",
       "      <th></th>\n",
       "      <th></th>\n",
       "      <th></th>\n",
       "    </tr>\n",
       "  </thead>\n",
       "  <tbody>\n",
       "    <tr>\n",
       "      <th>Не женат / не замужем</th>\n",
       "      <td>2796</td>\n",
       "      <td>273</td>\n",
       "      <td>9.763948</td>\n",
       "    </tr>\n",
       "    <tr>\n",
       "      <th>гражданский брак</th>\n",
       "      <td>4134</td>\n",
       "      <td>385</td>\n",
       "      <td>9.313014</td>\n",
       "    </tr>\n",
       "    <tr>\n",
       "      <th>женат / замужем</th>\n",
       "      <td>12261</td>\n",
       "      <td>927</td>\n",
       "      <td>7.560558</td>\n",
       "    </tr>\n",
       "    <tr>\n",
       "      <th>в разводе</th>\n",
       "      <td>1189</td>\n",
       "      <td>84</td>\n",
       "      <td>7.064760</td>\n",
       "    </tr>\n",
       "    <tr>\n",
       "      <th>вдовец / вдова</th>\n",
       "      <td>951</td>\n",
       "      <td>63</td>\n",
       "      <td>6.624606</td>\n",
       "    </tr>\n",
       "  </tbody>\n",
       "</table>\n",
       "</div>"
      ],
      "text/plain": [
       "                       Количество клиентов  Должники  Доля должников\n",
       "family_status                                                       \n",
       "Не женат / не замужем                 2796       273        9.763948\n",
       "гражданский брак                      4134       385        9.313014\n",
       "женат / замужем                      12261       927        7.560558\n",
       "в разводе                             1189        84        7.064760\n",
       "вдовец / вдова                         951        63        6.624606"
      ]
     },
     "execution_count": 27,
     "metadata": {},
     "output_type": "execute_result"
    }
   ],
   "source": [
    "data_pivot_family = data.pivot_table(index='family_status', values='debt', aggfunc=['count', 'sum', 'mean'])\n",
    "data_pivot_family.columns = ['Количество клиентов', 'Должники', 'Доля должников']\n",
    "data_pivot_family['Доля должников'] = data_pivot_family['Доля должников'] * 100\n",
    "data_pivot_family = data_pivot_family.sort_values(by='Доля должников', ascending=False)\n",
    "data_pivot_family"
   ]
  },
  {
   "cell_type": "markdown",
   "id": "68245b57",
   "metadata": {},
   "source": [
    "Судя по данным, `вдовы/вдовцы` и люди `в разводе` реже допускают просрочки по кредитам, чем `не женатые/ не замужем` и находящиеся в `гражданском браке`. Однако и здесь разница между минимальным и максимальным значениями доли только немного превышает 3%. \\\n",
    "**Вывод:** \\\n",
    "Семейный статус клиента влияет чуть больше, чем количество детей у него, но определяющую роль этому фактору я бы не отдал."
   ]
  },
  {
   "cell_type": "markdown",
   "id": "c57be966",
   "metadata": {},
   "source": [
    "**Задание 21. Есть ли зависимость между уровнем дохода и возвратом кредита в срок?**"
   ]
  },
  {
   "cell_type": "markdown",
   "id": "9f3e0fd1",
   "metadata": {},
   "source": [
    "Составим сводную таблицу, сгруппированную по столбцу `категория дохода`, которую мы создавали ранее, посчитаем количество клиентов в каждой и долю должников среди них."
   ]
  },
  {
   "cell_type": "code",
   "execution_count": 28,
   "id": "a079a7d0",
   "metadata": {},
   "outputs": [
    {
     "data": {
      "text/html": [
       "<div>\n",
       "<style scoped>\n",
       "    .dataframe tbody tr th:only-of-type {\n",
       "        vertical-align: middle;\n",
       "    }\n",
       "\n",
       "    .dataframe tbody tr th {\n",
       "        vertical-align: top;\n",
       "    }\n",
       "\n",
       "    .dataframe thead th {\n",
       "        text-align: right;\n",
       "    }\n",
       "</style>\n",
       "<table border=\"1\" class=\"dataframe\">\n",
       "  <thead>\n",
       "    <tr style=\"text-align: right;\">\n",
       "      <th></th>\n",
       "      <th>Количество клиентов</th>\n",
       "      <th>Должники</th>\n",
       "      <th>Доля должников</th>\n",
       "    </tr>\n",
       "    <tr>\n",
       "      <th>total_income_category</th>\n",
       "      <th></th>\n",
       "      <th></th>\n",
       "      <th></th>\n",
       "    </tr>\n",
       "  </thead>\n",
       "  <tbody>\n",
       "    <tr>\n",
       "      <th>E</th>\n",
       "      <td>22</td>\n",
       "      <td>2</td>\n",
       "      <td>9.090909</td>\n",
       "    </tr>\n",
       "    <tr>\n",
       "      <th>C</th>\n",
       "      <td>15921</td>\n",
       "      <td>1353</td>\n",
       "      <td>8.498210</td>\n",
       "    </tr>\n",
       "    <tr>\n",
       "      <th>A</th>\n",
       "      <td>25</td>\n",
       "      <td>2</td>\n",
       "      <td>8.000000</td>\n",
       "    </tr>\n",
       "    <tr>\n",
       "      <th>B</th>\n",
       "      <td>5014</td>\n",
       "      <td>354</td>\n",
       "      <td>7.060231</td>\n",
       "    </tr>\n",
       "    <tr>\n",
       "      <th>D</th>\n",
       "      <td>349</td>\n",
       "      <td>21</td>\n",
       "      <td>6.017192</td>\n",
       "    </tr>\n",
       "  </tbody>\n",
       "</table>\n",
       "</div>"
      ],
      "text/plain": [
       "                       Количество клиентов  Должники  Доля должников\n",
       "total_income_category                                               \n",
       "E                                       22         2        9.090909\n",
       "C                                    15921      1353        8.498210\n",
       "A                                       25         2        8.000000\n",
       "B                                     5014       354        7.060231\n",
       "D                                      349        21        6.017192"
      ]
     },
     "execution_count": 28,
     "metadata": {},
     "output_type": "execute_result"
    }
   ],
   "source": [
    "data_pivot_income_category = data.pivot_table(index='total_income_category', values='debt', aggfunc=['count', 'sum', 'mean'])\n",
    "data_pivot_income_category.columns = ['Количество клиентов', 'Должники', 'Доля должников']\n",
    "data_pivot_income_category['Доля должников'] = data_pivot_income_category['Доля должников'] * 100\n",
    "data_pivot_income_category = data_pivot_income_category.sort_values(by='Доля должников', ascending=False)\n",
    "data_pivot_income_category"
   ]
  },
  {
   "cell_type": "markdown",
   "id": "17ae6ded",
   "metadata": {},
   "source": [
    "Судя по данным, клиенты из группы с самым низким уровнем дохода - до `30 000` логично оказываются в лидерах по наличию задолженностей. Однако на втором и третьем местах по доле должников оказываются люди с доходом `от 50 000 до 200 000` и свыше `1 млн`. Самыми надёжными заёмщиками оказываются люди с доходом `от 30 000 до 50 000`. \\\n",
    "**Вывод:** \\\n",
    "Прямой корреляции уровня дохода с вероятностью появления задолженностей по кредиту нет, за исключением клиентов с самым низким уровнем дохода."
   ]
  },
  {
   "cell_type": "markdown",
   "id": "c15d25a3",
   "metadata": {},
   "source": [
    "**Задание 22. Как разные цели кредита влияют на его возврат в срок?**"
   ]
  },
  {
   "cell_type": "markdown",
   "id": "5bd02de6",
   "metadata": {},
   "source": [
    "Воспользуемся столбцом с группировкой кредитов `по целям`, которую сделали ранее. И создадим сводную таблицу на его основе."
   ]
  },
  {
   "cell_type": "code",
   "execution_count": 29,
   "id": "46ca36f7",
   "metadata": {},
   "outputs": [
    {
     "data": {
      "text/html": [
       "<div>\n",
       "<style scoped>\n",
       "    .dataframe tbody tr th:only-of-type {\n",
       "        vertical-align: middle;\n",
       "    }\n",
       "\n",
       "    .dataframe tbody tr th {\n",
       "        vertical-align: top;\n",
       "    }\n",
       "\n",
       "    .dataframe thead th {\n",
       "        text-align: right;\n",
       "    }\n",
       "</style>\n",
       "<table border=\"1\" class=\"dataframe\">\n",
       "  <thead>\n",
       "    <tr style=\"text-align: right;\">\n",
       "      <th></th>\n",
       "      <th>Количество клиентов</th>\n",
       "      <th>Должники</th>\n",
       "      <th>Доля должников</th>\n",
       "    </tr>\n",
       "    <tr>\n",
       "      <th>purpose_category</th>\n",
       "      <th></th>\n",
       "      <th></th>\n",
       "      <th></th>\n",
       "    </tr>\n",
       "  </thead>\n",
       "  <tbody>\n",
       "    <tr>\n",
       "      <th>операции с автомобилем</th>\n",
       "      <td>4279</td>\n",
       "      <td>400</td>\n",
       "      <td>9.347978</td>\n",
       "    </tr>\n",
       "    <tr>\n",
       "      <th>получение образования</th>\n",
       "      <td>3988</td>\n",
       "      <td>369</td>\n",
       "      <td>9.252758</td>\n",
       "    </tr>\n",
       "    <tr>\n",
       "      <th>проведение свадьбы</th>\n",
       "      <td>2313</td>\n",
       "      <td>183</td>\n",
       "      <td>7.911803</td>\n",
       "    </tr>\n",
       "    <tr>\n",
       "      <th>операции с недвижимостью</th>\n",
       "      <td>10751</td>\n",
       "      <td>780</td>\n",
       "      <td>7.255139</td>\n",
       "    </tr>\n",
       "  </tbody>\n",
       "</table>\n",
       "</div>"
      ],
      "text/plain": [
       "                          Количество клиентов  Должники  Доля должников\n",
       "purpose_category                                                       \n",
       "операции с автомобилем                   4279       400        9.347978\n",
       "получение образования                    3988       369        9.252758\n",
       "проведение свадьбы                       2313       183        7.911803\n",
       "операции с недвижимостью                10751       780        7.255139"
      ]
     },
     "execution_count": 29,
     "metadata": {},
     "output_type": "execute_result"
    }
   ],
   "source": [
    "data_pivot_purpose_category = data.pivot_table(index='purpose_category', values='debt', aggfunc=['count', 'sum', 'mean'])\n",
    "data_pivot_purpose_category.columns = ['Количество клиентов', 'Должники', 'Доля должников']\n",
    "data_pivot_purpose_category['Доля должников'] = data_pivot_purpose_category['Доля должников'] * 100\n",
    "data_pivot_purpose_category = data_pivot_purpose_category.sort_values(by='Доля должников', ascending=False)\n",
    "data_pivot_purpose_category"
   ]
  },
  {
   "cell_type": "markdown",
   "id": "2c051475",
   "metadata": {},
   "source": [
    "Судя по данным, при выдаче кредитов на `недвижимость` и на проведение `свадьбы` возникает меньшее количество невозвратов, чем при кредитовании на `образование` и на `операции с автомобилем`. \\\n",
    "**Вывод:** \\\n",
    "Примерно, как и при прошлых сравнениях, доля должников различается только на пару процентов между минимальным и максимальным значением, но всё же различие есть."
   ]
  },
  {
   "cell_type": "markdown",
   "id": "2b63a43e",
   "metadata": {},
   "source": [
    "**Задание 23. Приведите возможные причины появления пропусков в исходных данных**"
   ]
  },
  {
   "cell_type": "markdown",
   "id": "436f5ac3",
   "metadata": {},
   "source": [
    "Так как пропуски присутствуют только в столбцах о трудовом стаже и об уровне дохода, я бы предположил, что люди, не заполнившие эту информацию либо работают неофициально, либо не работают вообще."
   ]
  },
  {
   "cell_type": "markdown",
   "id": "5485b0e4",
   "metadata": {},
   "source": [
    "**Задание 24. Объясните, почему заполнить пропуски медианным значением — лучшее решение для количественных переменных.**"
   ]
  },
  {
   "cell_type": "markdown",
   "id": "68b6da6c",
   "metadata": {},
   "source": [
    "Заполнять пропуски медианным значением для количественных переменных лучшее решение потому что таким образом не будут учитываться крайние и, возможно, сильно отличающиеся от основной массы значения, а, следовательно, такой вариант будет более точным по сравнению, например, с заполнением средним значением."
   ]
  },
  {
   "cell_type": "markdown",
   "id": "f0d360bc",
   "metadata": {},
   "source": [
    "**Общий вывод** \\\n",
    "На основе данных мы проанализировали зависимость возврата кредита в срок от \n",
    "- количества детей\n",
    "- семейного положения\n",
    "- уровня дохода\n",
    "- целей кредита \\\n",
    "\\\n",
    "Так, `по количеству детей` наименьшее количество просрочек возникает у клиентов `без детей`. \\\n",
    "`По семейному положению` - у `вдов/вдовцов`, `разведённых` или `женатых/замужних`. \\\n",
    "`По уровню дохода` наиболее аккуратными плательщиками являются клиенты с доходом `от 30000 до 50000` и `от 200000 до 1 млн`. \\\n",
    "В зависимости от `целей кредита` меньше просрочек возникает, если кредит взят на `операции с недвижимостью`."
   ]
  }
 ],
 "metadata": {
  "ExecuteTimeLog": [
   {
    "duration": 378,
    "start_time": "2022-10-12T17:24:42.387Z"
   },
   {
    "duration": 102,
    "start_time": "2022-10-12T17:25:16.522Z"
   },
   {
    "duration": 19,
    "start_time": "2022-10-12T17:25:58.547Z"
   },
   {
    "duration": 20,
    "start_time": "2022-10-12T17:26:33.843Z"
   },
   {
    "duration": 10,
    "start_time": "2022-10-12T17:27:49.869Z"
   },
   {
    "duration": 16,
    "start_time": "2022-10-12T17:28:09.694Z"
   },
   {
    "duration": 4,
    "start_time": "2022-10-12T17:33:24.430Z"
   },
   {
    "duration": 5,
    "start_time": "2022-10-12T17:33:35.944Z"
   },
   {
    "duration": 14,
    "start_time": "2022-10-12T17:37:00.971Z"
   },
   {
    "duration": 69,
    "start_time": "2022-10-12T17:37:45.864Z"
   },
   {
    "duration": 5,
    "start_time": "2022-10-12T17:46:18.612Z"
   },
   {
    "duration": 7,
    "start_time": "2022-10-12T17:46:27.497Z"
   },
   {
    "duration": 27,
    "start_time": "2022-10-12T17:47:59.045Z"
   },
   {
    "duration": 10,
    "start_time": "2022-10-12T17:48:31.022Z"
   },
   {
    "duration": 10,
    "start_time": "2022-10-12T17:48:53.181Z"
   },
   {
    "duration": 9,
    "start_time": "2022-10-12T17:48:59.597Z"
   },
   {
    "duration": 13,
    "start_time": "2022-10-12T17:49:46.683Z"
   },
   {
    "duration": 10,
    "start_time": "2022-10-12T17:50:03.277Z"
   },
   {
    "duration": 14,
    "start_time": "2022-10-12T17:50:11.463Z"
   },
   {
    "duration": 10,
    "start_time": "2022-10-12T17:50:32.540Z"
   },
   {
    "duration": 14,
    "start_time": "2022-10-12T17:51:48.379Z"
   },
   {
    "duration": 6,
    "start_time": "2022-10-12T17:53:41.624Z"
   },
   {
    "duration": 15,
    "start_time": "2022-10-12T17:53:52.485Z"
   },
   {
    "duration": 31,
    "start_time": "2022-10-12T18:02:50.616Z"
   },
   {
    "duration": 10,
    "start_time": "2022-10-12T18:04:03.720Z"
   },
   {
    "duration": 10,
    "start_time": "2022-10-12T18:06:08.411Z"
   },
   {
    "duration": 54541,
    "start_time": "2022-10-12T18:11:51.726Z"
   },
   {
    "duration": 65242,
    "start_time": "2022-10-12T18:14:32.646Z"
   },
   {
    "duration": 401,
    "start_time": "2022-10-12T18:17:24.521Z"
   },
   {
    "duration": 68,
    "start_time": "2022-10-12T18:17:24.924Z"
   },
   {
    "duration": 10,
    "start_time": "2022-10-12T18:17:24.993Z"
   },
   {
    "duration": 16,
    "start_time": "2022-10-12T18:17:25.006Z"
   },
   {
    "duration": 8,
    "start_time": "2022-10-12T18:17:25.024Z"
   },
   {
    "duration": 53995,
    "start_time": "2022-10-12T18:17:25.033Z"
   },
   {
    "duration": 3,
    "start_time": "2022-10-12T18:18:19.029Z"
   },
   {
    "duration": 32,
    "start_time": "2022-10-12T18:18:19.034Z"
   },
   {
    "duration": 8,
    "start_time": "2022-10-12T18:18:19.068Z"
   },
   {
    "duration": 7,
    "start_time": "2022-10-12T18:18:19.078Z"
   },
   {
    "duration": 7,
    "start_time": "2022-10-12T18:18:19.086Z"
   },
   {
    "duration": 5,
    "start_time": "2022-10-12T18:18:19.095Z"
   },
   {
    "duration": 6,
    "start_time": "2022-10-12T18:18:19.103Z"
   },
   {
    "duration": 6,
    "start_time": "2022-10-12T18:18:19.111Z"
   },
   {
    "duration": 10,
    "start_time": "2022-10-12T18:18:19.119Z"
   },
   {
    "duration": 9,
    "start_time": "2022-10-12T18:18:19.131Z"
   },
   {
    "duration": 5,
    "start_time": "2022-10-12T18:18:19.142Z"
   },
   {
    "duration": 7,
    "start_time": "2022-10-12T18:18:19.148Z"
   },
   {
    "duration": 10,
    "start_time": "2022-10-12T18:18:19.164Z"
   },
   {
    "duration": 6,
    "start_time": "2022-10-12T18:18:19.177Z"
   },
   {
    "duration": 6,
    "start_time": "2022-10-12T18:18:19.184Z"
   },
   {
    "duration": 5,
    "start_time": "2022-10-12T18:18:19.192Z"
   },
   {
    "duration": 120,
    "start_time": "2022-10-12T18:23:53.031Z"
   },
   {
    "duration": 494,
    "start_time": "2022-10-12T18:24:15.716Z"
   },
   {
    "duration": 63,
    "start_time": "2022-10-12T18:24:16.212Z"
   },
   {
    "duration": 11,
    "start_time": "2022-10-12T18:24:16.277Z"
   },
   {
    "duration": 21,
    "start_time": "2022-10-12T18:24:16.290Z"
   },
   {
    "duration": 10,
    "start_time": "2022-10-12T18:24:16.313Z"
   },
   {
    "duration": 134,
    "start_time": "2022-10-12T18:24:16.325Z"
   },
   {
    "duration": 2,
    "start_time": "2022-10-12T18:24:16.461Z"
   },
   {
    "duration": 9,
    "start_time": "2022-10-12T18:24:16.465Z"
   },
   {
    "duration": 11,
    "start_time": "2022-10-12T18:24:16.476Z"
   },
   {
    "duration": 12,
    "start_time": "2022-10-12T18:24:16.490Z"
   },
   {
    "duration": 6,
    "start_time": "2022-10-12T18:24:16.504Z"
   },
   {
    "duration": 6,
    "start_time": "2022-10-12T18:24:16.511Z"
   },
   {
    "duration": 5,
    "start_time": "2022-10-12T18:24:16.519Z"
   },
   {
    "duration": 8,
    "start_time": "2022-10-12T18:24:16.526Z"
   },
   {
    "duration": 19,
    "start_time": "2022-10-12T18:24:16.536Z"
   },
   {
    "duration": 6,
    "start_time": "2022-10-12T18:24:16.556Z"
   },
   {
    "duration": 7,
    "start_time": "2022-10-12T18:24:16.564Z"
   },
   {
    "duration": 8,
    "start_time": "2022-10-12T18:24:16.572Z"
   },
   {
    "duration": 7,
    "start_time": "2022-10-12T18:24:16.581Z"
   },
   {
    "duration": 5,
    "start_time": "2022-10-12T18:24:16.590Z"
   },
   {
    "duration": 6,
    "start_time": "2022-10-12T18:24:16.597Z"
   },
   {
    "duration": 5,
    "start_time": "2022-10-12T18:24:16.606Z"
   },
   {
    "duration": 3,
    "start_time": "2022-10-12T18:24:37.953Z"
   },
   {
    "duration": 420,
    "start_time": "2022-10-12T18:24:55.201Z"
   },
   {
    "duration": 62,
    "start_time": "2022-10-12T18:24:56.729Z"
   },
   {
    "duration": 19,
    "start_time": "2022-10-12T18:24:58.571Z"
   },
   {
    "duration": 21,
    "start_time": "2022-10-12T18:25:01.564Z"
   },
   {
    "duration": 10,
    "start_time": "2022-10-12T18:25:06.179Z"
   },
   {
    "duration": 100,
    "start_time": "2022-10-12T18:25:09.469Z"
   },
   {
    "duration": 85,
    "start_time": "2022-10-12T18:28:49.121Z"
   },
   {
    "duration": 323,
    "start_time": "2022-10-12T18:29:18.416Z"
   },
   {
    "duration": 327,
    "start_time": "2022-10-12T18:29:25.536Z"
   },
   {
    "duration": 323,
    "start_time": "2022-10-12T18:29:53.194Z"
   },
   {
    "duration": 41,
    "start_time": "2022-10-12T18:46:35.801Z"
   },
   {
    "duration": 12,
    "start_time": "2022-10-12T18:47:29.842Z"
   },
   {
    "duration": 14,
    "start_time": "2022-10-12T18:47:33.145Z"
   },
   {
    "duration": 421,
    "start_time": "2022-10-12T18:47:46.830Z"
   },
   {
    "duration": 70,
    "start_time": "2022-10-12T18:47:47.258Z"
   },
   {
    "duration": 11,
    "start_time": "2022-10-12T18:47:47.330Z"
   },
   {
    "duration": 25,
    "start_time": "2022-10-12T18:47:47.344Z"
   },
   {
    "duration": 12,
    "start_time": "2022-10-12T18:47:47.372Z"
   },
   {
    "duration": 43,
    "start_time": "2022-10-12T18:47:47.387Z"
   },
   {
    "duration": 2,
    "start_time": "2022-10-12T18:47:47.432Z"
   },
   {
    "duration": 3,
    "start_time": "2022-10-12T18:47:47.455Z"
   },
   {
    "duration": 18,
    "start_time": "2022-10-12T18:47:47.460Z"
   },
   {
    "duration": 6,
    "start_time": "2022-10-12T18:47:47.481Z"
   },
   {
    "duration": 6,
    "start_time": "2022-10-12T18:47:47.489Z"
   },
   {
    "duration": 5,
    "start_time": "2022-10-12T18:47:47.497Z"
   },
   {
    "duration": 4,
    "start_time": "2022-10-12T18:47:47.504Z"
   },
   {
    "duration": 5,
    "start_time": "2022-10-12T18:47:47.510Z"
   },
   {
    "duration": 6,
    "start_time": "2022-10-12T18:47:47.517Z"
   },
   {
    "duration": 6,
    "start_time": "2022-10-12T18:47:47.524Z"
   },
   {
    "duration": 8,
    "start_time": "2022-10-12T18:47:47.531Z"
   },
   {
    "duration": 5,
    "start_time": "2022-10-12T18:47:47.541Z"
   },
   {
    "duration": 11,
    "start_time": "2022-10-12T18:47:47.548Z"
   },
   {
    "duration": 8,
    "start_time": "2022-10-12T18:47:47.561Z"
   },
   {
    "duration": 7,
    "start_time": "2022-10-12T18:47:47.570Z"
   },
   {
    "duration": 4,
    "start_time": "2022-10-12T18:47:47.579Z"
   },
   {
    "duration": 455,
    "start_time": "2022-10-12T18:52:38.944Z"
   },
   {
    "duration": 78,
    "start_time": "2022-10-12T18:52:39.401Z"
   },
   {
    "duration": 12,
    "start_time": "2022-10-12T18:52:39.481Z"
   },
   {
    "duration": 30,
    "start_time": "2022-10-12T18:52:39.494Z"
   },
   {
    "duration": 9,
    "start_time": "2022-10-12T18:52:39.525Z"
   },
   {
    "duration": 48,
    "start_time": "2022-10-12T18:52:39.536Z"
   },
   {
    "duration": 5,
    "start_time": "2022-10-12T18:52:39.586Z"
   },
   {
    "duration": 5,
    "start_time": "2022-10-12T18:52:39.593Z"
   },
   {
    "duration": 4,
    "start_time": "2022-10-12T18:52:39.600Z"
   },
   {
    "duration": 4,
    "start_time": "2022-10-12T18:52:39.607Z"
   },
   {
    "duration": 9,
    "start_time": "2022-10-12T18:52:39.612Z"
   },
   {
    "duration": 5,
    "start_time": "2022-10-12T18:52:39.623Z"
   },
   {
    "duration": 11,
    "start_time": "2022-10-12T18:52:39.629Z"
   },
   {
    "duration": 26,
    "start_time": "2022-10-12T18:52:39.642Z"
   },
   {
    "duration": 6,
    "start_time": "2022-10-12T18:52:39.675Z"
   },
   {
    "duration": 4,
    "start_time": "2022-10-12T18:52:39.683Z"
   },
   {
    "duration": 5,
    "start_time": "2022-10-12T18:52:39.689Z"
   },
   {
    "duration": 6,
    "start_time": "2022-10-12T18:52:39.695Z"
   },
   {
    "duration": 8,
    "start_time": "2022-10-12T18:52:39.703Z"
   },
   {
    "duration": 9,
    "start_time": "2022-10-12T18:52:39.712Z"
   },
   {
    "duration": 10,
    "start_time": "2022-10-12T18:52:39.723Z"
   },
   {
    "duration": 6,
    "start_time": "2022-10-12T18:52:39.734Z"
   },
   {
    "duration": 430,
    "start_time": "2022-10-12T18:53:08.281Z"
   },
   {
    "duration": 73,
    "start_time": "2022-10-12T18:53:08.713Z"
   },
   {
    "duration": 11,
    "start_time": "2022-10-12T18:53:08.788Z"
   },
   {
    "duration": 30,
    "start_time": "2022-10-12T18:53:08.801Z"
   },
   {
    "duration": 12,
    "start_time": "2022-10-12T18:53:08.833Z"
   },
   {
    "duration": 71,
    "start_time": "2022-10-12T18:53:08.847Z"
   },
   {
    "duration": 3,
    "start_time": "2022-10-12T18:53:08.920Z"
   },
   {
    "duration": 6,
    "start_time": "2022-10-12T18:53:08.924Z"
   },
   {
    "duration": 7,
    "start_time": "2022-10-12T18:53:08.932Z"
   },
   {
    "duration": 35,
    "start_time": "2022-10-12T18:53:08.942Z"
   },
   {
    "duration": 14,
    "start_time": "2022-10-12T18:53:08.979Z"
   },
   {
    "duration": 19,
    "start_time": "2022-10-12T18:53:08.995Z"
   },
   {
    "duration": 12,
    "start_time": "2022-10-12T18:53:09.015Z"
   },
   {
    "duration": 14,
    "start_time": "2022-10-12T18:53:09.028Z"
   },
   {
    "duration": 6,
    "start_time": "2022-10-12T18:53:09.044Z"
   },
   {
    "duration": 31,
    "start_time": "2022-10-12T18:53:09.051Z"
   },
   {
    "duration": 8,
    "start_time": "2022-10-12T18:53:09.085Z"
   },
   {
    "duration": 11,
    "start_time": "2022-10-12T18:53:09.095Z"
   },
   {
    "duration": 8,
    "start_time": "2022-10-12T18:53:09.108Z"
   },
   {
    "duration": 7,
    "start_time": "2022-10-12T18:53:09.117Z"
   },
   {
    "duration": 6,
    "start_time": "2022-10-12T18:53:09.125Z"
   },
   {
    "duration": 8,
    "start_time": "2022-10-12T18:53:09.132Z"
   },
   {
    "duration": 62,
    "start_time": "2022-10-12T18:54:02.037Z"
   },
   {
    "duration": 421,
    "start_time": "2022-10-12T18:54:06.976Z"
   },
   {
    "duration": 80,
    "start_time": "2022-10-12T18:54:07.399Z"
   },
   {
    "duration": 12,
    "start_time": "2022-10-12T18:54:07.481Z"
   },
   {
    "duration": 19,
    "start_time": "2022-10-12T18:54:07.495Z"
   },
   {
    "duration": 10,
    "start_time": "2022-10-12T18:54:07.515Z"
   },
   {
    "duration": 61,
    "start_time": "2022-10-12T18:54:07.527Z"
   },
   {
    "duration": 3,
    "start_time": "2022-10-12T18:54:07.590Z"
   },
   {
    "duration": 6,
    "start_time": "2022-10-12T18:54:07.594Z"
   },
   {
    "duration": 9,
    "start_time": "2022-10-12T18:54:07.601Z"
   },
   {
    "duration": 6,
    "start_time": "2022-10-12T18:54:07.613Z"
   },
   {
    "duration": 6,
    "start_time": "2022-10-12T18:54:07.621Z"
   },
   {
    "duration": 6,
    "start_time": "2022-10-12T18:54:07.629Z"
   },
   {
    "duration": 6,
    "start_time": "2022-10-12T18:54:07.636Z"
   },
   {
    "duration": 12,
    "start_time": "2022-10-12T18:54:07.644Z"
   },
   {
    "duration": 24,
    "start_time": "2022-10-12T18:54:07.658Z"
   },
   {
    "duration": 7,
    "start_time": "2022-10-12T18:54:07.684Z"
   },
   {
    "duration": 19,
    "start_time": "2022-10-12T18:54:07.693Z"
   },
   {
    "duration": 7,
    "start_time": "2022-10-12T18:54:07.714Z"
   },
   {
    "duration": 8,
    "start_time": "2022-10-12T18:54:07.722Z"
   },
   {
    "duration": 6,
    "start_time": "2022-10-12T18:54:07.732Z"
   },
   {
    "duration": 9,
    "start_time": "2022-10-12T18:54:07.739Z"
   },
   {
    "duration": 5,
    "start_time": "2022-10-12T18:54:07.749Z"
   },
   {
    "duration": 35,
    "start_time": "2022-10-12T18:54:14.395Z"
   },
   {
    "duration": 40,
    "start_time": "2022-10-12T18:54:19.873Z"
   },
   {
    "duration": 65,
    "start_time": "2022-10-12T18:54:27.232Z"
   },
   {
    "duration": 395,
    "start_time": "2022-10-12T18:54:38.900Z"
   },
   {
    "duration": 81,
    "start_time": "2022-10-12T18:54:39.298Z"
   },
   {
    "duration": 13,
    "start_time": "2022-10-12T18:54:39.381Z"
   },
   {
    "duration": 30,
    "start_time": "2022-10-12T18:54:39.396Z"
   },
   {
    "duration": 9,
    "start_time": "2022-10-12T18:54:39.428Z"
   },
   {
    "duration": 51,
    "start_time": "2022-10-12T18:54:39.439Z"
   },
   {
    "duration": 3,
    "start_time": "2022-10-12T18:54:39.492Z"
   },
   {
    "duration": 28,
    "start_time": "2022-10-12T18:54:39.496Z"
   },
   {
    "duration": 20,
    "start_time": "2022-10-12T18:54:39.526Z"
   },
   {
    "duration": 30,
    "start_time": "2022-10-12T18:54:39.549Z"
   },
   {
    "duration": 22,
    "start_time": "2022-10-12T18:54:39.581Z"
   },
   {
    "duration": 27,
    "start_time": "2022-10-12T18:54:39.605Z"
   },
   {
    "duration": 15,
    "start_time": "2022-10-12T18:54:39.634Z"
   },
   {
    "duration": 31,
    "start_time": "2022-10-12T18:54:39.651Z"
   },
   {
    "duration": 19,
    "start_time": "2022-10-12T18:54:39.684Z"
   },
   {
    "duration": 20,
    "start_time": "2022-10-12T18:54:39.704Z"
   },
   {
    "duration": 16,
    "start_time": "2022-10-12T18:54:39.726Z"
   },
   {
    "duration": 9,
    "start_time": "2022-10-12T18:54:39.743Z"
   },
   {
    "duration": 44,
    "start_time": "2022-10-12T18:54:39.753Z"
   },
   {
    "duration": 13,
    "start_time": "2022-10-12T18:54:39.799Z"
   },
   {
    "duration": 29,
    "start_time": "2022-10-12T18:54:39.813Z"
   },
   {
    "duration": 32,
    "start_time": "2022-10-12T18:54:39.844Z"
   },
   {
    "duration": 452,
    "start_time": "2022-10-12T18:54:51.587Z"
   },
   {
    "duration": 91,
    "start_time": "2022-10-12T18:54:52.840Z"
   },
   {
    "duration": 12,
    "start_time": "2022-10-12T18:54:54.136Z"
   },
   {
    "duration": 22,
    "start_time": "2022-10-12T18:54:54.956Z"
   },
   {
    "duration": 17,
    "start_time": "2022-10-12T18:55:01.756Z"
   },
   {
    "duration": 114,
    "start_time": "2022-10-12T18:59:21.953Z"
   },
   {
    "duration": 437,
    "start_time": "2022-10-12T18:59:38.387Z"
   },
   {
    "duration": 74,
    "start_time": "2022-10-12T18:59:38.826Z"
   },
   {
    "duration": 11,
    "start_time": "2022-10-12T18:59:38.902Z"
   },
   {
    "duration": 19,
    "start_time": "2022-10-12T18:59:38.915Z"
   },
   {
    "duration": 21,
    "start_time": "2022-10-12T18:59:38.936Z"
   },
   {
    "duration": 126,
    "start_time": "2022-10-12T18:59:38.959Z"
   },
   {
    "duration": 3,
    "start_time": "2022-10-12T18:59:39.087Z"
   },
   {
    "duration": 5,
    "start_time": "2022-10-12T18:59:39.092Z"
   },
   {
    "duration": 6,
    "start_time": "2022-10-12T18:59:39.098Z"
   },
   {
    "duration": 4,
    "start_time": "2022-10-12T18:59:39.107Z"
   },
   {
    "duration": 6,
    "start_time": "2022-10-12T18:59:39.113Z"
   },
   {
    "duration": 5,
    "start_time": "2022-10-12T18:59:39.121Z"
   },
   {
    "duration": 30,
    "start_time": "2022-10-12T18:59:39.128Z"
   },
   {
    "duration": 10,
    "start_time": "2022-10-12T18:59:39.160Z"
   },
   {
    "duration": 10,
    "start_time": "2022-10-12T18:59:39.172Z"
   },
   {
    "duration": 6,
    "start_time": "2022-10-12T18:59:39.185Z"
   },
   {
    "duration": 7,
    "start_time": "2022-10-12T18:59:39.193Z"
   },
   {
    "duration": 6,
    "start_time": "2022-10-12T18:59:39.202Z"
   },
   {
    "duration": 8,
    "start_time": "2022-10-12T18:59:39.209Z"
   },
   {
    "duration": 6,
    "start_time": "2022-10-12T18:59:39.218Z"
   },
   {
    "duration": 5,
    "start_time": "2022-10-12T18:59:39.225Z"
   },
   {
    "duration": 6,
    "start_time": "2022-10-12T18:59:39.232Z"
   },
   {
    "duration": 389,
    "start_time": "2022-10-12T19:00:41.886Z"
   },
   {
    "duration": 6,
    "start_time": "2022-10-12T19:02:41.745Z"
   },
   {
    "duration": 175,
    "start_time": "2022-10-12T19:18:05.144Z"
   },
   {
    "duration": 77,
    "start_time": "2022-10-12T19:20:39.455Z"
   },
   {
    "duration": 8,
    "start_time": "2022-10-12T19:20:50.031Z"
   },
   {
    "duration": 6,
    "start_time": "2022-10-12T19:22:26.211Z"
   },
   {
    "duration": 5,
    "start_time": "2022-10-12T19:22:43.950Z"
   },
   {
    "duration": 443,
    "start_time": "2022-10-12T19:23:44.007Z"
   },
   {
    "duration": 86,
    "start_time": "2022-10-12T19:23:44.453Z"
   },
   {
    "duration": 12,
    "start_time": "2022-10-12T19:23:44.541Z"
   },
   {
    "duration": 51,
    "start_time": "2022-10-12T19:23:44.556Z"
   },
   {
    "duration": 16,
    "start_time": "2022-10-12T19:23:44.610Z"
   },
   {
    "duration": 57,
    "start_time": "2022-10-12T19:23:44.630Z"
   },
   {
    "duration": 5,
    "start_time": "2022-10-12T19:23:44.690Z"
   },
   {
    "duration": 22,
    "start_time": "2022-10-12T19:23:44.697Z"
   },
   {
    "duration": 5,
    "start_time": "2022-10-12T19:23:44.721Z"
   },
   {
    "duration": 9,
    "start_time": "2022-10-12T19:23:44.728Z"
   },
   {
    "duration": 15,
    "start_time": "2022-10-12T19:23:44.739Z"
   },
   {
    "duration": 31,
    "start_time": "2022-10-12T19:23:44.756Z"
   },
   {
    "duration": 21,
    "start_time": "2022-10-12T19:23:44.789Z"
   },
   {
    "duration": 10,
    "start_time": "2022-10-12T19:23:44.812Z"
   },
   {
    "duration": 20,
    "start_time": "2022-10-12T19:23:44.824Z"
   },
   {
    "duration": 31,
    "start_time": "2022-10-12T19:23:44.846Z"
   },
   {
    "duration": 22,
    "start_time": "2022-10-12T19:23:44.879Z"
   },
   {
    "duration": 12,
    "start_time": "2022-10-12T19:23:44.903Z"
   },
   {
    "duration": 17,
    "start_time": "2022-10-12T19:23:44.920Z"
   },
   {
    "duration": 15,
    "start_time": "2022-10-12T19:23:44.938Z"
   },
   {
    "duration": 30,
    "start_time": "2022-10-12T19:23:44.954Z"
   },
   {
    "duration": 6,
    "start_time": "2022-10-12T19:23:44.987Z"
   },
   {
    "duration": 477,
    "start_time": "2022-10-12T19:30:01.577Z"
   },
   {
    "duration": 86,
    "start_time": "2022-10-12T19:30:02.058Z"
   },
   {
    "duration": 12,
    "start_time": "2022-10-12T19:30:02.146Z"
   },
   {
    "duration": 55,
    "start_time": "2022-10-12T19:30:02.160Z"
   },
   {
    "duration": 38,
    "start_time": "2022-10-12T19:30:02.219Z"
   },
   {
    "duration": 77,
    "start_time": "2022-10-12T19:30:02.260Z"
   },
   {
    "duration": 4,
    "start_time": "2022-10-12T19:30:02.339Z"
   },
   {
    "duration": 62,
    "start_time": "2022-10-12T19:30:02.345Z"
   },
   {
    "duration": 37,
    "start_time": "2022-10-12T19:30:02.409Z"
   },
   {
    "duration": 38,
    "start_time": "2022-10-12T19:30:02.448Z"
   },
   {
    "duration": 37,
    "start_time": "2022-10-12T19:30:02.488Z"
   },
   {
    "duration": 16,
    "start_time": "2022-10-12T19:30:02.527Z"
   },
   {
    "duration": 44,
    "start_time": "2022-10-12T19:30:02.545Z"
   },
   {
    "duration": 40,
    "start_time": "2022-10-12T19:30:02.591Z"
   },
   {
    "duration": 69,
    "start_time": "2022-10-12T19:30:02.634Z"
   },
   {
    "duration": 35,
    "start_time": "2022-10-12T19:30:02.706Z"
   },
   {
    "duration": 35,
    "start_time": "2022-10-12T19:30:02.743Z"
   },
   {
    "duration": 24,
    "start_time": "2022-10-12T19:30:02.780Z"
   },
   {
    "duration": 25,
    "start_time": "2022-10-12T19:30:02.805Z"
   },
   {
    "duration": 41,
    "start_time": "2022-10-12T19:30:02.832Z"
   },
   {
    "duration": 57,
    "start_time": "2022-10-12T19:30:02.876Z"
   },
   {
    "duration": 35,
    "start_time": "2022-10-12T19:30:02.936Z"
   },
   {
    "duration": 4,
    "start_time": "2022-10-12T19:32:43.575Z"
   },
   {
    "duration": 11,
    "start_time": "2022-10-12T19:32:47.074Z"
   },
   {
    "duration": 5,
    "start_time": "2022-10-12T19:32:49.484Z"
   },
   {
    "duration": 48,
    "start_time": "2022-10-12T19:34:11.114Z"
   },
   {
    "duration": 11,
    "start_time": "2022-10-12T19:34:48.163Z"
   },
   {
    "duration": 5,
    "start_time": "2022-10-12T19:35:57.854Z"
   },
   {
    "duration": 88,
    "start_time": "2022-10-12T19:38:25.734Z"
   },
   {
    "duration": 9,
    "start_time": "2022-10-12T19:38:39.841Z"
   },
   {
    "duration": 8,
    "start_time": "2022-10-12T19:38:57.982Z"
   },
   {
    "duration": 23,
    "start_time": "2022-10-12T19:45:23.877Z"
   },
   {
    "duration": 31,
    "start_time": "2022-10-12T19:46:10.325Z"
   },
   {
    "duration": 28,
    "start_time": "2022-10-12T19:46:22.861Z"
   },
   {
    "duration": 31,
    "start_time": "2022-10-12T19:47:49.056Z"
   },
   {
    "duration": 35,
    "start_time": "2022-10-12T19:49:02.315Z"
   },
   {
    "duration": 370,
    "start_time": "2022-10-12T19:56:06.908Z"
   },
   {
    "duration": 68,
    "start_time": "2022-10-12T19:56:07.280Z"
   },
   {
    "duration": 13,
    "start_time": "2022-10-12T19:56:07.350Z"
   },
   {
    "duration": 20,
    "start_time": "2022-10-12T19:56:07.365Z"
   },
   {
    "duration": 10,
    "start_time": "2022-10-12T19:56:07.387Z"
   },
   {
    "duration": 64,
    "start_time": "2022-10-12T19:56:07.398Z"
   },
   {
    "duration": 4,
    "start_time": "2022-10-12T19:56:07.464Z"
   },
   {
    "duration": 15,
    "start_time": "2022-10-12T19:56:07.470Z"
   },
   {
    "duration": 9,
    "start_time": "2022-10-12T19:56:07.487Z"
   },
   {
    "duration": 15,
    "start_time": "2022-10-12T19:56:07.498Z"
   },
   {
    "duration": 6,
    "start_time": "2022-10-12T19:56:07.515Z"
   },
   {
    "duration": 66,
    "start_time": "2022-10-12T19:56:07.523Z"
   },
   {
    "duration": 8,
    "start_time": "2022-10-12T19:56:07.591Z"
   },
   {
    "duration": 29,
    "start_time": "2022-10-12T19:56:07.601Z"
   },
   {
    "duration": 34,
    "start_time": "2022-10-12T19:56:07.632Z"
   },
   {
    "duration": 24,
    "start_time": "2022-10-12T19:56:07.668Z"
   },
   {
    "duration": 3,
    "start_time": "2022-10-12T19:56:07.694Z"
   },
   {
    "duration": 5,
    "start_time": "2022-10-12T19:56:07.699Z"
   },
   {
    "duration": 6,
    "start_time": "2022-10-12T19:56:07.706Z"
   },
   {
    "duration": 4,
    "start_time": "2022-10-12T19:56:07.714Z"
   },
   {
    "duration": 5,
    "start_time": "2022-10-12T19:56:07.720Z"
   },
   {
    "duration": 5,
    "start_time": "2022-10-12T19:56:07.726Z"
   },
   {
    "duration": 9,
    "start_time": "2022-10-13T14:31:07.035Z"
   },
   {
    "duration": 38,
    "start_time": "2022-10-13T14:31:29.738Z"
   },
   {
    "duration": 375,
    "start_time": "2022-10-13T14:31:37.396Z"
   },
   {
    "duration": 316,
    "start_time": "2022-10-13T14:31:37.772Z"
   },
   {
    "duration": 10,
    "start_time": "2022-10-13T14:31:38.089Z"
   },
   {
    "duration": 13,
    "start_time": "2022-10-13T14:31:38.100Z"
   },
   {
    "duration": 18,
    "start_time": "2022-10-13T14:31:38.114Z"
   },
   {
    "duration": 38,
    "start_time": "2022-10-13T14:31:38.134Z"
   },
   {
    "duration": 3,
    "start_time": "2022-10-13T14:31:38.174Z"
   },
   {
    "duration": 34,
    "start_time": "2022-10-13T14:31:38.178Z"
   },
   {
    "duration": 4,
    "start_time": "2022-10-13T14:31:38.214Z"
   },
   {
    "duration": 15,
    "start_time": "2022-10-13T14:31:38.221Z"
   },
   {
    "duration": 4,
    "start_time": "2022-10-13T14:31:38.237Z"
   },
   {
    "duration": 40,
    "start_time": "2022-10-13T14:31:38.242Z"
   },
   {
    "duration": 7,
    "start_time": "2022-10-13T14:31:38.284Z"
   },
   {
    "duration": 14,
    "start_time": "2022-10-13T14:31:38.292Z"
   },
   {
    "duration": 37,
    "start_time": "2022-10-13T14:31:38.307Z"
   },
   {
    "duration": 20,
    "start_time": "2022-10-13T14:31:38.346Z"
   },
   {
    "duration": 2,
    "start_time": "2022-10-13T14:31:38.368Z"
   },
   {
    "duration": 12,
    "start_time": "2022-10-13T14:31:38.372Z"
   },
   {
    "duration": 13,
    "start_time": "2022-10-13T14:31:38.385Z"
   },
   {
    "duration": 7,
    "start_time": "2022-10-13T14:31:38.400Z"
   },
   {
    "duration": 7,
    "start_time": "2022-10-13T14:31:38.409Z"
   },
   {
    "duration": 9,
    "start_time": "2022-10-13T14:31:38.421Z"
   },
   {
    "duration": 9,
    "start_time": "2022-10-13T14:31:46.069Z"
   },
   {
    "duration": 14,
    "start_time": "2022-10-13T14:32:16.563Z"
   },
   {
    "duration": 325,
    "start_time": "2022-10-13T14:32:37.391Z"
   },
   {
    "duration": 72,
    "start_time": "2022-10-13T14:32:37.717Z"
   },
   {
    "duration": 10,
    "start_time": "2022-10-13T14:32:37.791Z"
   },
   {
    "duration": 24,
    "start_time": "2022-10-13T14:32:37.802Z"
   },
   {
    "duration": 9,
    "start_time": "2022-10-13T14:32:37.835Z"
   },
   {
    "duration": 37,
    "start_time": "2022-10-13T14:32:37.845Z"
   },
   {
    "duration": 3,
    "start_time": "2022-10-13T14:32:37.884Z"
   },
   {
    "duration": 8,
    "start_time": "2022-10-13T14:32:37.888Z"
   },
   {
    "duration": 19,
    "start_time": "2022-10-13T14:32:37.898Z"
   },
   {
    "duration": 15,
    "start_time": "2022-10-13T14:32:37.919Z"
   },
   {
    "duration": 7,
    "start_time": "2022-10-13T14:32:37.936Z"
   },
   {
    "duration": 36,
    "start_time": "2022-10-13T14:32:37.944Z"
   },
   {
    "duration": 9,
    "start_time": "2022-10-13T14:32:37.981Z"
   },
   {
    "duration": 6,
    "start_time": "2022-10-13T14:32:37.993Z"
   },
   {
    "duration": 35,
    "start_time": "2022-10-13T14:32:38.000Z"
   },
   {
    "duration": 20,
    "start_time": "2022-10-13T14:32:38.037Z"
   },
   {
    "duration": 2,
    "start_time": "2022-10-13T14:32:38.059Z"
   },
   {
    "duration": 17,
    "start_time": "2022-10-13T14:32:38.063Z"
   },
   {
    "duration": 14,
    "start_time": "2022-10-13T14:32:38.082Z"
   },
   {
    "duration": 5,
    "start_time": "2022-10-13T14:32:38.098Z"
   },
   {
    "duration": 6,
    "start_time": "2022-10-13T14:32:38.104Z"
   },
   {
    "duration": 19,
    "start_time": "2022-10-13T14:32:38.111Z"
   },
   {
    "duration": 82,
    "start_time": "2022-10-13T14:33:32.496Z"
   },
   {
    "duration": 5,
    "start_time": "2022-10-13T14:33:40.764Z"
   },
   {
    "duration": 477,
    "start_time": "2022-10-13T14:42:44.375Z"
   },
   {
    "duration": 22,
    "start_time": "2022-10-13T14:43:26.915Z"
   },
   {
    "duration": 12,
    "start_time": "2022-10-13T14:45:52.606Z"
   },
   {
    "duration": 11,
    "start_time": "2022-10-13T14:46:26.976Z"
   },
   {
    "duration": 344,
    "start_time": "2022-10-13T14:54:46.970Z"
   },
   {
    "duration": 81,
    "start_time": "2022-10-13T14:54:47.316Z"
   },
   {
    "duration": 9,
    "start_time": "2022-10-13T14:54:47.399Z"
   },
   {
    "duration": 16,
    "start_time": "2022-10-13T14:54:47.411Z"
   },
   {
    "duration": 7,
    "start_time": "2022-10-13T14:54:47.434Z"
   },
   {
    "duration": 39,
    "start_time": "2022-10-13T14:54:47.443Z"
   },
   {
    "duration": 2,
    "start_time": "2022-10-13T14:54:47.484Z"
   },
   {
    "duration": 13,
    "start_time": "2022-10-13T14:54:47.488Z"
   },
   {
    "duration": 5,
    "start_time": "2022-10-13T14:54:47.503Z"
   },
   {
    "duration": 21,
    "start_time": "2022-10-13T14:54:47.510Z"
   },
   {
    "duration": 8,
    "start_time": "2022-10-13T14:54:47.533Z"
   },
   {
    "duration": 37,
    "start_time": "2022-10-13T14:54:47.543Z"
   },
   {
    "duration": 7,
    "start_time": "2022-10-13T14:54:47.582Z"
   },
   {
    "duration": 4,
    "start_time": "2022-10-13T14:54:47.590Z"
   },
   {
    "duration": 40,
    "start_time": "2022-10-13T14:54:47.596Z"
   },
   {
    "duration": 20,
    "start_time": "2022-10-13T14:54:47.637Z"
   },
   {
    "duration": 2,
    "start_time": "2022-10-13T14:54:47.660Z"
   },
   {
    "duration": 11,
    "start_time": "2022-10-13T14:54:47.663Z"
   },
   {
    "duration": 16,
    "start_time": "2022-10-13T14:54:47.676Z"
   },
   {
    "duration": 5,
    "start_time": "2022-10-13T14:54:47.693Z"
   },
   {
    "duration": 12,
    "start_time": "2022-10-13T14:54:47.700Z"
   },
   {
    "duration": 29,
    "start_time": "2022-10-13T14:54:47.713Z"
   },
   {
    "duration": 392,
    "start_time": "2022-10-13T14:56:17.893Z"
   },
   {
    "duration": 76,
    "start_time": "2022-10-13T14:56:18.286Z"
   },
   {
    "duration": 11,
    "start_time": "2022-10-13T14:56:18.363Z"
   },
   {
    "duration": 18,
    "start_time": "2022-10-13T14:56:18.376Z"
   },
   {
    "duration": 7,
    "start_time": "2022-10-13T14:56:18.396Z"
   },
   {
    "duration": 57,
    "start_time": "2022-10-13T14:56:18.405Z"
   },
   {
    "duration": 3,
    "start_time": "2022-10-13T14:56:18.464Z"
   },
   {
    "duration": 12,
    "start_time": "2022-10-13T14:56:18.469Z"
   },
   {
    "duration": 7,
    "start_time": "2022-10-13T14:56:18.483Z"
   },
   {
    "duration": 12,
    "start_time": "2022-10-13T14:56:18.492Z"
   },
   {
    "duration": 19,
    "start_time": "2022-10-13T14:56:18.506Z"
   },
   {
    "duration": 53,
    "start_time": "2022-10-13T14:56:18.526Z"
   },
   {
    "duration": 8,
    "start_time": "2022-10-13T14:56:18.581Z"
   },
   {
    "duration": 7,
    "start_time": "2022-10-13T14:56:18.591Z"
   },
   {
    "duration": 49,
    "start_time": "2022-10-13T14:56:18.599Z"
   },
   {
    "duration": 23,
    "start_time": "2022-10-13T14:56:18.650Z"
   },
   {
    "duration": 3,
    "start_time": "2022-10-13T14:56:18.675Z"
   },
   {
    "duration": 11,
    "start_time": "2022-10-13T14:56:18.680Z"
   },
   {
    "duration": 14,
    "start_time": "2022-10-13T14:56:18.693Z"
   },
   {
    "duration": 9,
    "start_time": "2022-10-13T14:56:18.721Z"
   },
   {
    "duration": 90,
    "start_time": "2022-10-13T14:56:18.732Z"
   },
   {
    "duration": 0,
    "start_time": "2022-10-13T14:56:18.825Z"
   },
   {
    "duration": 73,
    "start_time": "2022-10-13T14:56:41.409Z"
   },
   {
    "duration": 3,
    "start_time": "2022-10-13T14:56:59.364Z"
   },
   {
    "duration": 19,
    "start_time": "2022-10-13T14:57:02.997Z"
   },
   {
    "duration": 420,
    "start_time": "2022-10-13T14:57:15.104Z"
   },
   {
    "duration": 74,
    "start_time": "2022-10-13T14:57:15.526Z"
   },
   {
    "duration": 9,
    "start_time": "2022-10-13T14:57:15.602Z"
   },
   {
    "duration": 34,
    "start_time": "2022-10-13T14:57:15.613Z"
   },
   {
    "duration": 15,
    "start_time": "2022-10-13T14:57:15.649Z"
   },
   {
    "duration": 38,
    "start_time": "2022-10-13T14:57:15.666Z"
   },
   {
    "duration": 3,
    "start_time": "2022-10-13T14:57:15.705Z"
   },
   {
    "duration": 11,
    "start_time": "2022-10-13T14:57:15.709Z"
   },
   {
    "duration": 21,
    "start_time": "2022-10-13T14:57:15.721Z"
   },
   {
    "duration": 10,
    "start_time": "2022-10-13T14:57:15.744Z"
   },
   {
    "duration": 13,
    "start_time": "2022-10-13T14:57:15.756Z"
   },
   {
    "duration": 40,
    "start_time": "2022-10-13T14:57:15.770Z"
   },
   {
    "duration": 8,
    "start_time": "2022-10-13T14:57:15.812Z"
   },
   {
    "duration": 11,
    "start_time": "2022-10-13T14:57:15.826Z"
   },
   {
    "duration": 31,
    "start_time": "2022-10-13T14:57:15.839Z"
   },
   {
    "duration": 20,
    "start_time": "2022-10-13T14:57:15.872Z"
   },
   {
    "duration": 18,
    "start_time": "2022-10-13T14:57:15.894Z"
   },
   {
    "duration": 25,
    "start_time": "2022-10-13T14:57:15.913Z"
   },
   {
    "duration": 23,
    "start_time": "2022-10-13T14:57:15.940Z"
   },
   {
    "duration": 16,
    "start_time": "2022-10-13T14:57:15.965Z"
   },
   {
    "duration": 3,
    "start_time": "2022-10-13T14:57:15.983Z"
   },
   {
    "duration": 28,
    "start_time": "2022-10-13T14:57:15.988Z"
   },
   {
    "duration": 6,
    "start_time": "2022-10-13T14:59:15.692Z"
   },
   {
    "duration": 9,
    "start_time": "2022-10-13T14:59:33.906Z"
   },
   {
    "duration": 5,
    "start_time": "2022-10-13T14:59:49.083Z"
   },
   {
    "duration": 17,
    "start_time": "2022-10-13T15:00:05.581Z"
   },
   {
    "duration": 391,
    "start_time": "2022-10-13T15:26:22.514Z"
   },
   {
    "duration": 71,
    "start_time": "2022-10-13T15:26:22.907Z"
   },
   {
    "duration": 10,
    "start_time": "2022-10-13T15:26:22.980Z"
   },
   {
    "duration": 23,
    "start_time": "2022-10-13T15:26:22.992Z"
   },
   {
    "duration": 15,
    "start_time": "2022-10-13T15:26:23.017Z"
   },
   {
    "duration": 42,
    "start_time": "2022-10-13T15:26:23.034Z"
   },
   {
    "duration": 4,
    "start_time": "2022-10-13T15:26:23.078Z"
   },
   {
    "duration": 17,
    "start_time": "2022-10-13T15:26:23.083Z"
   },
   {
    "duration": 12,
    "start_time": "2022-10-13T15:26:23.101Z"
   },
   {
    "duration": 10,
    "start_time": "2022-10-13T15:26:23.115Z"
   },
   {
    "duration": 33,
    "start_time": "2022-10-13T15:26:23.127Z"
   },
   {
    "duration": 43,
    "start_time": "2022-10-13T15:26:23.161Z"
   },
   {
    "duration": 8,
    "start_time": "2022-10-13T15:26:23.206Z"
   },
   {
    "duration": 6,
    "start_time": "2022-10-13T15:26:23.216Z"
   },
   {
    "duration": 47,
    "start_time": "2022-10-13T15:26:23.227Z"
   },
   {
    "duration": 20,
    "start_time": "2022-10-13T15:26:23.275Z"
   },
   {
    "duration": 2,
    "start_time": "2022-10-13T15:26:23.296Z"
   },
   {
    "duration": 5,
    "start_time": "2022-10-13T15:26:23.300Z"
   },
   {
    "duration": 12,
    "start_time": "2022-10-13T15:26:23.306Z"
   },
   {
    "duration": 14,
    "start_time": "2022-10-13T15:26:23.320Z"
   },
   {
    "duration": 10,
    "start_time": "2022-10-13T15:26:23.336Z"
   },
   {
    "duration": 12,
    "start_time": "2022-10-13T15:26:23.348Z"
   },
   {
    "duration": 25,
    "start_time": "2022-10-13T15:26:23.362Z"
   },
   {
    "duration": 376,
    "start_time": "2022-10-13T15:33:49.975Z"
   },
   {
    "duration": 87,
    "start_time": "2022-10-13T15:33:50.353Z"
   },
   {
    "duration": 11,
    "start_time": "2022-10-13T15:33:50.445Z"
   },
   {
    "duration": 18,
    "start_time": "2022-10-13T15:33:50.459Z"
   },
   {
    "duration": 8,
    "start_time": "2022-10-13T15:33:50.479Z"
   },
   {
    "duration": 53,
    "start_time": "2022-10-13T15:33:50.488Z"
   },
   {
    "duration": 6,
    "start_time": "2022-10-13T15:33:50.543Z"
   },
   {
    "duration": 9,
    "start_time": "2022-10-13T15:33:50.551Z"
   },
   {
    "duration": 4,
    "start_time": "2022-10-13T15:33:50.562Z"
   },
   {
    "duration": 19,
    "start_time": "2022-10-13T15:33:50.569Z"
   },
   {
    "duration": 5,
    "start_time": "2022-10-13T15:33:50.591Z"
   },
   {
    "duration": 68,
    "start_time": "2022-10-13T15:33:50.598Z"
   },
   {
    "duration": 7,
    "start_time": "2022-10-13T15:33:50.668Z"
   },
   {
    "duration": 25,
    "start_time": "2022-10-13T15:33:50.677Z"
   },
   {
    "duration": 56,
    "start_time": "2022-10-13T15:33:50.704Z"
   },
   {
    "duration": 23,
    "start_time": "2022-10-13T15:33:50.762Z"
   },
   {
    "duration": 13,
    "start_time": "2022-10-13T15:33:50.787Z"
   },
   {
    "duration": 34,
    "start_time": "2022-10-13T15:33:50.802Z"
   },
   {
    "duration": 27,
    "start_time": "2022-10-13T15:33:50.837Z"
   },
   {
    "duration": 18,
    "start_time": "2022-10-13T15:33:50.866Z"
   },
   {
    "duration": 10,
    "start_time": "2022-10-13T15:33:50.885Z"
   },
   {
    "duration": 14,
    "start_time": "2022-10-13T15:33:50.897Z"
   },
   {
    "duration": 30,
    "start_time": "2022-10-13T15:33:50.913Z"
   },
   {
    "duration": 384,
    "start_time": "2022-10-17T16:28:16.022Z"
   },
   {
    "duration": 102,
    "start_time": "2022-10-17T16:28:16.407Z"
   },
   {
    "duration": 0,
    "start_time": "2022-10-17T16:28:16.511Z"
   },
   {
    "duration": 0,
    "start_time": "2022-10-17T16:28:16.512Z"
   },
   {
    "duration": 0,
    "start_time": "2022-10-17T16:28:16.513Z"
   },
   {
    "duration": 0,
    "start_time": "2022-10-17T16:28:16.514Z"
   },
   {
    "duration": 0,
    "start_time": "2022-10-17T16:28:16.516Z"
   },
   {
    "duration": 0,
    "start_time": "2022-10-17T16:28:16.517Z"
   },
   {
    "duration": 0,
    "start_time": "2022-10-17T16:28:16.518Z"
   },
   {
    "duration": 0,
    "start_time": "2022-10-17T16:28:16.518Z"
   },
   {
    "duration": 0,
    "start_time": "2022-10-17T16:28:16.519Z"
   },
   {
    "duration": 0,
    "start_time": "2022-10-17T16:28:16.520Z"
   },
   {
    "duration": 0,
    "start_time": "2022-10-17T16:28:16.521Z"
   },
   {
    "duration": 0,
    "start_time": "2022-10-17T16:28:16.522Z"
   },
   {
    "duration": 0,
    "start_time": "2022-10-17T16:28:16.523Z"
   },
   {
    "duration": 0,
    "start_time": "2022-10-17T16:28:16.524Z"
   },
   {
    "duration": 0,
    "start_time": "2022-10-17T16:28:16.525Z"
   },
   {
    "duration": 0,
    "start_time": "2022-10-17T16:28:16.526Z"
   },
   {
    "duration": 0,
    "start_time": "2022-10-17T16:28:16.527Z"
   },
   {
    "duration": 0,
    "start_time": "2022-10-17T16:28:16.528Z"
   },
   {
    "duration": 0,
    "start_time": "2022-10-17T16:28:16.530Z"
   },
   {
    "duration": 1,
    "start_time": "2022-10-17T16:28:16.530Z"
   },
   {
    "duration": 0,
    "start_time": "2022-10-17T16:28:16.532Z"
   },
   {
    "duration": 0,
    "start_time": "2022-10-17T16:28:16.533Z"
   },
   {
    "duration": 0,
    "start_time": "2022-10-17T16:28:16.534Z"
   },
   {
    "duration": 0,
    "start_time": "2022-10-17T16:28:16.535Z"
   },
   {
    "duration": 0,
    "start_time": "2022-10-17T16:28:16.536Z"
   },
   {
    "duration": 0,
    "start_time": "2022-10-17T16:28:16.537Z"
   },
   {
    "duration": 3,
    "start_time": "2022-10-17T16:29:59.187Z"
   },
   {
    "duration": 73,
    "start_time": "2022-10-17T16:30:00.706Z"
   },
   {
    "duration": 420,
    "start_time": "2022-10-17T16:30:05.894Z"
   },
   {
    "duration": 2,
    "start_time": "2022-10-17T16:30:06.316Z"
   },
   {
    "duration": 83,
    "start_time": "2022-10-17T16:30:06.319Z"
   },
   {
    "duration": 22,
    "start_time": "2022-10-17T16:30:06.404Z"
   },
   {
    "duration": 16,
    "start_time": "2022-10-17T16:30:06.428Z"
   },
   {
    "duration": 11,
    "start_time": "2022-10-17T16:30:06.446Z"
   },
   {
    "duration": 74,
    "start_time": "2022-10-17T16:30:06.459Z"
   },
   {
    "duration": 4,
    "start_time": "2022-10-17T16:30:06.535Z"
   },
   {
    "duration": 14,
    "start_time": "2022-10-17T16:30:06.541Z"
   },
   {
    "duration": 5,
    "start_time": "2022-10-17T16:30:06.558Z"
   },
   {
    "duration": 7,
    "start_time": "2022-10-17T16:30:06.565Z"
   },
   {
    "duration": 26,
    "start_time": "2022-10-17T16:30:06.573Z"
   },
   {
    "duration": 48,
    "start_time": "2022-10-17T16:30:06.600Z"
   },
   {
    "duration": 15,
    "start_time": "2022-10-17T16:30:06.650Z"
   },
   {
    "duration": 29,
    "start_time": "2022-10-17T16:30:06.667Z"
   },
   {
    "duration": 18,
    "start_time": "2022-10-17T16:30:06.698Z"
   },
   {
    "duration": 21,
    "start_time": "2022-10-17T16:30:06.718Z"
   },
   {
    "duration": 17,
    "start_time": "2022-10-17T16:30:06.741Z"
   },
   {
    "duration": 3,
    "start_time": "2022-10-17T16:30:06.760Z"
   },
   {
    "duration": 40,
    "start_time": "2022-10-17T16:30:06.765Z"
   },
   {
    "duration": 6,
    "start_time": "2022-10-17T16:30:06.807Z"
   },
   {
    "duration": 9,
    "start_time": "2022-10-17T16:30:06.815Z"
   },
   {
    "duration": 16,
    "start_time": "2022-10-17T16:30:06.825Z"
   },
   {
    "duration": 7,
    "start_time": "2022-10-17T16:30:06.842Z"
   },
   {
    "duration": 46,
    "start_time": "2022-10-17T16:30:06.850Z"
   },
   {
    "duration": 6,
    "start_time": "2022-10-17T16:30:06.899Z"
   },
   {
    "duration": 35,
    "start_time": "2022-10-17T16:30:06.906Z"
   },
   {
    "duration": 29,
    "start_time": "2022-10-17T16:30:06.944Z"
   },
   {
    "duration": 49,
    "start_time": "2022-10-17T16:30:06.975Z"
   }
  ],
  "colab": {
   "name": "dpp_template_part1.ipynb",
   "provenance": []
  },
  "kernelspec": {
   "display_name": "Python 3 (ipykernel)",
   "language": "python",
   "name": "python3"
  },
  "language_info": {
   "codemirror_mode": {
    "name": "ipython",
    "version": 3
   },
   "file_extension": ".py",
   "mimetype": "text/x-python",
   "name": "python",
   "nbconvert_exporter": "python",
   "pygments_lexer": "ipython3",
   "version": "3.9.18"
  },
  "toc": {
   "base_numbering": 1,
   "nav_menu": {},
   "number_sections": true,
   "sideBar": true,
   "skip_h1_title": true,
   "title_cell": "Table of Contents",
   "title_sidebar": "Contents",
   "toc_cell": false,
   "toc_position": {},
   "toc_section_display": true,
   "toc_window_display": false
  }
 },
 "nbformat": 4,
 "nbformat_minor": 5
}
