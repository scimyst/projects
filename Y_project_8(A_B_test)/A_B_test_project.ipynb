{
 "cells": [
  {
   "cell_type": "markdown",
   "id": "5cee45ec",
   "metadata": {},
   "source": [
    "# Принятие решений в бизнесе. A/B тестирование. Приоритизация гипотез, анализ"
   ]
  },
  {
   "cell_type": "markdown",
   "id": "287f500e",
   "metadata": {},
   "source": [
    "Крупному интернет магазину требуется увеличить выручку. Был подготовлен список гипотез, необходимо приоритизировать их, провести A/B тест и провести его анализ."
   ]
  },
  {
   "cell_type": "markdown",
   "id": "c0c10fb0",
   "metadata": {},
   "source": [
    "### Описание данных\n",
    "*Файл **hypothesis.csv**.*\n",
    "- **Hypothesis** — краткое описание гипотезы\n",
    "- **Reach** — охват пользователей по 10-балльной шкале\n",
    "- **Impact** — влияние на пользователей по 10-балльной шкале\n",
    "- **Confidence** — уверенность в гипотезе по 10-балльной шкале\n",
    "- **Efforts** — затраты ресурсов на проверку гипотезы по 10-балльной шкале. Чем больше значение Efforts, тем дороже проверка гипотезы\n",
    "\n",
    "*Файл **orders.csv**.*\n",
    "- **transactionId** — идентификатор заказа\n",
    "- **visitorId** — идентификатор пользователя, совершившего заказ\n",
    "- **date** — дата, когда был совершён заказ\n",
    "- **revenue** — выручка заказа\n",
    "- **group** — группа A/B-теста, в которую попал заказ\n",
    "\n",
    "*Файл **visitors.csv**.*\n",
    "- **date** — дата\n",
    "- **group** — группа A/B-теста\n",
    "- **visitors** — количество пользователей в указанную дату в указанной группе A/B-теста"
   ]
  },
  {
   "cell_type": "markdown",
   "id": "36931d3a",
   "metadata": {},
   "source": [
    "## Вывод:\n",
    "По итогам исследования выявлено, что есть `статистически значимое различие конверсий` групп **A** и **B**. Данное различие прослеживается как по `сырым`, так и по `очищенным` данным. `Конверсия` группы **B** выше примерно на **15%**.\\\n",
    "Что касается различий по размеру `среднего чека`, то их `не выявлено` ни по `сырым`, ни по `очищенным` данным. Следовательно, можно считать, что `средние чеки` данных групп примерно `равны`.\\\n",
    "Исходя из данной информации, а также из данных графиков `выручки`, `кумулятивной конверсии` и `относительного изменения кумулятивной конверсии`, можно принять решение о **победе группы B** и **остановке теста**."
   ]
  },
  {
   "cell_type": "markdown",
   "id": "f6a5e081",
   "metadata": {},
   "source": [
    "## Обзор данных"
   ]
  },
  {
   "cell_type": "code",
   "execution_count": 1,
   "id": "6abd993f",
   "metadata": {},
   "outputs": [],
   "source": [
    "# импортируем библиотеки\n",
    "import datetime as dt\n",
    "import math\n",
    "import matplotlib.pyplot as plt\n",
    "import numpy as np\n",
    "import pandas as pd\n",
    "import seaborn as sns\n",
    "import warnings\n",
    "from scipy import stats as st\n",
    "sns.set()"
   ]
  },
  {
   "cell_type": "code",
   "execution_count": 2,
   "id": "0977aa4c",
   "metadata": {},
   "outputs": [
    {
     "data": {
      "text/html": [
       "<div>\n",
       "<style scoped>\n",
       "    .dataframe tbody tr th:only-of-type {\n",
       "        vertical-align: middle;\n",
       "    }\n",
       "\n",
       "    .dataframe tbody tr th {\n",
       "        vertical-align: top;\n",
       "    }\n",
       "\n",
       "    .dataframe thead th {\n",
       "        text-align: right;\n",
       "    }\n",
       "</style>\n",
       "<table border=\"1\" class=\"dataframe\">\n",
       "  <thead>\n",
       "    <tr style=\"text-align: right;\">\n",
       "      <th></th>\n",
       "      <th>Hypothesis</th>\n",
       "      <th>Reach</th>\n",
       "      <th>Impact</th>\n",
       "      <th>Confidence</th>\n",
       "      <th>Efforts</th>\n",
       "    </tr>\n",
       "  </thead>\n",
       "  <tbody>\n",
       "    <tr>\n",
       "      <th>0</th>\n",
       "      <td>Добавить два новых канала привлечения трафика,...</td>\n",
       "      <td>3</td>\n",
       "      <td>10</td>\n",
       "      <td>8</td>\n",
       "      <td>6</td>\n",
       "    </tr>\n",
       "    <tr>\n",
       "      <th>1</th>\n",
       "      <td>Запустить собственную службу доставки, что сок...</td>\n",
       "      <td>2</td>\n",
       "      <td>5</td>\n",
       "      <td>4</td>\n",
       "      <td>10</td>\n",
       "    </tr>\n",
       "    <tr>\n",
       "      <th>2</th>\n",
       "      <td>Добавить блоки рекомендаций товаров на сайт ин...</td>\n",
       "      <td>8</td>\n",
       "      <td>3</td>\n",
       "      <td>7</td>\n",
       "      <td>3</td>\n",
       "    </tr>\n",
       "    <tr>\n",
       "      <th>3</th>\n",
       "      <td>Изменить структура категорий, что увеличит кон...</td>\n",
       "      <td>8</td>\n",
       "      <td>3</td>\n",
       "      <td>3</td>\n",
       "      <td>8</td>\n",
       "    </tr>\n",
       "    <tr>\n",
       "      <th>4</th>\n",
       "      <td>Изменить цвет фона главной страницы, чтобы уве...</td>\n",
       "      <td>3</td>\n",
       "      <td>1</td>\n",
       "      <td>1</td>\n",
       "      <td>1</td>\n",
       "    </tr>\n",
       "  </tbody>\n",
       "</table>\n",
       "</div>"
      ],
      "text/plain": [
       "                                          Hypothesis  Reach  Impact  \\\n",
       "0  Добавить два новых канала привлечения трафика,...      3      10   \n",
       "1  Запустить собственную службу доставки, что сок...      2       5   \n",
       "2  Добавить блоки рекомендаций товаров на сайт ин...      8       3   \n",
       "3  Изменить структура категорий, что увеличит кон...      8       3   \n",
       "4  Изменить цвет фона главной страницы, чтобы уве...      3       1   \n",
       "\n",
       "   Confidence  Efforts  \n",
       "0           8        6  \n",
       "1           4       10  \n",
       "2           7        3  \n",
       "3           3        8  \n",
       "4           1        1  "
      ]
     },
     "metadata": {},
     "output_type": "display_data"
    },
    {
     "data": {
      "text/html": [
       "<div>\n",
       "<style scoped>\n",
       "    .dataframe tbody tr th:only-of-type {\n",
       "        vertical-align: middle;\n",
       "    }\n",
       "\n",
       "    .dataframe tbody tr th {\n",
       "        vertical-align: top;\n",
       "    }\n",
       "\n",
       "    .dataframe thead th {\n",
       "        text-align: right;\n",
       "    }\n",
       "</style>\n",
       "<table border=\"1\" class=\"dataframe\">\n",
       "  <thead>\n",
       "    <tr style=\"text-align: right;\">\n",
       "      <th></th>\n",
       "      <th>transactionId</th>\n",
       "      <th>visitorId</th>\n",
       "      <th>date</th>\n",
       "      <th>revenue</th>\n",
       "      <th>group</th>\n",
       "    </tr>\n",
       "  </thead>\n",
       "  <tbody>\n",
       "    <tr>\n",
       "      <th>0</th>\n",
       "      <td>3667963787</td>\n",
       "      <td>3312258926</td>\n",
       "      <td>2019-08-15</td>\n",
       "      <td>1650</td>\n",
       "      <td>B</td>\n",
       "    </tr>\n",
       "    <tr>\n",
       "      <th>1</th>\n",
       "      <td>2804400009</td>\n",
       "      <td>3642806036</td>\n",
       "      <td>2019-08-15</td>\n",
       "      <td>730</td>\n",
       "      <td>B</td>\n",
       "    </tr>\n",
       "    <tr>\n",
       "      <th>2</th>\n",
       "      <td>2961555356</td>\n",
       "      <td>4069496402</td>\n",
       "      <td>2019-08-15</td>\n",
       "      <td>400</td>\n",
       "      <td>A</td>\n",
       "    </tr>\n",
       "    <tr>\n",
       "      <th>3</th>\n",
       "      <td>3797467345</td>\n",
       "      <td>1196621759</td>\n",
       "      <td>2019-08-15</td>\n",
       "      <td>9759</td>\n",
       "      <td>B</td>\n",
       "    </tr>\n",
       "    <tr>\n",
       "      <th>4</th>\n",
       "      <td>2282983706</td>\n",
       "      <td>2322279887</td>\n",
       "      <td>2019-08-15</td>\n",
       "      <td>2308</td>\n",
       "      <td>B</td>\n",
       "    </tr>\n",
       "  </tbody>\n",
       "</table>\n",
       "</div>"
      ],
      "text/plain": [
       "   transactionId   visitorId        date  revenue group\n",
       "0     3667963787  3312258926  2019-08-15     1650     B\n",
       "1     2804400009  3642806036  2019-08-15      730     B\n",
       "2     2961555356  4069496402  2019-08-15      400     A\n",
       "3     3797467345  1196621759  2019-08-15     9759     B\n",
       "4     2282983706  2322279887  2019-08-15     2308     B"
      ]
     },
     "metadata": {},
     "output_type": "display_data"
    },
    {
     "data": {
      "text/html": [
       "<div>\n",
       "<style scoped>\n",
       "    .dataframe tbody tr th:only-of-type {\n",
       "        vertical-align: middle;\n",
       "    }\n",
       "\n",
       "    .dataframe tbody tr th {\n",
       "        vertical-align: top;\n",
       "    }\n",
       "\n",
       "    .dataframe thead th {\n",
       "        text-align: right;\n",
       "    }\n",
       "</style>\n",
       "<table border=\"1\" class=\"dataframe\">\n",
       "  <thead>\n",
       "    <tr style=\"text-align: right;\">\n",
       "      <th></th>\n",
       "      <th>date</th>\n",
       "      <th>group</th>\n",
       "      <th>visitors</th>\n",
       "    </tr>\n",
       "  </thead>\n",
       "  <tbody>\n",
       "    <tr>\n",
       "      <th>0</th>\n",
       "      <td>2019-08-01</td>\n",
       "      <td>A</td>\n",
       "      <td>719</td>\n",
       "    </tr>\n",
       "    <tr>\n",
       "      <th>1</th>\n",
       "      <td>2019-08-02</td>\n",
       "      <td>A</td>\n",
       "      <td>619</td>\n",
       "    </tr>\n",
       "    <tr>\n",
       "      <th>2</th>\n",
       "      <td>2019-08-03</td>\n",
       "      <td>A</td>\n",
       "      <td>507</td>\n",
       "    </tr>\n",
       "    <tr>\n",
       "      <th>3</th>\n",
       "      <td>2019-08-04</td>\n",
       "      <td>A</td>\n",
       "      <td>717</td>\n",
       "    </tr>\n",
       "    <tr>\n",
       "      <th>4</th>\n",
       "      <td>2019-08-05</td>\n",
       "      <td>A</td>\n",
       "      <td>756</td>\n",
       "    </tr>\n",
       "  </tbody>\n",
       "</table>\n",
       "</div>"
      ],
      "text/plain": [
       "         date group  visitors\n",
       "0  2019-08-01     A       719\n",
       "1  2019-08-02     A       619\n",
       "2  2019-08-03     A       507\n",
       "3  2019-08-04     A       717\n",
       "4  2019-08-05     A       756"
      ]
     },
     "metadata": {},
     "output_type": "display_data"
    }
   ],
   "source": [
    "# читаем файлы csv\n",
    "try:\n",
    "    hypothesis, orders, visitors = (\n",
    "        pd.read_csv('/datasets/hypothesis.csv'),  # гипотезы\n",
    "        pd.read_csv('/datasets/orders.csv'),  # заказы\n",
    "        pd.read_csv('/datasets/visitors.csv'),  # пользователи\n",
    "    )\n",
    "except:\n",
    "    hypothesis, orders, visitors = (\n",
    "        pd.read_csv('hypothesis.csv'),  # гипотезы\n",
    "        pd.read_csv('orders.csv'),  # заказы\n",
    "        pd.read_csv('visitors.csv'),  # пользователи\n",
    "    )\n",
    "display(hypothesis.head(), orders.head(), visitors.head())"
   ]
  },
  {
   "cell_type": "code",
   "execution_count": 3,
   "id": "0aff788e",
   "metadata": {},
   "outputs": [
    {
     "name": "stdout",
     "output_type": "stream",
     "text": [
      "<class 'pandas.core.frame.DataFrame'>\n",
      "RangeIndex: 9 entries, 0 to 8\n",
      "Data columns (total 5 columns):\n",
      " #   Column      Non-Null Count  Dtype \n",
      "---  ------      --------------  ----- \n",
      " 0   Hypothesis  9 non-null      object\n",
      " 1   Reach       9 non-null      int64 \n",
      " 2   Impact      9 non-null      int64 \n",
      " 3   Confidence  9 non-null      int64 \n",
      " 4   Efforts     9 non-null      int64 \n",
      "dtypes: int64(4), object(1)\n",
      "memory usage: 488.0+ bytes\n"
     ]
    }
   ],
   "source": [
    "hypothesis.info()"
   ]
  },
  {
   "cell_type": "code",
   "execution_count": 4,
   "id": "2e709074",
   "metadata": {
    "scrolled": true
   },
   "outputs": [
    {
     "name": "stdout",
     "output_type": "stream",
     "text": [
      "<class 'pandas.core.frame.DataFrame'>\n",
      "RangeIndex: 1197 entries, 0 to 1196\n",
      "Data columns (total 5 columns):\n",
      " #   Column         Non-Null Count  Dtype \n",
      "---  ------         --------------  ----- \n",
      " 0   transactionId  1197 non-null   int64 \n",
      " 1   visitorId      1197 non-null   int64 \n",
      " 2   date           1197 non-null   object\n",
      " 3   revenue        1197 non-null   int64 \n",
      " 4   group          1197 non-null   object\n",
      "dtypes: int64(3), object(2)\n",
      "memory usage: 46.9+ KB\n"
     ]
    }
   ],
   "source": [
    "orders.info()"
   ]
  },
  {
   "cell_type": "code",
   "execution_count": 5,
   "id": "52ffca83",
   "metadata": {
    "scrolled": true
   },
   "outputs": [
    {
     "name": "stdout",
     "output_type": "stream",
     "text": [
      "<class 'pandas.core.frame.DataFrame'>\n",
      "RangeIndex: 62 entries, 0 to 61\n",
      "Data columns (total 3 columns):\n",
      " #   Column    Non-Null Count  Dtype \n",
      "---  ------    --------------  ----- \n",
      " 0   date      62 non-null     object\n",
      " 1   group     62 non-null     object\n",
      " 2   visitors  62 non-null     int64 \n",
      "dtypes: int64(1), object(2)\n",
      "memory usage: 1.6+ KB\n"
     ]
    }
   ],
   "source": [
    "visitors.info()"
   ]
  },
  {
   "cell_type": "code",
   "execution_count": 6,
   "id": "634d2778",
   "metadata": {},
   "outputs": [
    {
     "data": {
      "text/plain": [
       "0"
      ]
     },
     "metadata": {},
     "output_type": "display_data"
    },
    {
     "data": {
      "text/plain": [
       "0"
      ]
     },
     "metadata": {},
     "output_type": "display_data"
    }
   ],
   "source": [
    "# ищем явные дубликаты\n",
    "display(orders.duplicated().sum(),\n",
    "      visitors.duplicated().sum())"
   ]
  },
  {
   "cell_type": "markdown",
   "id": "f8083517",
   "metadata": {},
   "source": [
    "##### Вывод:\n",
    "Пропусков нет, дубликатов нет, необходимо:\n",
    "- убрать ограничение по ширине отображаемых столбцов и их количеству\n",
    "- привести наименования колонок к единому стилю\n",
    "- преобразовать тип данных столбцов с датой"
   ]
  },
  {
   "cell_type": "markdown",
   "id": "b5b114e9",
   "metadata": {},
   "source": [
    "## Предобработка данных"
   ]
  },
  {
   "cell_type": "code",
   "execution_count": 7,
   "id": "0177e021",
   "metadata": {},
   "outputs": [],
   "source": [
    "# снимаем ограничение на количество столбцов\n",
    "pd.set_option('display.max_columns', None)\n",
    "\n",
    "# снимаем ограничение на ширину столбцов\n",
    "pd.set_option('display.max_colwidth', None)"
   ]
  },
  {
   "cell_type": "code",
   "execution_count": 8,
   "id": "05d2af96",
   "metadata": {},
   "outputs": [],
   "source": [
    "# приводим названия столбцов к нижнему регистру и единому стилю\n",
    "hypothesis.columns = hypothesis.columns.str.lower()\n",
    "orders.columns = [x.replace('Id', '_id') for x in orders.columns]"
   ]
  },
  {
   "cell_type": "code",
   "execution_count": 9,
   "id": "21b2dca3",
   "metadata": {},
   "outputs": [],
   "source": [
    "# меняем тип данных столбцов с датой\n",
    "orders['date'] = pd.to_datetime(orders['date'])\n",
    "visitors['date'] = pd.to_datetime(visitors['date'])"
   ]
  },
  {
   "cell_type": "code",
   "execution_count": 10,
   "id": "9ccd3f2c",
   "metadata": {},
   "outputs": [
    {
     "data": {
      "text/html": [
       "<div>\n",
       "<style scoped>\n",
       "    .dataframe tbody tr th:only-of-type {\n",
       "        vertical-align: middle;\n",
       "    }\n",
       "\n",
       "    .dataframe tbody tr th {\n",
       "        vertical-align: top;\n",
       "    }\n",
       "\n",
       "    .dataframe thead th {\n",
       "        text-align: right;\n",
       "    }\n",
       "</style>\n",
       "<table border=\"1\" class=\"dataframe\">\n",
       "  <thead>\n",
       "    <tr style=\"text-align: right;\">\n",
       "      <th></th>\n",
       "      <th>hypothesis</th>\n",
       "      <th>reach</th>\n",
       "      <th>impact</th>\n",
       "      <th>confidence</th>\n",
       "      <th>efforts</th>\n",
       "    </tr>\n",
       "  </thead>\n",
       "  <tbody>\n",
       "    <tr>\n",
       "      <th>0</th>\n",
       "      <td>Добавить два новых канала привлечения трафика, что позволит привлекать на 30% больше пользователей</td>\n",
       "      <td>3</td>\n",
       "      <td>10</td>\n",
       "      <td>8</td>\n",
       "      <td>6</td>\n",
       "    </tr>\n",
       "    <tr>\n",
       "      <th>1</th>\n",
       "      <td>Запустить собственную службу доставки, что сократит срок доставки заказов</td>\n",
       "      <td>2</td>\n",
       "      <td>5</td>\n",
       "      <td>4</td>\n",
       "      <td>10</td>\n",
       "    </tr>\n",
       "    <tr>\n",
       "      <th>2</th>\n",
       "      <td>Добавить блоки рекомендаций товаров на сайт интернет магазина, чтобы повысить конверсию и средний чек заказа</td>\n",
       "      <td>8</td>\n",
       "      <td>3</td>\n",
       "      <td>7</td>\n",
       "      <td>3</td>\n",
       "    </tr>\n",
       "    <tr>\n",
       "      <th>3</th>\n",
       "      <td>Изменить структура категорий, что увеличит конверсию, т.к. пользователи быстрее найдут нужный товар</td>\n",
       "      <td>8</td>\n",
       "      <td>3</td>\n",
       "      <td>3</td>\n",
       "      <td>8</td>\n",
       "    </tr>\n",
       "    <tr>\n",
       "      <th>4</th>\n",
       "      <td>Изменить цвет фона главной страницы, чтобы увеличить вовлеченность пользователей</td>\n",
       "      <td>3</td>\n",
       "      <td>1</td>\n",
       "      <td>1</td>\n",
       "      <td>1</td>\n",
       "    </tr>\n",
       "  </tbody>\n",
       "</table>\n",
       "</div>"
      ],
      "text/plain": [
       "                                                                                                     hypothesis  \\\n",
       "0            Добавить два новых канала привлечения трафика, что позволит привлекать на 30% больше пользователей   \n",
       "1                                     Запустить собственную службу доставки, что сократит срок доставки заказов   \n",
       "2  Добавить блоки рекомендаций товаров на сайт интернет магазина, чтобы повысить конверсию и средний чек заказа   \n",
       "3           Изменить структура категорий, что увеличит конверсию, т.к. пользователи быстрее найдут нужный товар   \n",
       "4                              Изменить цвет фона главной страницы, чтобы увеличить вовлеченность пользователей   \n",
       "\n",
       "   reach  impact  confidence  efforts  \n",
       "0      3      10           8        6  \n",
       "1      2       5           4       10  \n",
       "2      8       3           7        3  \n",
       "3      8       3           3        8  \n",
       "4      3       1           1        1  "
      ]
     },
     "metadata": {},
     "output_type": "display_data"
    },
    {
     "data": {
      "text/html": [
       "<div>\n",
       "<style scoped>\n",
       "    .dataframe tbody tr th:only-of-type {\n",
       "        vertical-align: middle;\n",
       "    }\n",
       "\n",
       "    .dataframe tbody tr th {\n",
       "        vertical-align: top;\n",
       "    }\n",
       "\n",
       "    .dataframe thead th {\n",
       "        text-align: right;\n",
       "    }\n",
       "</style>\n",
       "<table border=\"1\" class=\"dataframe\">\n",
       "  <thead>\n",
       "    <tr style=\"text-align: right;\">\n",
       "      <th></th>\n",
       "      <th>transaction_id</th>\n",
       "      <th>visitor_id</th>\n",
       "      <th>date</th>\n",
       "      <th>revenue</th>\n",
       "      <th>group</th>\n",
       "    </tr>\n",
       "  </thead>\n",
       "  <tbody>\n",
       "    <tr>\n",
       "      <th>0</th>\n",
       "      <td>3667963787</td>\n",
       "      <td>3312258926</td>\n",
       "      <td>2019-08-15</td>\n",
       "      <td>1650</td>\n",
       "      <td>B</td>\n",
       "    </tr>\n",
       "    <tr>\n",
       "      <th>1</th>\n",
       "      <td>2804400009</td>\n",
       "      <td>3642806036</td>\n",
       "      <td>2019-08-15</td>\n",
       "      <td>730</td>\n",
       "      <td>B</td>\n",
       "    </tr>\n",
       "    <tr>\n",
       "      <th>2</th>\n",
       "      <td>2961555356</td>\n",
       "      <td>4069496402</td>\n",
       "      <td>2019-08-15</td>\n",
       "      <td>400</td>\n",
       "      <td>A</td>\n",
       "    </tr>\n",
       "    <tr>\n",
       "      <th>3</th>\n",
       "      <td>3797467345</td>\n",
       "      <td>1196621759</td>\n",
       "      <td>2019-08-15</td>\n",
       "      <td>9759</td>\n",
       "      <td>B</td>\n",
       "    </tr>\n",
       "    <tr>\n",
       "      <th>4</th>\n",
       "      <td>2282983706</td>\n",
       "      <td>2322279887</td>\n",
       "      <td>2019-08-15</td>\n",
       "      <td>2308</td>\n",
       "      <td>B</td>\n",
       "    </tr>\n",
       "  </tbody>\n",
       "</table>\n",
       "</div>"
      ],
      "text/plain": [
       "   transaction_id  visitor_id       date  revenue group\n",
       "0      3667963787  3312258926 2019-08-15     1650     B\n",
       "1      2804400009  3642806036 2019-08-15      730     B\n",
       "2      2961555356  4069496402 2019-08-15      400     A\n",
       "3      3797467345  1196621759 2019-08-15     9759     B\n",
       "4      2282983706  2322279887 2019-08-15     2308     B"
      ]
     },
     "metadata": {},
     "output_type": "display_data"
    },
    {
     "data": {
      "text/html": [
       "<div>\n",
       "<style scoped>\n",
       "    .dataframe tbody tr th:only-of-type {\n",
       "        vertical-align: middle;\n",
       "    }\n",
       "\n",
       "    .dataframe tbody tr th {\n",
       "        vertical-align: top;\n",
       "    }\n",
       "\n",
       "    .dataframe thead th {\n",
       "        text-align: right;\n",
       "    }\n",
       "</style>\n",
       "<table border=\"1\" class=\"dataframe\">\n",
       "  <thead>\n",
       "    <tr style=\"text-align: right;\">\n",
       "      <th></th>\n",
       "      <th>date</th>\n",
       "      <th>group</th>\n",
       "      <th>visitors</th>\n",
       "    </tr>\n",
       "  </thead>\n",
       "  <tbody>\n",
       "    <tr>\n",
       "      <th>0</th>\n",
       "      <td>2019-08-01</td>\n",
       "      <td>A</td>\n",
       "      <td>719</td>\n",
       "    </tr>\n",
       "    <tr>\n",
       "      <th>1</th>\n",
       "      <td>2019-08-02</td>\n",
       "      <td>A</td>\n",
       "      <td>619</td>\n",
       "    </tr>\n",
       "    <tr>\n",
       "      <th>2</th>\n",
       "      <td>2019-08-03</td>\n",
       "      <td>A</td>\n",
       "      <td>507</td>\n",
       "    </tr>\n",
       "    <tr>\n",
       "      <th>3</th>\n",
       "      <td>2019-08-04</td>\n",
       "      <td>A</td>\n",
       "      <td>717</td>\n",
       "    </tr>\n",
       "    <tr>\n",
       "      <th>4</th>\n",
       "      <td>2019-08-05</td>\n",
       "      <td>A</td>\n",
       "      <td>756</td>\n",
       "    </tr>\n",
       "  </tbody>\n",
       "</table>\n",
       "</div>"
      ],
      "text/plain": [
       "        date group  visitors\n",
       "0 2019-08-01     A       719\n",
       "1 2019-08-02     A       619\n",
       "2 2019-08-03     A       507\n",
       "3 2019-08-04     A       717\n",
       "4 2019-08-05     A       756"
      ]
     },
     "metadata": {},
     "output_type": "display_data"
    }
   ],
   "source": [
    "# проверяем результат\n",
    "display(hypothesis.head(), orders.head(), visitors.head())"
   ]
  },
  {
   "cell_type": "code",
   "execution_count": 11,
   "id": "024c192a",
   "metadata": {},
   "outputs": [
    {
     "name": "stdout",
     "output_type": "stream",
     "text": [
      "<class 'pandas.core.frame.DataFrame'>\n",
      "RangeIndex: 9 entries, 0 to 8\n",
      "Data columns (total 5 columns):\n",
      " #   Column      Non-Null Count  Dtype \n",
      "---  ------      --------------  ----- \n",
      " 0   hypothesis  9 non-null      object\n",
      " 1   reach       9 non-null      int64 \n",
      " 2   impact      9 non-null      int64 \n",
      " 3   confidence  9 non-null      int64 \n",
      " 4   efforts     9 non-null      int64 \n",
      "dtypes: int64(4), object(1)\n",
      "memory usage: 488.0+ bytes\n"
     ]
    }
   ],
   "source": [
    "hypothesis.info()"
   ]
  },
  {
   "cell_type": "code",
   "execution_count": 12,
   "id": "ed054397",
   "metadata": {},
   "outputs": [
    {
     "name": "stdout",
     "output_type": "stream",
     "text": [
      "<class 'pandas.core.frame.DataFrame'>\n",
      "RangeIndex: 1197 entries, 0 to 1196\n",
      "Data columns (total 5 columns):\n",
      " #   Column          Non-Null Count  Dtype         \n",
      "---  ------          --------------  -----         \n",
      " 0   transaction_id  1197 non-null   int64         \n",
      " 1   visitor_id      1197 non-null   int64         \n",
      " 2   date            1197 non-null   datetime64[ns]\n",
      " 3   revenue         1197 non-null   int64         \n",
      " 4   group           1197 non-null   object        \n",
      "dtypes: datetime64[ns](1), int64(3), object(1)\n",
      "memory usage: 46.9+ KB\n"
     ]
    }
   ],
   "source": [
    "orders.info()"
   ]
  },
  {
   "cell_type": "code",
   "execution_count": 13,
   "id": "1c825cab",
   "metadata": {},
   "outputs": [
    {
     "name": "stdout",
     "output_type": "stream",
     "text": [
      "<class 'pandas.core.frame.DataFrame'>\n",
      "RangeIndex: 62 entries, 0 to 61\n",
      "Data columns (total 3 columns):\n",
      " #   Column    Non-Null Count  Dtype         \n",
      "---  ------    --------------  -----         \n",
      " 0   date      62 non-null     datetime64[ns]\n",
      " 1   group     62 non-null     object        \n",
      " 2   visitors  62 non-null     int64         \n",
      "dtypes: datetime64[ns](1), int64(1), object(1)\n",
      "memory usage: 1.6+ KB\n"
     ]
    }
   ],
   "source": [
    "visitors.info()"
   ]
  },
  {
   "cell_type": "markdown",
   "id": "bd52c4c1",
   "metadata": {},
   "source": [
    "## Приоритизация гипотез"
   ]
  },
  {
   "cell_type": "markdown",
   "id": "a24cb1b6",
   "metadata": {},
   "source": [
    "Отделом маркетинга были подготовлены 9 гипотез по увеличению выручки магазина. Применим фреймворки **ICE** и **RICE** для приоритизации данных гипотез."
   ]
  },
  {
   "cell_type": "code",
   "execution_count": 14,
   "id": "bea6d584",
   "metadata": {},
   "outputs": [
    {
     "data": {
      "text/html": [
       "<div>\n",
       "<style scoped>\n",
       "    .dataframe tbody tr th:only-of-type {\n",
       "        vertical-align: middle;\n",
       "    }\n",
       "\n",
       "    .dataframe tbody tr th {\n",
       "        vertical-align: top;\n",
       "    }\n",
       "\n",
       "    .dataframe thead th {\n",
       "        text-align: right;\n",
       "    }\n",
       "</style>\n",
       "<table border=\"1\" class=\"dataframe\">\n",
       "  <thead>\n",
       "    <tr style=\"text-align: right;\">\n",
       "      <th></th>\n",
       "      <th>hypothesis</th>\n",
       "      <th>reach</th>\n",
       "      <th>impact</th>\n",
       "      <th>confidence</th>\n",
       "      <th>efforts</th>\n",
       "      <th>ICE</th>\n",
       "    </tr>\n",
       "  </thead>\n",
       "  <tbody>\n",
       "    <tr>\n",
       "      <th>8</th>\n",
       "      <td>Запустить акцию, дающую скидку на товар в день рождения</td>\n",
       "      <td>1</td>\n",
       "      <td>9</td>\n",
       "      <td>9</td>\n",
       "      <td>5</td>\n",
       "      <td>16.200000</td>\n",
       "    </tr>\n",
       "    <tr>\n",
       "      <th>0</th>\n",
       "      <td>Добавить два новых канала привлечения трафика, что позволит привлекать на 30% больше пользователей</td>\n",
       "      <td>3</td>\n",
       "      <td>10</td>\n",
       "      <td>8</td>\n",
       "      <td>6</td>\n",
       "      <td>13.333333</td>\n",
       "    </tr>\n",
       "    <tr>\n",
       "      <th>7</th>\n",
       "      <td>Добавить форму подписки на все основные страницы, чтобы собрать базу клиентов для email-рассылок</td>\n",
       "      <td>10</td>\n",
       "      <td>7</td>\n",
       "      <td>8</td>\n",
       "      <td>5</td>\n",
       "      <td>11.200000</td>\n",
       "    </tr>\n",
       "    <tr>\n",
       "      <th>6</th>\n",
       "      <td>Показать на главной странице баннеры с актуальными акциями и распродажами, чтобы увеличить конверсию</td>\n",
       "      <td>5</td>\n",
       "      <td>3</td>\n",
       "      <td>8</td>\n",
       "      <td>3</td>\n",
       "      <td>8.000000</td>\n",
       "    </tr>\n",
       "    <tr>\n",
       "      <th>2</th>\n",
       "      <td>Добавить блоки рекомендаций товаров на сайт интернет магазина, чтобы повысить конверсию и средний чек заказа</td>\n",
       "      <td>8</td>\n",
       "      <td>3</td>\n",
       "      <td>7</td>\n",
       "      <td>3</td>\n",
       "      <td>7.000000</td>\n",
       "    </tr>\n",
       "    <tr>\n",
       "      <th>1</th>\n",
       "      <td>Запустить собственную службу доставки, что сократит срок доставки заказов</td>\n",
       "      <td>2</td>\n",
       "      <td>5</td>\n",
       "      <td>4</td>\n",
       "      <td>10</td>\n",
       "      <td>2.000000</td>\n",
       "    </tr>\n",
       "    <tr>\n",
       "      <th>5</th>\n",
       "      <td>Добавить страницу отзывов клиентов о магазине, что позволит увеличить количество заказов</td>\n",
       "      <td>3</td>\n",
       "      <td>2</td>\n",
       "      <td>2</td>\n",
       "      <td>3</td>\n",
       "      <td>1.333333</td>\n",
       "    </tr>\n",
       "    <tr>\n",
       "      <th>3</th>\n",
       "      <td>Изменить структура категорий, что увеличит конверсию, т.к. пользователи быстрее найдут нужный товар</td>\n",
       "      <td>8</td>\n",
       "      <td>3</td>\n",
       "      <td>3</td>\n",
       "      <td>8</td>\n",
       "      <td>1.125000</td>\n",
       "    </tr>\n",
       "    <tr>\n",
       "      <th>4</th>\n",
       "      <td>Изменить цвет фона главной страницы, чтобы увеличить вовлеченность пользователей</td>\n",
       "      <td>3</td>\n",
       "      <td>1</td>\n",
       "      <td>1</td>\n",
       "      <td>1</td>\n",
       "      <td>1.000000</td>\n",
       "    </tr>\n",
       "  </tbody>\n",
       "</table>\n",
       "</div>"
      ],
      "text/plain": [
       "                                                                                                     hypothesis  \\\n",
       "8                                                       Запустить акцию, дающую скидку на товар в день рождения   \n",
       "0            Добавить два новых канала привлечения трафика, что позволит привлекать на 30% больше пользователей   \n",
       "7              Добавить форму подписки на все основные страницы, чтобы собрать базу клиентов для email-рассылок   \n",
       "6          Показать на главной странице баннеры с актуальными акциями и распродажами, чтобы увеличить конверсию   \n",
       "2  Добавить блоки рекомендаций товаров на сайт интернет магазина, чтобы повысить конверсию и средний чек заказа   \n",
       "1                                     Запустить собственную службу доставки, что сократит срок доставки заказов   \n",
       "5                      Добавить страницу отзывов клиентов о магазине, что позволит увеличить количество заказов   \n",
       "3           Изменить структура категорий, что увеличит конверсию, т.к. пользователи быстрее найдут нужный товар   \n",
       "4                              Изменить цвет фона главной страницы, чтобы увеличить вовлеченность пользователей   \n",
       "\n",
       "   reach  impact  confidence  efforts        ICE  \n",
       "8      1       9           9        5  16.200000  \n",
       "0      3      10           8        6  13.333333  \n",
       "7     10       7           8        5  11.200000  \n",
       "6      5       3           8        3   8.000000  \n",
       "2      8       3           7        3   7.000000  \n",
       "1      2       5           4       10   2.000000  \n",
       "5      3       2           2        3   1.333333  \n",
       "3      8       3           3        8   1.125000  \n",
       "4      3       1           1        1   1.000000  "
      ]
     },
     "metadata": {},
     "output_type": "display_data"
    }
   ],
   "source": [
    "# применяем фреймворк ICE\n",
    "hypothesis['ICE'] = hypothesis['impact'] * hypothesis['confidence'] / hypothesis['efforts']\n",
    "display(hypothesis.sort_values(by='ICE', ascending=False))"
   ]
  },
  {
   "cell_type": "code",
   "execution_count": 15,
   "id": "8ca8a945",
   "metadata": {},
   "outputs": [
    {
     "data": {
      "text/html": [
       "<div>\n",
       "<style scoped>\n",
       "    .dataframe tbody tr th:only-of-type {\n",
       "        vertical-align: middle;\n",
       "    }\n",
       "\n",
       "    .dataframe tbody tr th {\n",
       "        vertical-align: top;\n",
       "    }\n",
       "\n",
       "    .dataframe thead th {\n",
       "        text-align: right;\n",
       "    }\n",
       "</style>\n",
       "<table border=\"1\" class=\"dataframe\">\n",
       "  <thead>\n",
       "    <tr style=\"text-align: right;\">\n",
       "      <th></th>\n",
       "      <th>hypothesis</th>\n",
       "      <th>reach</th>\n",
       "      <th>impact</th>\n",
       "      <th>confidence</th>\n",
       "      <th>efforts</th>\n",
       "      <th>ICE</th>\n",
       "      <th>RICE</th>\n",
       "    </tr>\n",
       "  </thead>\n",
       "  <tbody>\n",
       "    <tr>\n",
       "      <th>7</th>\n",
       "      <td>Добавить форму подписки на все основные страницы, чтобы собрать базу клиентов для email-рассылок</td>\n",
       "      <td>10</td>\n",
       "      <td>7</td>\n",
       "      <td>8</td>\n",
       "      <td>5</td>\n",
       "      <td>11.200000</td>\n",
       "      <td>112.0</td>\n",
       "    </tr>\n",
       "    <tr>\n",
       "      <th>2</th>\n",
       "      <td>Добавить блоки рекомендаций товаров на сайт интернет магазина, чтобы повысить конверсию и средний чек заказа</td>\n",
       "      <td>8</td>\n",
       "      <td>3</td>\n",
       "      <td>7</td>\n",
       "      <td>3</td>\n",
       "      <td>7.000000</td>\n",
       "      <td>56.0</td>\n",
       "    </tr>\n",
       "    <tr>\n",
       "      <th>0</th>\n",
       "      <td>Добавить два новых канала привлечения трафика, что позволит привлекать на 30% больше пользователей</td>\n",
       "      <td>3</td>\n",
       "      <td>10</td>\n",
       "      <td>8</td>\n",
       "      <td>6</td>\n",
       "      <td>13.333333</td>\n",
       "      <td>40.0</td>\n",
       "    </tr>\n",
       "    <tr>\n",
       "      <th>6</th>\n",
       "      <td>Показать на главной странице баннеры с актуальными акциями и распродажами, чтобы увеличить конверсию</td>\n",
       "      <td>5</td>\n",
       "      <td>3</td>\n",
       "      <td>8</td>\n",
       "      <td>3</td>\n",
       "      <td>8.000000</td>\n",
       "      <td>40.0</td>\n",
       "    </tr>\n",
       "    <tr>\n",
       "      <th>8</th>\n",
       "      <td>Запустить акцию, дающую скидку на товар в день рождения</td>\n",
       "      <td>1</td>\n",
       "      <td>9</td>\n",
       "      <td>9</td>\n",
       "      <td>5</td>\n",
       "      <td>16.200000</td>\n",
       "      <td>16.2</td>\n",
       "    </tr>\n",
       "    <tr>\n",
       "      <th>3</th>\n",
       "      <td>Изменить структура категорий, что увеличит конверсию, т.к. пользователи быстрее найдут нужный товар</td>\n",
       "      <td>8</td>\n",
       "      <td>3</td>\n",
       "      <td>3</td>\n",
       "      <td>8</td>\n",
       "      <td>1.125000</td>\n",
       "      <td>9.0</td>\n",
       "    </tr>\n",
       "    <tr>\n",
       "      <th>1</th>\n",
       "      <td>Запустить собственную службу доставки, что сократит срок доставки заказов</td>\n",
       "      <td>2</td>\n",
       "      <td>5</td>\n",
       "      <td>4</td>\n",
       "      <td>10</td>\n",
       "      <td>2.000000</td>\n",
       "      <td>4.0</td>\n",
       "    </tr>\n",
       "    <tr>\n",
       "      <th>5</th>\n",
       "      <td>Добавить страницу отзывов клиентов о магазине, что позволит увеличить количество заказов</td>\n",
       "      <td>3</td>\n",
       "      <td>2</td>\n",
       "      <td>2</td>\n",
       "      <td>3</td>\n",
       "      <td>1.333333</td>\n",
       "      <td>4.0</td>\n",
       "    </tr>\n",
       "    <tr>\n",
       "      <th>4</th>\n",
       "      <td>Изменить цвет фона главной страницы, чтобы увеличить вовлеченность пользователей</td>\n",
       "      <td>3</td>\n",
       "      <td>1</td>\n",
       "      <td>1</td>\n",
       "      <td>1</td>\n",
       "      <td>1.000000</td>\n",
       "      <td>3.0</td>\n",
       "    </tr>\n",
       "  </tbody>\n",
       "</table>\n",
       "</div>"
      ],
      "text/plain": [
       "                                                                                                     hypothesis  \\\n",
       "7              Добавить форму подписки на все основные страницы, чтобы собрать базу клиентов для email-рассылок   \n",
       "2  Добавить блоки рекомендаций товаров на сайт интернет магазина, чтобы повысить конверсию и средний чек заказа   \n",
       "0            Добавить два новых канала привлечения трафика, что позволит привлекать на 30% больше пользователей   \n",
       "6          Показать на главной странице баннеры с актуальными акциями и распродажами, чтобы увеличить конверсию   \n",
       "8                                                       Запустить акцию, дающую скидку на товар в день рождения   \n",
       "3           Изменить структура категорий, что увеличит конверсию, т.к. пользователи быстрее найдут нужный товар   \n",
       "1                                     Запустить собственную службу доставки, что сократит срок доставки заказов   \n",
       "5                      Добавить страницу отзывов клиентов о магазине, что позволит увеличить количество заказов   \n",
       "4                              Изменить цвет фона главной страницы, чтобы увеличить вовлеченность пользователей   \n",
       "\n",
       "   reach  impact  confidence  efforts        ICE   RICE  \n",
       "7     10       7           8        5  11.200000  112.0  \n",
       "2      8       3           7        3   7.000000   56.0  \n",
       "0      3      10           8        6  13.333333   40.0  \n",
       "6      5       3           8        3   8.000000   40.0  \n",
       "8      1       9           9        5  16.200000   16.2  \n",
       "3      8       3           3        8   1.125000    9.0  \n",
       "1      2       5           4       10   2.000000    4.0  \n",
       "5      3       2           2        3   1.333333    4.0  \n",
       "4      3       1           1        1   1.000000    3.0  "
      ]
     },
     "metadata": {},
     "output_type": "display_data"
    }
   ],
   "source": [
    "# применяем фреймворк RICE\n",
    "hypothesis['RICE'] = hypothesis['reach'] * hypothesis['impact'] * hypothesis['confidence'] / hypothesis['efforts']\n",
    "display(hypothesis.sort_values(by='RICE', ascending=False))"
   ]
  },
  {
   "cell_type": "markdown",
   "id": "a2386105",
   "metadata": {},
   "source": [
    "##### Вывод:\n",
    "Оба фреймворка ставят на `4 последних места`, хоть и немного в разной последовательности, гипотезы под номерами **1**, **3**, **4**, **5**. Однако гипотеза, занимающая `1` место по фреймворку **ICE**, занимает только `5` место по фреймворку **RICE**. Причину подобного легко объяснить, так как это гипотеза под номером **8**, предлагающая ввести `скидку на товар в день рождения`. Подобная акция имеет `очень высокое влияние` (**impact**) и `степень уверенности в точности оценок` прочих параметров (**confidence**), однако `охват аудитории` минимальный, так как данная акция будет актуальна для каждого из пользователей только один день в году.\\\n",
    "Также есть небольшие изменения в местах прочих гипотез: гипотеза номер **0** - `вторая` по **ICE**, становится `третьей` по **RICE** так же из-за низкого параметра охвата (**reach**) в совокупности с большими трудозатратами (**efforts**).\\\n",
    "Гипотеза номер **7** - `третья` по **ICE**, становится `первой` по **RICE**, так как форму подписки, расположенную на каждой странице сайта, увидит максимальное количество пользователей.\\\n",
    "А гипотеза номер **2** - `пятая` по **ICE**, становится `второй` по **RICE**.\\\n",
    "В общем, можно отметить, что параметр **reach** имеет `очень высокое влияние` на оценку гипотезы, однако, если прочие параметры будут низкими, а затраты (**efforts**) наоборот высокими, то гипотеза получит низкую оценку - пример гипотеза номер **3**, которая при **reach** = 8, оказалась только на `6` месте."
   ]
  },
  {
   "cell_type": "markdown",
   "id": "ba0975ce",
   "metadata": {},
   "source": [
    "## Анализ"
   ]
  },
  {
   "cell_type": "markdown",
   "id": "78d754df",
   "metadata": {},
   "source": [
    "### Кумулятивные метрики"
   ]
  },
  {
   "cell_type": "markdown",
   "id": "2a3be992",
   "metadata": {},
   "source": [
    "#### Кумулятивная выручка"
   ]
  },
  {
   "cell_type": "code",
   "execution_count": 16,
   "id": "c04df1ea",
   "metadata": {
    "scrolled": false
   },
   "outputs": [
    {
     "data": {
      "image/png": "[encoded data removed]",
      "text/plain": [
       "<Figure size 1080x504 with 1 Axes>"
      ]
     },
     "metadata": {},
     "output_type": "display_data"
    }
   ],
   "source": [
    "# создаем массив уникальных пар значений дат и групп теста\n",
    "dates_grouped = orders[['date', 'group']].drop_duplicates()\n",
    "\n",
    "# получаем агрегированные кумулятивные по дням данные о заказах\n",
    "orders_aggregated = dates_grouped.apply(\n",
    "    lambda x: orders[\n",
    "        np.logical_and(\n",
    "            orders['date'] <= x['date'], orders['group'] == x['group']\n",
    "        )\n",
    "    ].agg(\n",
    "        {\n",
    "            'date': 'max',\n",
    "            'group': 'max',\n",
    "            'transaction_id': 'nunique',\n",
    "            'visitor_id': 'nunique',\n",
    "            'revenue': 'sum',\n",
    "        }\n",
    "    ),\n",
    "    axis=1,\n",
    ").sort_values(by=['date', 'group'])\n",
    "\n",
    "# получаем агрегированные кумулятивные по дням данные о посетителях интернет-магазина\n",
    "visitors_aggregated = dates_grouped.apply(\n",
    "    lambda x: visitors[\n",
    "        np.logical_and(\n",
    "            visitors['date'] <= x['date'], visitors['group'] == x['group']\n",
    "        )\n",
    "    ].agg(\n",
    "        {\n",
    "            'date': 'max',\n",
    "            'group': 'max',\n",
    "            'visitors': 'sum'\n",
    "        }\n",
    "    ),\n",
    "    axis=1,\n",
    ").sort_values(by=['date', 'group'])\n",
    "\n",
    "# объединяем кумулятивные данные в одной таблице и присваиваем ее столбцам понятные названия\n",
    "cumulative_data = orders_aggregated.merge(\n",
    "    visitors_aggregated,\n",
    "    left_on=['date', 'group'],\n",
    "    right_on=['date', 'group'])\n",
    "\n",
    "cumulative_data.columns = [\n",
    "    'date',\n",
    "    'group',\n",
    "    'orders',\n",
    "    'buyers',\n",
    "    'revenue',\n",
    "    'visitors',\n",
    "]\n",
    "\n",
    "# датафрейм с кумулятивным количеством заказов и кумулятивной выручкой по дням в группе А\n",
    "cumulative_RevenueA = cumulative_data[cumulative_data['group'] == 'A'][['date', 'revenue', 'orders']]\n",
    "\n",
    "# датафрейм с кумулятивным количеством заказов и кумулятивной выручкой по дням в группе B\n",
    "cumulative_RevenueB = cumulative_data[cumulative_data['group'] == 'B'][['date', 'revenue', 'orders']]\n",
    "\n",
    "# строим график выручки группы А\n",
    "plt.figure(figsize=(15,7))\n",
    "plt.plot(cumulative_RevenueA['date'], cumulative_RevenueA['revenue'], label='A')\n",
    "\n",
    "# строим график выручки группы B\n",
    "plt.plot(cumulative_RevenueB['date'], cumulative_RevenueB['revenue'], label='B')\n",
    "\n",
    "plt.title('Кумулятивная выручка по группам А и В', fontsize=20)\n",
    "plt.ylabel('Выручка, млн.', fontsize=15)\n",
    "plt.legend() \n",
    "plt.show()"
   ]
  },
  {
   "cell_type": "markdown",
   "id": "0ec08a8c",
   "metadata": {},
   "source": [
    "По графику видим, что `выручка` группы **A** `растёт более плавно`, однако практически с самого начала `уступает` выручке группы **B**. Также у группы **B** виден `резкий скачок` 18 августа, что может свидетельствовать об `увеличении количества или стоимости` оформляемых заказов, либо об `ошибке` в данных или `выбросе`."
   ]
  },
  {
   "cell_type": "markdown",
   "id": "79f8a390",
   "metadata": {},
   "source": [
    "#### Кумулятивный средний чек"
   ]
  },
  {
   "cell_type": "code",
   "execution_count": 17,
   "id": "99a582b8",
   "metadata": {
    "scrolled": false
   },
   "outputs": [
    {
     "data": {
      "image/png": "[encoded data removed]",
      "text/plain": [
       "<Figure size 1080x504 with 1 Axes>"
      ]
     },
     "metadata": {},
     "output_type": "display_data"
    }
   ],
   "source": [
    "# строим графики кумулятивного среднего чека по дням\n",
    "plt.figure(figsize=(15,7))\n",
    "plt.plot(cumulative_RevenueA['date'], cumulative_RevenueA['revenue'] / cumulative_RevenueA['orders'], label='A')\n",
    "plt.plot(cumulative_RevenueB['date'], cumulative_RevenueB['revenue'] / cumulative_RevenueB['orders'], label='B')\n",
    "\n",
    "plt.title('Кумулятивный средний чек по группам А и В', fontsize=20)\n",
    "plt.ylabel('Сумма', fontsize=15)\n",
    "plt.legend() \n",
    "plt.show()"
   ]
  },
  {
   "cell_type": "markdown",
   "id": "21a95061",
   "metadata": {},
   "source": [
    "По графику `среднего чека` также виден `резкий скачок` 18 августа у группы **B**, после чего показатель `начинает снижаться`."
   ]
  },
  {
   "cell_type": "markdown",
   "id": "4bf53fe8",
   "metadata": {},
   "source": [
    "#### Изменение кумулятивного среднего чека группы B к группе A."
   ]
  },
  {
   "cell_type": "code",
   "execution_count": 18,
   "id": "ada194bf",
   "metadata": {},
   "outputs": [
    {
     "data": {
      "image/png": "[encoded data removed]",
      "text/plain": [
       "<Figure size 1080x504 with 1 Axes>"
      ]
     },
     "metadata": {},
     "output_type": "display_data"
    }
   ],
   "source": [
    "# собираем данные в одном датафрейме\n",
    "merged_cumulative_revenue = cumulative_RevenueA.merge(\n",
    "    cumulative_RevenueB,\n",
    "    left_on=['date'],\n",
    "    right_on=['date'],\n",
    "    how='left',\n",
    "    suffixes=['A', 'B']\n",
    ")\n",
    "\n",
    "# cтроим отношение средних чеков\n",
    "plt.figure(figsize=(15,7))\n",
    "plt.plot(merged_cumulative_revenue['date'], (merged_cumulative_revenue['revenueB'] / merged_cumulative_revenue['ordersB']) / (merged_cumulative_revenue['revenueA'] / merged_cumulative_revenue['ordersA']) - 1)\n",
    "\n",
    "# добавляем ось X\n",
    "plt.axhline(y=0, color='black', linestyle='--') \n",
    "plt.title('Изменение кумулятивного среднего чека группы B к группе A', fontsize=20)\n",
    "plt.show()"
   ]
  },
  {
   "cell_type": "markdown",
   "id": "ef529cea",
   "metadata": {},
   "source": [
    "График почти `повторяет` график `кумулятивного среднего чека` группы **B**: видны те же самые `скачки`, особенно, 18 августа."
   ]
  },
  {
   "cell_type": "markdown",
   "id": "835e49d5",
   "metadata": {},
   "source": [
    "#### Кумулятивная конверсия по группам"
   ]
  },
  {
   "cell_type": "code",
   "execution_count": 19,
   "id": "020b077c",
   "metadata": {},
   "outputs": [
    {
     "data": {
      "image/png": "[encoded data removed]",
      "text/plain": [
       "<Figure size 1080x504 with 1 Axes>"
      ]
     },
     "metadata": {},
     "output_type": "display_data"
    }
   ],
   "source": [
    "# считаем кумулятивную конверсию\n",
    "cumulative_data['conversion'] = cumulative_data['orders'] / cumulative_data['visitors']\n",
    "\n",
    "# отделяем данные по группе A\n",
    "cumulative_dataA = cumulative_data[cumulative_data['group'] == 'A']\n",
    "\n",
    "# отделяем данные по группе B\n",
    "cumulative_dataB = cumulative_data[cumulative_data['group'] == 'B']\n",
    "\n",
    "# строим графики\n",
    "plt.figure(figsize=(15,7))\n",
    "plt.plot(cumulative_dataA['date'], cumulative_dataA['conversion'], label='A')\n",
    "plt.plot(cumulative_dataB['date'], cumulative_dataB['conversion'], label='B')\n",
    "plt.title('Кумулятивная конверсия по группам', fontsize=20)\n",
    "plt.ylabel('Конверсия', fontsize=15)\n",
    "plt.legend()\n",
    "plt.show()"
   ]
  },
  {
   "cell_type": "markdown",
   "id": "7e639465",
   "metadata": {},
   "source": [
    "Группа **B** показывает лучшую конверсию."
   ]
  },
  {
   "cell_type": "markdown",
   "id": "86897f34",
   "metadata": {},
   "source": [
    "#### Относительное изменение кумулятивной конверсии группы B к группе A"
   ]
  },
  {
   "cell_type": "code",
   "execution_count": 20,
   "id": "95f34c1d",
   "metadata": {},
   "outputs": [
    {
     "data": {
      "image/png": "[encoded data removed]",
      "text/plain": [
       "<Figure size 1080x504 with 1 Axes>"
      ]
     },
     "metadata": {},
     "output_type": "display_data"
    }
   ],
   "source": [
    "# объединяем таблицы конверсий\n",
    "merged_cumulative_conversions = cumulative_dataA[['date','conversion']].merge(\n",
    "    cumulative_dataB[['date','conversion']],\n",
    "    left_on='date',\n",
    "    right_on='date',\n",
    "    how='left',\n",
    "    suffixes=['A', 'B'])\n",
    "\n",
    "# строим график относительного различия кумулятивной конверсии группы B к группе A\n",
    "plt.figure(figsize=(15,7))\n",
    "plt.plot(merged_cumulative_conversions['date'],\n",
    "         merged_cumulative_conversions['conversionB'] /\n",
    "         merged_cumulative_conversions['conversionA'] - 1)\n",
    "plt.axhline(y=0, color='black', linestyle='--')\n",
    "plt.axhline(y=0.2, color='grey', linestyle='--')\n",
    "plt.title('Относительное изменение кумулятивной конверсии группы B к группе A', fontsize=20)\n",
    "plt.show()"
   ]
  },
  {
   "cell_type": "markdown",
   "id": "7a69f408",
   "metadata": {},
   "source": [
    "По этому графику также видно преимущество конверсии группы **B**."
   ]
  },
  {
   "cell_type": "markdown",
   "id": "38b78240",
   "metadata": {},
   "source": [
    "### Анализ количества заказов по пользователям, стоимости заказов"
   ]
  },
  {
   "cell_type": "markdown",
   "id": "08fa9143",
   "metadata": {},
   "source": [
    "#### Количество заказов по пользователям"
   ]
  },
  {
   "cell_type": "code",
   "execution_count": 21,
   "id": "fd89c0aa",
   "metadata": {},
   "outputs": [
    {
     "data": {
      "image/png": "[encoded data removed]",
      "text/plain": [
       "<Figure size 1080x504 with 1 Axes>"
      ]
     },
     "metadata": {},
     "output_type": "display_data"
    }
   ],
   "source": [
    "# группируем заказы по пользователям\n",
    "orders_by_users = (\n",
    "    orders.groupby('visitor_id', as_index=False)\n",
    "    .agg({'transaction_id': 'nunique'})\n",
    ")\n",
    "orders_by_users.columns = ['user_id', 'orders']\n",
    "\n",
    "x_values = pd.Series(range(0, len(orders_by_users)))\n",
    "plt.figure(figsize=(15,7))\n",
    "plt.scatter(x_values, orders_by_users['orders'])\n",
    "plt.title('Количество заказов по пользователям', fontsize=20)\n",
    "plt.show()"
   ]
  },
  {
   "cell_type": "markdown",
   "id": "51715621",
   "metadata": {},
   "source": [
    "По графику видно, что `большинство пользователей` совершили от **1** до **3** заказов. Пользователей с **4 и более** заказов `значительно меньше`."
   ]
  },
  {
   "cell_type": "markdown",
   "id": "d532d551",
   "metadata": {},
   "source": [
    "#### 95-й и 99-й перцентили количества заказов на пользователя"
   ]
  },
  {
   "cell_type": "code",
   "execution_count": 22,
   "id": "e7f79a49",
   "metadata": {},
   "outputs": [
    {
     "name": "stdout",
     "output_type": "stream",
     "text": [
      "[2. 4.]\n"
     ]
    }
   ],
   "source": [
    "# находим перцентили\n",
    "print(np.percentile(orders_by_users['orders'], [95, 99])) "
   ]
  },
  {
   "cell_type": "markdown",
   "id": "18f1c0d4",
   "metadata": {},
   "source": [
    "Данный метод подтверждает, что **95%** пользователей `совершили до 2 заказов`, а **99%** пользователей - `до 4`. Следовательно, к `аномальным` пользователям можно отнести пользователей с **5 и более** заказами."
   ]
  },
  {
   "cell_type": "markdown",
   "id": "21190c14",
   "metadata": {},
   "source": [
    "#### Стоимость заказов"
   ]
  },
  {
   "cell_type": "code",
   "execution_count": 23,
   "id": "8e1e7181",
   "metadata": {},
   "outputs": [
    {
     "data": {
      "image/png": "[encoded data removed]",
      "text/plain": [
       "<Figure size 1080x504 with 1 Axes>"
      ]
     },
     "metadata": {},
     "output_type": "display_data"
    }
   ],
   "source": [
    "x_values = pd.Series(range(0, len(orders['revenue'])))\n",
    "plt.figure(figsize=(15,7))\n",
    "plt.scatter(x_values, orders['revenue'])\n",
    "plt.title('Стоимость заказов', fontsize=20)\n",
    "plt.ylabel('Стоимость, млн.', fontsize=15)\n",
    "plt.show()"
   ]
  },
  {
   "cell_type": "markdown",
   "id": "53dc9e6f",
   "metadata": {},
   "source": [
    "На графике виден один `очень крупный` заказ. Скорее всего именно он вызвал те `всплески` на графиках `выручки` и `среднего чека`. Также есть заказ в районе `200 тысяч`, остальные заказы `значительно меньше`."
   ]
  },
  {
   "cell_type": "markdown",
   "id": "c4453c84",
   "metadata": {},
   "source": [
    "#### 95-й и 99-й перцентили стоимости заказов"
   ]
  },
  {
   "cell_type": "code",
   "execution_count": 24,
   "id": "d894f81f",
   "metadata": {},
   "outputs": [
    {
     "name": "stdout",
     "output_type": "stream",
     "text": [
      "[28000.  58233.2]\n"
     ]
    }
   ],
   "source": [
    "# находим перцентили\n",
    "print(np.percentile(orders['revenue'], [95, 99])) "
   ]
  },
  {
   "cell_type": "markdown",
   "id": "29d11c87",
   "metadata": {},
   "source": [
    "**95%** заказов стоили `не дороже` **28000** и **99%** - не дороже **58233,2**. Отнесём к `аномальным` заказам все заказы, дороже **60000**."
   ]
  },
  {
   "cell_type": "markdown",
   "id": "654ea7f4",
   "metadata": {},
   "source": [
    "### Анализ статистической значимости"
   ]
  },
  {
   "cell_type": "markdown",
   "id": "41a2a0a7",
   "metadata": {},
   "source": [
    "#### Статистическая значимость различий конверсий между группами по «сырым» данным"
   ]
  },
  {
   "cell_type": "code",
   "execution_count": 25,
   "id": "159d5fd3",
   "metadata": {},
   "outputs": [
    {
     "data": {
      "text/html": [
       "<div>\n",
       "<style scoped>\n",
       "    .dataframe tbody tr th:only-of-type {\n",
       "        vertical-align: middle;\n",
       "    }\n",
       "\n",
       "    .dataframe tbody tr th {\n",
       "        vertical-align: top;\n",
       "    }\n",
       "\n",
       "    .dataframe thead th {\n",
       "        text-align: right;\n",
       "    }\n",
       "</style>\n",
       "<table border=\"1\" class=\"dataframe\">\n",
       "  <thead>\n",
       "    <tr style=\"text-align: right;\">\n",
       "      <th></th>\n",
       "      <th>date</th>\n",
       "      <th>orders_per_dateA</th>\n",
       "      <th>revenue_per_dateA</th>\n",
       "      <th>orders_per_dateB</th>\n",
       "      <th>revenue_per_dateB</th>\n",
       "      <th>orders_cummulativeA</th>\n",
       "      <th>revenue_cummulativeA</th>\n",
       "      <th>orders_cummulativeB</th>\n",
       "      <th>revenue_cummulativeB</th>\n",
       "      <th>visitors_per_dateA</th>\n",
       "      <th>visitors_per_dateB</th>\n",
       "      <th>visitors_cummulativeA</th>\n",
       "      <th>visitors_cummulativeB</th>\n",
       "    </tr>\n",
       "  </thead>\n",
       "  <tbody>\n",
       "    <tr>\n",
       "      <th>0</th>\n",
       "      <td>2019-08-01</td>\n",
       "      <td>24</td>\n",
       "      <td>148579</td>\n",
       "      <td>21</td>\n",
       "      <td>101217</td>\n",
       "      <td>24</td>\n",
       "      <td>148579</td>\n",
       "      <td>21</td>\n",
       "      <td>101217</td>\n",
       "      <td>719</td>\n",
       "      <td>713</td>\n",
       "      <td>719</td>\n",
       "      <td>713</td>\n",
       "    </tr>\n",
       "    <tr>\n",
       "      <th>1</th>\n",
       "      <td>2019-08-02</td>\n",
       "      <td>20</td>\n",
       "      <td>93822</td>\n",
       "      <td>24</td>\n",
       "      <td>165531</td>\n",
       "      <td>44</td>\n",
       "      <td>242401</td>\n",
       "      <td>45</td>\n",
       "      <td>266748</td>\n",
       "      <td>619</td>\n",
       "      <td>581</td>\n",
       "      <td>1338</td>\n",
       "      <td>1294</td>\n",
       "    </tr>\n",
       "    <tr>\n",
       "      <th>2</th>\n",
       "      <td>2019-08-03</td>\n",
       "      <td>24</td>\n",
       "      <td>112473</td>\n",
       "      <td>16</td>\n",
       "      <td>114248</td>\n",
       "      <td>68</td>\n",
       "      <td>354874</td>\n",
       "      <td>61</td>\n",
       "      <td>380996</td>\n",
       "      <td>507</td>\n",
       "      <td>509</td>\n",
       "      <td>1845</td>\n",
       "      <td>1803</td>\n",
       "    </tr>\n",
       "    <tr>\n",
       "      <th>3</th>\n",
       "      <td>2019-08-04</td>\n",
       "      <td>16</td>\n",
       "      <td>70825</td>\n",
       "      <td>17</td>\n",
       "      <td>108571</td>\n",
       "      <td>84</td>\n",
       "      <td>425699</td>\n",
       "      <td>78</td>\n",
       "      <td>489567</td>\n",
       "      <td>717</td>\n",
       "      <td>770</td>\n",
       "      <td>2562</td>\n",
       "      <td>2573</td>\n",
       "    </tr>\n",
       "    <tr>\n",
       "      <th>4</th>\n",
       "      <td>2019-08-05</td>\n",
       "      <td>25</td>\n",
       "      <td>124218</td>\n",
       "      <td>23</td>\n",
       "      <td>92428</td>\n",
       "      <td>109</td>\n",
       "      <td>549917</td>\n",
       "      <td>101</td>\n",
       "      <td>581995</td>\n",
       "      <td>756</td>\n",
       "      <td>707</td>\n",
       "      <td>3318</td>\n",
       "      <td>3280</td>\n",
       "    </tr>\n",
       "  </tbody>\n",
       "</table>\n",
       "</div>"
      ],
      "text/plain": [
       "        date  orders_per_dateA  revenue_per_dateA  orders_per_dateB  \\\n",
       "0 2019-08-01                24             148579                21   \n",
       "1 2019-08-02                20              93822                24   \n",
       "2 2019-08-03                24             112473                16   \n",
       "3 2019-08-04                16              70825                17   \n",
       "4 2019-08-05                25             124218                23   \n",
       "\n",
       "   revenue_per_dateB  orders_cummulativeA  revenue_cummulativeA  \\\n",
       "0             101217                   24                148579   \n",
       "1             165531                   44                242401   \n",
       "2             114248                   68                354874   \n",
       "3             108571                   84                425699   \n",
       "4              92428                  109                549917   \n",
       "\n",
       "   orders_cummulativeB  revenue_cummulativeB  visitors_per_dateA  \\\n",
       "0                   21                101217                 719   \n",
       "1                   45                266748                 619   \n",
       "2                   61                380996                 507   \n",
       "3                   78                489567                 717   \n",
       "4                  101                581995                 756   \n",
       "\n",
       "   visitors_per_dateB  visitors_cummulativeA  visitors_cummulativeB  \n",
       "0                 713                    719                    713  \n",
       "1                 581                   1338                   1294  \n",
       "2                 509                   1845                   1803  \n",
       "3                 770                   2562                   2573  \n",
       "4                 707                   3318                   3280  "
      ]
     },
     "metadata": {},
     "output_type": "display_data"
    }
   ],
   "source": [
    "# составляем таблицу с количеством покупателей, заказов и их стоимостью за день по группам и всех этих данных с накоплением\n",
    "visitors_dailyA = visitors[visitors['group'] == 'A'][['date', 'visitors']]\n",
    "visitors_dailyA.columns = ['date', 'visitors_per_dateA']\n",
    "\n",
    "visitors_cummulativeA = visitors_dailyA.apply(\n",
    "    lambda x: visitors_dailyA[visitors_dailyA['date'] <= x['date']].agg(\n",
    "        {'date': 'max', 'visitors_per_dateA': 'sum'}\n",
    "    ),\n",
    "    axis=1,\n",
    ")\n",
    "visitors_cummulativeA.columns = ['date', 'visitors_cummulativeA']\n",
    "\n",
    "visitors_dailyB = visitors[visitors['group'] == 'B'][['date', 'visitors']]\n",
    "visitors_dailyB.columns = ['date', 'visitors_per_dateB']\n",
    "\n",
    "visitors_cummulativeB = visitors_dailyB.apply(\n",
    "    lambda x: visitors_dailyB[visitors_dailyB['date'] <= x['date']].agg(\n",
    "        {'date': 'max', 'visitors_per_dateB': 'sum'}\n",
    "    ),\n",
    "    axis=1,\n",
    ")\n",
    "visitors_cummulativeB.columns = ['date', 'visitors_cummulativeB']\n",
    "\n",
    "orders_dailyA = (\n",
    "    orders[orders['group'] == 'A'][['date', 'transaction_id', 'visitor_id', 'revenue']]\n",
    "    .groupby('date', as_index=False)\n",
    "    .agg({'transaction_id': pd.Series.nunique, 'revenue': 'sum'})\n",
    ")\n",
    "orders_dailyA.columns = ['date', 'orders_per_dateA', 'revenue_per_dateA']\n",
    "\n",
    "orders_cummulativeA = orders_dailyA.apply(\n",
    "    lambda x: orders_dailyA[orders_dailyA['date'] <= x['date']].agg(\n",
    "        {'date': 'max', 'orders_per_dateA': 'sum', 'revenue_per_dateA': 'sum'}\n",
    "    ),\n",
    "    axis=1,\n",
    ").sort_values(by=['date'])\n",
    "orders_cummulativeA.columns = [\n",
    "    'date',\n",
    "    'orders_cummulativeA',\n",
    "    'revenue_cummulativeA',\n",
    "]\n",
    "\n",
    "orders_dailyB = (\n",
    "    orders[orders['group'] == 'B'][['date', 'transaction_id', 'visitor_id', 'revenue']]\n",
    "    .groupby('date', as_index=False)\n",
    "    .agg({'transaction_id': pd.Series.nunique, 'revenue': 'sum'})\n",
    ")\n",
    "orders_dailyB.columns = ['date', 'orders_per_dateB', 'revenue_per_dateB']\n",
    "\n",
    "orders_cummulativeB = orders_dailyB.apply(\n",
    "    lambda x: orders_dailyB[orders_dailyB['date'] <= x['date']].agg(\n",
    "        {'date': 'max', 'orders_per_dateB': 'sum', 'revenue_per_dateB': 'sum'}\n",
    "    ),\n",
    "    axis=1,\n",
    ").sort_values(by=['date'])\n",
    "orders_cummulativeB.columns = [\n",
    "    'date',\n",
    "    'orders_cummulativeB',\n",
    "    'revenue_cummulativeB',\n",
    "]\n",
    "\n",
    "data = (\n",
    "    orders_dailyA.merge(\n",
    "        orders_dailyB,\n",
    "        left_on='date',\n",
    "        right_on='date',\n",
    "        how='left'\n",
    "    )\n",
    "    .merge(orders_cummulativeA, left_on='date', right_on='date', how='left')\n",
    "    .merge(orders_cummulativeB, left_on='date', right_on='date', how='left')\n",
    "    .merge(visitors_dailyA, left_on='date', right_on='date', how='left')\n",
    "    .merge(visitors_dailyB, left_on='date', right_on='date', how='left')\n",
    "    .merge(visitors_cummulativeA, left_on='date', right_on='date', how='left')\n",
    "    .merge(visitors_cummulativeB, left_on='date', right_on='date', how='left')\n",
    ")\n",
    "\n",
    "display(data.head(5))"
   ]
  },
  {
   "cell_type": "markdown",
   "id": "4f371b7c",
   "metadata": {},
   "source": [
    "В итоге у нас таблица со следующими данными:\n",
    "- **date** - дата\n",
    "- **orders_per_dateA** - количество заказов в выбранную дату в группе A\n",
    "- **revenue_per_dateA** - суммарная выручка в выбранную дату в группе A\n",
    "- **orders_per_dateB** - количество заказов в выбранную дату в группе B\n",
    "- **revenue_per_dateB** - суммарная выручка в выбранную дату в группе B\n",
    "- **orders_cummulativeA** - суммарное число заказов до выбранной даты включительно в группе A\n",
    "- **revenue_cummulativeA** - суммарная выручка до выбранной даты включительно в группе A\n",
    "- **orders_cummulativeB** - суммарное количество заказов до выбранной даты включительно в группе B\n",
    "- **revenue_cummulativeB** - суммарная выручка до выбранной даты включительно в группе B\n",
    "- **visitors_per_dateA** - количество пользователей в выбранную дату в группе A\n",
    "- **visitors_per_dateB** - количество пользователей в выбранную дату в группе B\n",
    "- **visitors_cummulativeA** - количество пользователей до выбранной даты включительно в группе A\n",
    "- **visitors_cummulativeB** - количество пользователей до выбранной даты включительно в группе B"
   ]
  },
  {
   "cell_type": "code",
   "execution_count": 26,
   "id": "acabab4a",
   "metadata": {},
   "outputs": [],
   "source": [
    "# группируем покупателей с заказами\n",
    "orders_by_usersA = (\n",
    "    orders[orders['group'] == 'A']\n",
    "    .groupby('visitor_id', as_index=False)\n",
    "    .agg({'transaction_id' : pd.Series.nunique})\n",
    ")\n",
    "orders_by_usersA.columns = ['visitor_id', 'orders']\n",
    "\n",
    "orders_by_usersB = (\n",
    "    orders[orders['group'] == 'B']\n",
    "    .groupby('visitor_id', as_index=False)\n",
    "    .agg({'transaction_id' : pd.Series.nunique})\n",
    ")\n",
    "orders_by_usersB.columns = ['visitor_id', 'orders']\n",
    "\n",
    "pd.Series(0, index=np.arange(data['visitors_per_dateA'].sum() - len(orders_by_usersA['orders'])), name='orders')\n",
    "\n",
    "# создаём переменные для проверки тестом Манна-Уитни\n",
    "sampleA = pd.concat(\n",
    "    [\n",
    "        orders_by_usersA['orders'],\n",
    "        pd.Series(\n",
    "            0,\n",
    "            index=np.arange(\n",
    "                data['visitors_per_dateA'].sum() - len(orders_by_usersA['orders'])\n",
    "            ),\n",
    "            name='orders',\n",
    "        ),\n",
    "    ],\n",
    "    axis=0,\n",
    ")\n",
    "\n",
    "sampleB = pd.concat(\n",
    "    [\n",
    "        orders_by_usersB['orders'],\n",
    "        pd.Series(\n",
    "            0,\n",
    "            index=np.arange(\n",
    "                data['visitors_per_dateB'].sum() - len(orders_by_usersB['orders'])\n",
    "            ),\n",
    "            name='orders',\n",
    "        ),\n",
    "    ],\n",
    "    axis=0,\n",
    ")"
   ]
  },
  {
   "cell_type": "markdown",
   "id": "19f35a02",
   "metadata": {},
   "source": [
    "Сформулируем гипотезы:\n",
    "* H0 - по сырым данным конверсии групп **A** и **B** равны\n",
    "* H1 - по сырым данным конверсии групп **A** и **B** не равны\n",
    "\n",
    "Уровень значимости установим равным 0.05"
   ]
  },
  {
   "cell_type": "code",
   "execution_count": 27,
   "id": "e07708c4",
   "metadata": {},
   "outputs": [
    {
     "name": "stdout",
     "output_type": "stream",
     "text": [
      "P-value = 0.017\n",
      "Отвергаем нулевую гипотезу: нет оснований считать показатели групп равными\n",
      "Различие B к A равно 13.81%\n"
     ]
    }
   ],
   "source": [
    "# создаём функцию для проверки гипотез\n",
    "# применяем тест Манна-Уитни\n",
    "def hyp_check(a, b):\n",
    "    alpha = 0.05\n",
    "    p_value = st.mannwhitneyu(a, b)[1]\n",
    "    print('P-value = {0:.3f}'.format(p_value))\n",
    "    \n",
    "    if (p_value < alpha):\n",
    "        print('Отвергаем нулевую гипотезу: нет оснований считать показатели групп равными')\n",
    "    else:\n",
    "        print('Не получилось отвергнуть нулевую гипотезу: есть основания считать показатели групп равными')\n",
    "    \n",
    "    print('Различие B к A равно {0:.2%}'.format(b.mean() / a.mean() - 1))\n",
    "    \n",
    "hyp_check(sampleA, sampleB)"
   ]
  },
  {
   "cell_type": "markdown",
   "id": "c8905500",
   "metadata": {},
   "source": [
    "По `\"сырым\"` данным `конверсии` различаются на **13.81%**."
   ]
  },
  {
   "cell_type": "markdown",
   "id": "c14917ff",
   "metadata": {},
   "source": [
    "#### Статистическая значимость различий в среднем чеке заказа между группами по «сырым» данным"
   ]
  },
  {
   "cell_type": "markdown",
   "id": "d3b7c78f",
   "metadata": {},
   "source": [
    "Сформулируем гипотезы:\n",
    "* H0 - по сырым данным средний чек группы **A** равен среднему чеку группы **B**\n",
    "* H1 - по сырым данным средний чек группы **A** не равен среднему чеку группы **B**\n",
    "\n",
    "Уровень значимости установим равным 0.05"
   ]
  },
  {
   "cell_type": "code",
   "execution_count": 28,
   "id": "86bb12f4",
   "metadata": {
    "scrolled": true
   },
   "outputs": [
    {
     "name": "stdout",
     "output_type": "stream",
     "text": [
      "P-value = 0.729\n",
      "Не получилось отвергнуть нулевую гипотезу: есть основания считать показатели групп равными\n",
      "Различие B к A равно 25.87%\n"
     ]
    }
   ],
   "source": [
    "# применяем тест Манна-Уитни\n",
    "hyp_check(orders[orders['group'] == 'A']['revenue'], orders[orders['group'] == 'B']['revenue'])"
   ]
  },
  {
   "cell_type": "markdown",
   "id": "e6cf55db",
   "metadata": {},
   "source": [
    "На средний чек существенно влияют выбросы и, хотя тест говорит о близких значениях средних чеков, по `\"сырым\"` данным `средний чек` различается на **25.87%**."
   ]
  },
  {
   "cell_type": "markdown",
   "id": "eaa8219e",
   "metadata": {},
   "source": [
    "#### Статистическая значимость различий конверсий между группами по «очищенным» данным"
   ]
  },
  {
   "cell_type": "code",
   "execution_count": 29,
   "id": "6b470063",
   "metadata": {},
   "outputs": [
    {
     "name": "stdout",
     "output_type": "stream",
     "text": [
      "Всего аномальных покупателей: 14\n"
     ]
    }
   ],
   "source": [
    "# фильтруем найденных ранее аномальных покупателей из данных\n",
    "users_with_many_orders = pd.concat(\n",
    "    [\n",
    "        orders_by_usersA[orders_by_usersA['orders'] > 4]['visitor_id'],\n",
    "        orders_by_usersB[orders_by_usersB['orders'] > 4]['visitor_id'],\n",
    "    ],\n",
    "    axis=0,\n",
    ")\n",
    "users_with_expensive_orders = orders[orders['revenue'] > 60000]['visitor_id']\n",
    "abnormal_users = (\n",
    "    pd.concat([users_with_many_orders, users_with_expensive_orders], axis=0)\n",
    "    .drop_duplicates()\n",
    "    .sort_values()\n",
    ")\n",
    "print('Всего аномальных покупателей:', abnormal_users.shape[0]) \n",
    "\n",
    "sample_filteredA = pd.concat(\n",
    "    [\n",
    "        orders_by_usersA[\n",
    "            np.logical_not(orders_by_usersA['visitor_id'].isin(abnormal_users))\n",
    "        ]['orders'],\n",
    "        pd.Series(\n",
    "            0,\n",
    "            index=np.arange(\n",
    "                data['visitors_per_dateA'].sum() - len(orders_by_usersA['orders'])\n",
    "            ),\n",
    "            name='orders',\n",
    "        ),\n",
    "    ],\n",
    "    axis=0,\n",
    ")\n",
    "\n",
    "sample_filteredB = pd.concat(\n",
    "    [\n",
    "        orders_by_usersB[\n",
    "            np.logical_not(orders_by_usersB['visitor_id'].isin(abnormal_users))\n",
    "        ]['orders'],\n",
    "        pd.Series(\n",
    "            0,\n",
    "            index=np.arange(\n",
    "                data['visitors_per_dateB'].sum() - len(orders_by_usersB['orders'])\n",
    "            ),\n",
    "            name='orders',\n",
    "        ),\n",
    "    ],\n",
    "    axis=0,\n",
    ") "
   ]
  },
  {
   "cell_type": "markdown",
   "id": "987b2edd",
   "metadata": {},
   "source": [
    "Сформулируем гипотезы:\n",
    "* H0 - по очищенным данным конверсии групп **A** и **B** равны\n",
    "* H1 - по очищенным данным конверсии групп **A** и **B** не равны\n",
    "\n",
    "Уровень значимости установим равным 0.05"
   ]
  },
  {
   "cell_type": "code",
   "execution_count": 30,
   "id": "9ebd9e95",
   "metadata": {
    "scrolled": true
   },
   "outputs": [
    {
     "name": "stdout",
     "output_type": "stream",
     "text": [
      "P-value = 0.013\n",
      "Отвергаем нулевую гипотезу: нет оснований считать показатели групп равными\n",
      "Различие B к A равно 15.51%\n"
     ]
    }
   ],
   "source": [
    "# применяем тест Манна-Уитни\n",
    "hyp_check(sample_filteredA, sample_filteredB)"
   ]
  },
  {
   "cell_type": "markdown",
   "id": "a6c70a7b",
   "metadata": {},
   "source": [
    "После очистки данных `результат не изменился`, а различие в сторону группы **B** даже `увеличилось`."
   ]
  },
  {
   "cell_type": "markdown",
   "id": "11e254f4",
   "metadata": {},
   "source": [
    "#### Статистическая значимость различий в среднем чеке заказа между группами по «очищенным» данным"
   ]
  },
  {
   "cell_type": "markdown",
   "id": "1a32496e",
   "metadata": {},
   "source": [
    "Сформулируем гипотезы:\n",
    "* H0 - по очищенным данным средний чек группы **A** равен среднему чеку группы **B**\n",
    "* H1 - по очищенным данным средний чек группы **A** не равен среднему чеку группы **B**\n",
    "\n",
    "Уровень значимости установим равным 0.05"
   ]
  },
  {
   "cell_type": "code",
   "execution_count": 31,
   "id": "1c5fceb0",
   "metadata": {
    "scrolled": false
   },
   "outputs": [
    {
     "name": "stdout",
     "output_type": "stream",
     "text": [
      "P-value = 0.814\n",
      "Не получилось отвергнуть нулевую гипотезу: есть основания считать показатели групп равными\n",
      "Различие B к A равно 0.74%\n"
     ]
    }
   ],
   "source": [
    "# применяем тест Манна-Уитни\n",
    "hyp_check(\n",
    "    orders[(orders['group'] == 'A') & np.logical_not(orders['visitor_id'].isin(abnormal_users))]['revenue'],\n",
    "    orders[(orders['group'] == 'B') & np.logical_not(orders['visitor_id'].isin(abnormal_users))]['revenue']\n",
    ")"
   ]
  },
  {
   "cell_type": "markdown",
   "id": "b8771242",
   "metadata": {},
   "source": [
    "После очистки данных `процентное различие` существенно `сократилось`, однако сам `результат остался тем же`: гипотезу отвергнуть не получилось, а значит можно считать `средние чеки` в двух группах `равными`."
   ]
  },
  {
   "cell_type": "markdown",
   "id": "4155c743",
   "metadata": {},
   "source": [
    "## Вывод:\n",
    "По итогам исследования выявлено, что есть `статистически значимое различие конверсий` групп **A** и **B**. Данное различие прослеживается как по `сырым`, так и по `очищенным` данным. `Конверсия` группы **B** выше примерно на **15%**.\\\n",
    "Что касается различий по размеру `среднего чека`, то их `не выявлено` ни по `сырым`, ни по `очищенным` данным. Следовательно, можно считать, что `средние чеки` данных групп примерно `равны`.\\\n",
    "Исходя из данной информации, а также из данных графиков `выручки`, `кумулятивной конверсии` и `относительного изменения кумулятивной конверсии`, можно принять решение о **победе группы B** и **остановке теста**."
   ]
  }
 ],
 "metadata": {
  "ExecuteTimeLog": [
   {
    "duration": 1218,
    "start_time": "2023-02-17T13:58:51.659Z"
   },
   {
    "duration": 80,
    "start_time": "2023-02-17T13:58:52.879Z"
   },
   {
    "duration": 11,
    "start_time": "2023-02-17T13:58:52.961Z"
   },
   {
    "duration": 16,
    "start_time": "2023-02-17T13:58:52.975Z"
   },
   {
    "duration": 12,
    "start_time": "2023-02-17T13:58:52.993Z"
   },
   {
    "duration": 12,
    "start_time": "2023-02-17T13:58:53.007Z"
   },
   {
    "duration": 34,
    "start_time": "2023-02-17T13:58:53.021Z"
   },
   {
    "duration": 17,
    "start_time": "2023-02-17T13:58:53.056Z"
   },
   {
    "duration": 12,
    "start_time": "2023-02-17T13:58:53.075Z"
   },
   {
    "duration": 28,
    "start_time": "2023-02-17T13:58:53.089Z"
   },
   {
    "duration": 18,
    "start_time": "2023-02-17T13:58:53.119Z"
   },
   {
    "duration": 23,
    "start_time": "2023-02-17T13:58:53.138Z"
   },
   {
    "duration": 38,
    "start_time": "2023-02-17T13:58:53.163Z"
   },
   {
    "duration": 23,
    "start_time": "2023-02-17T13:58:53.203Z"
   },
   {
    "duration": 18,
    "start_time": "2023-02-17T13:58:53.228Z"
   },
   {
    "duration": 783,
    "start_time": "2023-02-17T13:58:53.249Z"
   },
   {
    "duration": 325,
    "start_time": "2023-02-17T13:58:54.033Z"
   },
   {
    "duration": 417,
    "start_time": "2023-02-17T13:58:54.359Z"
   },
   {
    "duration": 338,
    "start_time": "2023-02-17T13:58:54.778Z"
   },
   {
    "duration": 495,
    "start_time": "2023-02-17T13:58:55.118Z"
   },
   {
    "duration": 206,
    "start_time": "2023-02-17T13:58:55.615Z"
   },
   {
    "duration": 5,
    "start_time": "2023-02-17T13:58:55.823Z"
   },
   {
    "duration": 248,
    "start_time": "2023-02-17T13:58:55.830Z"
   },
   {
    "duration": 4,
    "start_time": "2023-02-17T13:58:56.080Z"
   },
   {
    "duration": 332,
    "start_time": "2023-02-17T13:58:56.086Z"
   },
   {
    "duration": 166,
    "start_time": "2023-02-17T13:58:56.419Z"
   },
   {
    "duration": 25,
    "start_time": "2023-02-17T13:58:56.587Z"
   },
   {
    "duration": 10,
    "start_time": "2023-02-17T13:58:56.615Z"
   },
   {
    "duration": 42,
    "start_time": "2023-02-17T13:58:56.627Z"
   },
   {
    "duration": 40,
    "start_time": "2023-02-17T13:58:56.671Z"
   },
   {
    "duration": 14,
    "start_time": "2023-02-17T13:58:56.713Z"
   }
  ],
  "kernelspec": {
   "display_name": "Python 3 (ipykernel)",
   "language": "python",
   "name": "python3"
  },
  "language_info": {
   "codemirror_mode": {
    "name": "ipython",
    "version": 3
   },
   "file_extension": ".py",
   "mimetype": "text/x-python",
   "name": "python",
   "nbconvert_exporter": "python",
   "pygments_lexer": "ipython3",
   "version": "3.9.18"
  },
  "toc": {
   "base_numbering": 1,
   "nav_menu": {},
   "number_sections": true,
   "sideBar": true,
   "skip_h1_title": true,
   "title_cell": "Table of Contents",
   "title_sidebar": "Contents",
   "toc_cell": false,
   "toc_position": {},
   "toc_section_display": true,
   "toc_window_display": false
  }
 },
 "nbformat": 4,
 "nbformat_minor": 5
}
